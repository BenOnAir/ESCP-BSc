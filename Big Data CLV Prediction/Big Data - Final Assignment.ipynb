{
 "cells": [
  {
   "cell_type": "markdown",
   "metadata": {},
   "source": [
    "# Big Data - Final Assignment"
   ]
  },
  {
   "cell_type": "markdown",
   "metadata": {},
   "source": [
    "This assignment was written with love and passion *(and a huge ~lach~ lack of sleep)* by Benjamin Amar 🦊\n",
    "\n",
    "Delivered for the Big Data elective class Final Assignment in February 2022."
   ]
  },
  {
   "cell_type": "markdown",
   "metadata": {},
   "source": [
    "![](fox.png)"
   ]
  },
  {
   "cell_type": "code",
   "execution_count": 1,
   "metadata": {},
   "outputs": [
    {
     "name": "stdout",
     "output_type": "stream",
     "text": [
      "Populating the interactive namespace from numpy and matplotlib\n"
     ]
    }
   ],
   "source": [
    "#Importing all libraries\n",
    "import pandas as pd\n",
    "%pylab inline\n",
    "import seaborn as sns"
   ]
  },
  {
   "cell_type": "markdown",
   "metadata": {},
   "source": [
    "## Part 1. Exercises\n",
    "\n",
    "#### 1. For a fraud detection task: Define FP and FN, which mistake costs more?\n",
    "\n",
    "**FP** represents **F**alse **P**ositives, meaning that there is no fraud but thinking there is one.\n",
    "<br>**FN** represents **F**alse **N**egatives, meaning that there is a fraud but thinking there is none.\n",
    "\n",
    "This is why in the context of a fraud detection task, a False Negative would cost more to a company than a False Positive.\n",
    "\n",
    "#### 2. Fraud detection model\n",
    "\n",
    "```\n",
    "Recall : TP / (TP + FN) = 0.5\n",
    "Precision : TP / (TP + FP) = 0.8\n",
    "Accuracy : (TP + TN) / (P + N) = 0.95\n",
    "Population : TP + TN + FP + FN = 600\n",
    "```\n",
    "\n",
    "We have a 4 variables equation system that can be resolved.\n",
    "First of all, we will isolate **TP**\n",
    "\n",
    "**Recall :**\n",
    "```\n",
    "TP / (TP + FN) = 0.5\n",
    "<=> TP = 0.5*TP + 0.5*FN\n",
    "<=> 0.5*TP = 0.5*FN\n",
    "<=> TP = FN\n",
    "```\n",
    "\n",
    "**Precision :**\n",
    "```\n",
    "TP / (TP + FP) = 0.8\n",
    "<=> TP = 0.8*TP + 0.8*FP\n",
    "<=> 0.2*TP = 0.8*FP\n",
    "<=> FP = 0.25*TP\n",
    "```\n",
    "\n",
    "**Accuracy :**\n",
    "```\n",
    "(TP + TN) / (P + N) = 0.95\n",
    "<=> TP + TN = 0.95*(P + N)  <---(P+N = 600)\n",
    "<=> TP + TN = 0.95*600\n",
    "```\n",
    "\n",
    "**Population :**\n",
    "```\n",
    "TP + TN + FP + FN = 600\n",
    "<=> 0.95*600 + 0.25*TP + TP = 600\n",
    "<=> TP = (600*0.95+600) / 1.25\n",
    "<=> TP = 24\n",
    "```\n",
    "\n",
    "Now that we have found the value of TP we can deduce the other values.\n",
    "\n",
    "```\n",
    "TP = 24   and   TP = FN   hence   TP = FN = 24\n",
    "FP = 0.25*TP = 6\n",
    "TN = 600 - 24 - 24 - 6 = 546\n",
    "```\n",
    "\n",
    "We can now build the model's confusion matrix"
   ]
  },
  {
   "cell_type": "code",
   "execution_count": 2,
   "metadata": {
    "scrolled": true
   },
   "outputs": [
    {
     "data": {
      "text/html": [
       "<div>\n",
       "<style scoped>\n",
       "    .dataframe tbody tr th:only-of-type {\n",
       "        vertical-align: middle;\n",
       "    }\n",
       "\n",
       "    .dataframe tbody tr th {\n",
       "        vertical-align: top;\n",
       "    }\n",
       "\n",
       "    .dataframe thead tr th {\n",
       "        text-align: left;\n",
       "    }\n",
       "</style>\n",
       "<table border=\"1\" class=\"dataframe\">\n",
       "  <thead>\n",
       "    <tr>\n",
       "      <th></th>\n",
       "      <th></th>\n",
       "      <th colspan=\"2\" halign=\"left\">Real</th>\n",
       "      <th></th>\n",
       "    </tr>\n",
       "    <tr>\n",
       "      <th></th>\n",
       "      <th></th>\n",
       "      <th>-</th>\n",
       "      <th>+</th>\n",
       "      <th>Total</th>\n",
       "    </tr>\n",
       "  </thead>\n",
       "  <tbody>\n",
       "    <tr>\n",
       "      <th rowspan=\"2\" valign=\"top\">Predicted</th>\n",
       "      <th>-</th>\n",
       "      <td>546</td>\n",
       "      <td>24</td>\n",
       "      <td>570</td>\n",
       "    </tr>\n",
       "    <tr>\n",
       "      <th>+</th>\n",
       "      <td>6</td>\n",
       "      <td>24</td>\n",
       "      <td>30</td>\n",
       "    </tr>\n",
       "    <tr>\n",
       "      <th></th>\n",
       "      <th>Total</th>\n",
       "      <td>552</td>\n",
       "      <td>48</td>\n",
       "      <td>600</td>\n",
       "    </tr>\n",
       "  </tbody>\n",
       "</table>\n",
       "</div>"
      ],
      "text/plain": [
       "                Real          \n",
       "                   -   + Total\n",
       "Predicted -      546  24   570\n",
       "          +        6  24    30\n",
       "          Total  552  48   600"
      ]
     },
     "execution_count": 2,
     "metadata": {},
     "output_type": "execute_result"
    }
   ],
   "source": [
    "matrix = pd.DataFrame([[546,24],[6,24]])\n",
    "matrix.loc[\"Total\"] = matrix.sum(axis=0)\n",
    "matrix[\"Total\"] = matrix.sum(axis=1)\n",
    "matrix.columns = pd.MultiIndex.from_tuples([(\"Real\",\"-\"),(\"Real\",\"+\"),(\"\",\"Total\")])\n",
    "matrix.index = pd.MultiIndex.from_tuples([(\"Predicted\",\"-\"),(\"Predicted\",\"+\"),(\"\",\"Total\")])\n",
    "matrix"
   ]
  },
  {
   "cell_type": "markdown",
   "metadata": {},
   "source": [
    "We can interpret that this fraud detection model is not very efficient at **finding all the frauds**, however it is efficient at **detecting real frauds**."
   ]
  },
  {
   "cell_type": "markdown",
   "metadata": {},
   "source": [
    "#### 3. Which of the following regressions has a higher risk of overfitting the data?\n",
    "\n",
    "a. Linear regression using `y=a+b*x` : This model is more likely to be underfitting because it is too simple.\n",
    "<br>In other words, it is important to avoid too simple models that won't be able to represent the phenomenon we are interested in and won't provide good predictions\n",
    "\n",
    "\n",
    "b. Linear regression using `y=a+b*x+c*x2` : This model is the less likely to be overfitting since it is the best compromise for bias and variance\n",
    "\n",
    "\n",
    "c. Linear regression using `y=a+b*x+c*x2+d*x3` : This model is more likely to be overfitting because it is too complex. \n",
    "<br>Such a model will get really good performances on training data but won't be efficient when facing new data.\n",
    "\n",
    "![](Overfitting.jpg)\n",
    "\n",
    "A simple model with low variance will be more likely to be underfitting, having a high bias even on the training data.\n",
    "<br>A complex model with a high variance will be more likely to be overfitting, having a low bias on the training data but high on new data.\n",
    "\n",
    "**The goal here is to find a intermediate model where the prediction bias is the lowest and the generalisation is the best.**\n",
    "\n",
    "    What Overfitting would look like in real life...\n",
    "![](Overfitting.png)"
   ]
  },
  {
   "cell_type": "markdown",
   "metadata": {},
   "source": [
    "## Part 2. Insure-Best Dataset\n",
    "\n",
    "Welcome on this analysis of the Insure-Best dataset where the objective is to train a model that calculates the **CLV** *(Customer's Lifetime Value)*, a value the company needs to score its customers.\n",
    "\n",
    "The datasets consist of 2 datasets : \n",
    "<br>`CLV-Training.csv`, a training dataset containing 8637 customer accounts with their respective CLV\n",
    "<br>`CLV-Test.csv`, a test dataset containing 646 new customer accounts with a CLV to calculate\n",
    "\n",
    "We are first going to work on the Training dataset, watch an overview, clean it, tailor it and then analyse it.\n",
    "<br>Next we will create multiple models and train them after tuning their hyperparameters.\n",
    "<br>Finally we will compare our new results with the training data based on their distribution.\n",
    "\n",
    "The AzureML experiment can be found at the link below:\n",
    "<br>https://gallery.cortanaintelligence.com/Experiment/Big-Data-Final-Assignment-Benjamin-Amar\n",
    "\n",
    "This analysis was performed and written by Benjamin Amar for the Big Data elective final assignment in January and February 2022.\n",
    "\n",
    "🦊"
   ]
  },
  {
   "cell_type": "markdown",
   "metadata": {},
   "source": [
    "# 1.0 Beginning of analysis"
   ]
  },
  {
   "cell_type": "code",
   "execution_count": 3,
   "metadata": {},
   "outputs": [
    {
     "data": {
      "text/html": [
       "<div>\n",
       "<style scoped>\n",
       "    .dataframe tbody tr th:only-of-type {\n",
       "        vertical-align: middle;\n",
       "    }\n",
       "\n",
       "    .dataframe tbody tr th {\n",
       "        vertical-align: top;\n",
       "    }\n",
       "\n",
       "    .dataframe thead th {\n",
       "        text-align: right;\n",
       "    }\n",
       "</style>\n",
       "<table border=\"1\" class=\"dataframe\">\n",
       "  <thead>\n",
       "    <tr style=\"text-align: right;\">\n",
       "      <th></th>\n",
       "      <th>Income</th>\n",
       "      <th>Monthly Premium Auto</th>\n",
       "      <th>Months Since Last Claim</th>\n",
       "      <th>Months Since Policy Inception</th>\n",
       "      <th>Number of Open Complaints</th>\n",
       "      <th>Number of Policies</th>\n",
       "      <th>Total Claim Amount</th>\n",
       "      <th>CLV</th>\n",
       "    </tr>\n",
       "  </thead>\n",
       "  <tbody>\n",
       "    <tr>\n",
       "      <th>count</th>\n",
       "      <td>8637.000000</td>\n",
       "      <td>8637.000000</td>\n",
       "      <td>8637.000000</td>\n",
       "      <td>8637.00000</td>\n",
       "      <td>8637.000000</td>\n",
       "      <td>8637.000000</td>\n",
       "      <td>8637.000000</td>\n",
       "      <td>8637.000000</td>\n",
       "    </tr>\n",
       "    <tr>\n",
       "      <th>mean</th>\n",
       "      <td>37670.275906</td>\n",
       "      <td>93.282853</td>\n",
       "      <td>15.152831</td>\n",
       "      <td>48.02744</td>\n",
       "      <td>0.381614</td>\n",
       "      <td>2.967466</td>\n",
       "      <td>434.529481</td>\n",
       "      <td>7999.903842</td>\n",
       "    </tr>\n",
       "    <tr>\n",
       "      <th>std</th>\n",
       "      <td>30379.553849</td>\n",
       "      <td>34.526547</td>\n",
       "      <td>10.071044</td>\n",
       "      <td>27.88397</td>\n",
       "      <td>0.907881</td>\n",
       "      <td>2.389180</td>\n",
       "      <td>290.536359</td>\n",
       "      <td>6848.774265</td>\n",
       "    </tr>\n",
       "    <tr>\n",
       "      <th>min</th>\n",
       "      <td>0.000000</td>\n",
       "      <td>61.000000</td>\n",
       "      <td>0.000000</td>\n",
       "      <td>0.00000</td>\n",
       "      <td>0.000000</td>\n",
       "      <td>1.000000</td>\n",
       "      <td>0.099007</td>\n",
       "      <td>1898.683686</td>\n",
       "    </tr>\n",
       "    <tr>\n",
       "      <th>25%</th>\n",
       "      <td>0.000000</td>\n",
       "      <td>68.000000</td>\n",
       "      <td>6.000000</td>\n",
       "      <td>24.00000</td>\n",
       "      <td>0.000000</td>\n",
       "      <td>1.000000</td>\n",
       "      <td>272.217171</td>\n",
       "      <td>3997.476302</td>\n",
       "    </tr>\n",
       "    <tr>\n",
       "      <th>50%</th>\n",
       "      <td>33816.000000</td>\n",
       "      <td>83.000000</td>\n",
       "      <td>14.000000</td>\n",
       "      <td>48.00000</td>\n",
       "      <td>0.000000</td>\n",
       "      <td>2.000000</td>\n",
       "      <td>383.797363</td>\n",
       "      <td>5797.604861</td>\n",
       "    </tr>\n",
       "    <tr>\n",
       "      <th>75%</th>\n",
       "      <td>62262.000000</td>\n",
       "      <td>109.000000</td>\n",
       "      <td>23.000000</td>\n",
       "      <td>71.00000</td>\n",
       "      <td>0.000000</td>\n",
       "      <td>4.000000</td>\n",
       "      <td>547.619785</td>\n",
       "      <td>8937.118615</td>\n",
       "    </tr>\n",
       "    <tr>\n",
       "      <th>max</th>\n",
       "      <td>99981.000000</td>\n",
       "      <td>298.000000</td>\n",
       "      <td>35.000000</td>\n",
       "      <td>99.00000</td>\n",
       "      <td>5.000000</td>\n",
       "      <td>9.000000</td>\n",
       "      <td>2893.239678</td>\n",
       "      <td>83325.381190</td>\n",
       "    </tr>\n",
       "  </tbody>\n",
       "</table>\n",
       "</div>"
      ],
      "text/plain": [
       "             Income  Monthly Premium Auto  Months Since Last Claim  \\\n",
       "count   8637.000000           8637.000000              8637.000000   \n",
       "mean   37670.275906             93.282853                15.152831   \n",
       "std    30379.553849             34.526547                10.071044   \n",
       "min        0.000000             61.000000                 0.000000   \n",
       "25%        0.000000             68.000000                 6.000000   \n",
       "50%    33816.000000             83.000000                14.000000   \n",
       "75%    62262.000000            109.000000                23.000000   \n",
       "max    99981.000000            298.000000                35.000000   \n",
       "\n",
       "       Months Since Policy Inception  Number of Open Complaints  \\\n",
       "count                     8637.00000                8637.000000   \n",
       "mean                        48.02744                   0.381614   \n",
       "std                         27.88397                   0.907881   \n",
       "min                          0.00000                   0.000000   \n",
       "25%                         24.00000                   0.000000   \n",
       "50%                         48.00000                   0.000000   \n",
       "75%                         71.00000                   0.000000   \n",
       "max                         99.00000                   5.000000   \n",
       "\n",
       "       Number of Policies  Total Claim Amount           CLV  \n",
       "count         8637.000000         8637.000000   8637.000000  \n",
       "mean             2.967466          434.529481   7999.903842  \n",
       "std              2.389180          290.536359   6848.774265  \n",
       "min              1.000000            0.099007   1898.683686  \n",
       "25%              1.000000          272.217171   3997.476302  \n",
       "50%              2.000000          383.797363   5797.604861  \n",
       "75%              4.000000          547.619785   8937.118615  \n",
       "max              9.000000         2893.239678  83325.381190  "
      ]
     },
     "execution_count": 3,
     "metadata": {},
     "output_type": "execute_result"
    }
   ],
   "source": [
    "#Loading the dataset in memory\n",
    "data = pd.read_csv(\"CLV-Training.csv\")\n",
    "\n",
    "#Displaying all columns of the dataset\n",
    "pd.set_option('display.max_columns', None)\n",
    "data.describe()"
   ]
  },
  {
   "cell_type": "code",
   "execution_count": 4,
   "metadata": {
    "scrolled": false
   },
   "outputs": [
    {
     "name": "stdout",
     "output_type": "stream",
     "text": [
      "<class 'pandas.core.frame.DataFrame'>\n",
      "RangeIndex: 8637 entries, 0 to 8636\n",
      "Data columns (total 23 columns):\n",
      " #   Column                         Non-Null Count  Dtype  \n",
      "---  ------                         --------------  -----  \n",
      " 0   CustomerID                     8637 non-null   object \n",
      " 1   State                          8637 non-null   object \n",
      " 2   Response                       8637 non-null   object \n",
      " 3   Coverage                       8637 non-null   object \n",
      " 4   Education                      8637 non-null   object \n",
      " 5   EmploymentStatus               8637 non-null   object \n",
      " 6   Gender                         8637 non-null   object \n",
      " 7   Income                         8637 non-null   int64  \n",
      " 8   Location Code                  8637 non-null   object \n",
      " 9   Marital Status                 8637 non-null   object \n",
      " 10  Monthly Premium Auto           8637 non-null   int64  \n",
      " 11  Months Since Last Claim        8637 non-null   int64  \n",
      " 12  Months Since Policy Inception  8637 non-null   int64  \n",
      " 13  Number of Open Complaints      8637 non-null   int64  \n",
      " 14  Number of Policies             8637 non-null   int64  \n",
      " 15  Policy Type                    8637 non-null   object \n",
      " 16  Policy                         8637 non-null   object \n",
      " 17  Renew Offer Type               8637 non-null   object \n",
      " 18  Sales Channel                  8637 non-null   object \n",
      " 19  Total Claim Amount             8637 non-null   float64\n",
      " 20  Vehicle Class                  8637 non-null   object \n",
      " 21  Vehicle Size                   8637 non-null   object \n",
      " 22  CLV                            8637 non-null   float64\n",
      "dtypes: float64(2), int64(6), object(15)\n",
      "memory usage: 1.5+ MB\n"
     ]
    }
   ],
   "source": [
    "#Checking the features in the dataset and their associated type\n",
    "data.info()"
   ]
  },
  {
   "cell_type": "markdown",
   "metadata": {},
   "source": [
    "The dataset contains 22 features, categorical and numerical. We will need later to encode the categorical features (Dtype = \"object\") so our model will be able to understand them"
   ]
  },
  {
   "cell_type": "code",
   "execution_count": 5,
   "metadata": {},
   "outputs": [
    {
     "data": {
      "text/html": [
       "<div>\n",
       "<style scoped>\n",
       "    .dataframe tbody tr th:only-of-type {\n",
       "        vertical-align: middle;\n",
       "    }\n",
       "\n",
       "    .dataframe tbody tr th {\n",
       "        vertical-align: top;\n",
       "    }\n",
       "\n",
       "    .dataframe thead th {\n",
       "        text-align: right;\n",
       "    }\n",
       "</style>\n",
       "<table border=\"1\" class=\"dataframe\">\n",
       "  <thead>\n",
       "    <tr style=\"text-align: right;\">\n",
       "      <th></th>\n",
       "      <th>CustomerID</th>\n",
       "      <th>State</th>\n",
       "      <th>Response</th>\n",
       "      <th>Coverage</th>\n",
       "      <th>Education</th>\n",
       "      <th>EmploymentStatus</th>\n",
       "      <th>Gender</th>\n",
       "      <th>Income</th>\n",
       "      <th>Location Code</th>\n",
       "      <th>Marital Status</th>\n",
       "      <th>Monthly Premium Auto</th>\n",
       "      <th>Months Since Last Claim</th>\n",
       "      <th>Months Since Policy Inception</th>\n",
       "      <th>Number of Open Complaints</th>\n",
       "      <th>Number of Policies</th>\n",
       "      <th>Policy Type</th>\n",
       "      <th>Policy</th>\n",
       "      <th>Renew Offer Type</th>\n",
       "      <th>Sales Channel</th>\n",
       "      <th>Total Claim Amount</th>\n",
       "      <th>Vehicle Class</th>\n",
       "      <th>Vehicle Size</th>\n",
       "      <th>CLV</th>\n",
       "    </tr>\n",
       "  </thead>\n",
       "  <tbody>\n",
       "    <tr>\n",
       "      <th>0</th>\n",
       "      <td>QC35222</td>\n",
       "      <td>California</td>\n",
       "      <td>No</td>\n",
       "      <td>Basic</td>\n",
       "      <td>Bachelor</td>\n",
       "      <td>Employed</td>\n",
       "      <td>F</td>\n",
       "      <td>48269</td>\n",
       "      <td>Urban</td>\n",
       "      <td>Married</td>\n",
       "      <td>69</td>\n",
       "      <td>3</td>\n",
       "      <td>79</td>\n",
       "      <td>3</td>\n",
       "      <td>1</td>\n",
       "      <td>Corporate Auto</td>\n",
       "      <td>Corporate L2</td>\n",
       "      <td>Offer3</td>\n",
       "      <td>Web</td>\n",
       "      <td>282.151207</td>\n",
       "      <td>Four-Door Car</td>\n",
       "      <td>Medsize</td>\n",
       "      <td>2683.470677</td>\n",
       "    </tr>\n",
       "    <tr>\n",
       "      <th>1</th>\n",
       "      <td>AE98193</td>\n",
       "      <td>Washington</td>\n",
       "      <td>No</td>\n",
       "      <td>Basic</td>\n",
       "      <td>High School or Below</td>\n",
       "      <td>Unemployed</td>\n",
       "      <td>M</td>\n",
       "      <td>0</td>\n",
       "      <td>Suburban</td>\n",
       "      <td>Single</td>\n",
       "      <td>113</td>\n",
       "      <td>19</td>\n",
       "      <td>10</td>\n",
       "      <td>0</td>\n",
       "      <td>7</td>\n",
       "      <td>Personal Auto</td>\n",
       "      <td>Personal L1</td>\n",
       "      <td>Offer1</td>\n",
       "      <td>Branch</td>\n",
       "      <td>813.600000</td>\n",
       "      <td>SUV</td>\n",
       "      <td>Medsize</td>\n",
       "      <td>7859.414569</td>\n",
       "    </tr>\n",
       "    <tr>\n",
       "      <th>2</th>\n",
       "      <td>TM23514</td>\n",
       "      <td>Oregon</td>\n",
       "      <td>No</td>\n",
       "      <td>Extended</td>\n",
       "      <td>College</td>\n",
       "      <td>Employed</td>\n",
       "      <td>M</td>\n",
       "      <td>60145</td>\n",
       "      <td>Urban</td>\n",
       "      <td>Single</td>\n",
       "      <td>132</td>\n",
       "      <td>8</td>\n",
       "      <td>28</td>\n",
       "      <td>0</td>\n",
       "      <td>3</td>\n",
       "      <td>Personal Auto</td>\n",
       "      <td>Personal L3</td>\n",
       "      <td>Offer3</td>\n",
       "      <td>Web</td>\n",
       "      <td>580.473259</td>\n",
       "      <td>SUV</td>\n",
       "      <td>Medsize</td>\n",
       "      <td>10272.608200</td>\n",
       "    </tr>\n",
       "    <tr>\n",
       "      <th>3</th>\n",
       "      <td>WB38524</td>\n",
       "      <td>California</td>\n",
       "      <td>No</td>\n",
       "      <td>Basic</td>\n",
       "      <td>High School or Below</td>\n",
       "      <td>Employed</td>\n",
       "      <td>M</td>\n",
       "      <td>46131</td>\n",
       "      <td>Suburban</td>\n",
       "      <td>Married</td>\n",
       "      <td>74</td>\n",
       "      <td>27</td>\n",
       "      <td>28</td>\n",
       "      <td>0</td>\n",
       "      <td>1</td>\n",
       "      <td>Personal Auto</td>\n",
       "      <td>Personal L3</td>\n",
       "      <td>Offer2</td>\n",
       "      <td>Branch</td>\n",
       "      <td>355.200000</td>\n",
       "      <td>Two-Door Car</td>\n",
       "      <td>Small</td>\n",
       "      <td>2969.593296</td>\n",
       "    </tr>\n",
       "    <tr>\n",
       "      <th>4</th>\n",
       "      <td>QZ42725</td>\n",
       "      <td>Washington</td>\n",
       "      <td>No</td>\n",
       "      <td>Basic</td>\n",
       "      <td>Bachelor</td>\n",
       "      <td>Unemployed</td>\n",
       "      <td>F</td>\n",
       "      <td>0</td>\n",
       "      <td>Suburban</td>\n",
       "      <td>Single</td>\n",
       "      <td>64</td>\n",
       "      <td>12</td>\n",
       "      <td>24</td>\n",
       "      <td>0</td>\n",
       "      <td>1</td>\n",
       "      <td>Personal Auto</td>\n",
       "      <td>Personal L3</td>\n",
       "      <td>Offer2</td>\n",
       "      <td>Agent</td>\n",
       "      <td>460.800000</td>\n",
       "      <td>Four-Door Car</td>\n",
       "      <td>Medsize</td>\n",
       "      <td>2310.882998</td>\n",
       "    </tr>\n",
       "  </tbody>\n",
       "</table>\n",
       "</div>"
      ],
      "text/plain": [
       "  CustomerID       State Response  Coverage             Education  \\\n",
       "0    QC35222  California       No     Basic              Bachelor   \n",
       "1    AE98193  Washington       No     Basic  High School or Below   \n",
       "2    TM23514      Oregon       No  Extended               College   \n",
       "3    WB38524  California       No     Basic  High School or Below   \n",
       "4    QZ42725  Washington       No     Basic              Bachelor   \n",
       "\n",
       "  EmploymentStatus Gender  Income Location Code Marital Status  \\\n",
       "0         Employed      F   48269         Urban        Married   \n",
       "1       Unemployed      M       0      Suburban         Single   \n",
       "2         Employed      M   60145         Urban         Single   \n",
       "3         Employed      M   46131      Suburban        Married   \n",
       "4       Unemployed      F       0      Suburban         Single   \n",
       "\n",
       "   Monthly Premium Auto  Months Since Last Claim  \\\n",
       "0                    69                        3   \n",
       "1                   113                       19   \n",
       "2                   132                        8   \n",
       "3                    74                       27   \n",
       "4                    64                       12   \n",
       "\n",
       "   Months Since Policy Inception  Number of Open Complaints  \\\n",
       "0                             79                          3   \n",
       "1                             10                          0   \n",
       "2                             28                          0   \n",
       "3                             28                          0   \n",
       "4                             24                          0   \n",
       "\n",
       "   Number of Policies     Policy Type        Policy Renew Offer Type  \\\n",
       "0                   1  Corporate Auto  Corporate L2           Offer3   \n",
       "1                   7   Personal Auto   Personal L1           Offer1   \n",
       "2                   3   Personal Auto   Personal L3           Offer3   \n",
       "3                   1   Personal Auto   Personal L3           Offer2   \n",
       "4                   1   Personal Auto   Personal L3           Offer2   \n",
       "\n",
       "  Sales Channel  Total Claim Amount  Vehicle Class Vehicle Size           CLV  \n",
       "0           Web          282.151207  Four-Door Car      Medsize   2683.470677  \n",
       "1        Branch          813.600000            SUV      Medsize   7859.414569  \n",
       "2           Web          580.473259            SUV      Medsize  10272.608200  \n",
       "3        Branch          355.200000   Two-Door Car        Small   2969.593296  \n",
       "4         Agent          460.800000  Four-Door Car      Medsize   2310.882998  "
      ]
     },
     "execution_count": 5,
     "metadata": {},
     "output_type": "execute_result"
    }
   ],
   "source": [
    "data.head()"
   ]
  },
  {
   "cell_type": "markdown",
   "metadata": {},
   "source": [
    "### Deleted useless features 💔\n",
    "- `CustomerID` : Not bringing any information to the analysis.\n",
    "\n",
    "\n",
    "### Interpretation of features 💡\n",
    "- `Monthly Premium Auto` : Monthly subscription fee\n",
    "- `Response` : Whether if the consumer has accepted or not the offer type (`Renew Offer Type`)\n",
    "- `Months Since Policy Inception` : Months since the beginning of policy/contract"
   ]
  },
  {
   "cell_type": "code",
   "execution_count": 6,
   "metadata": {},
   "outputs": [],
   "source": [
    "data = data.drop(\"CustomerID\", axis = 1)"
   ]
  },
  {
   "cell_type": "markdown",
   "metadata": {},
   "source": [
    "# 1.1 Univariate descriptive statistics"
   ]
  },
  {
   "cell_type": "markdown",
   "metadata": {},
   "source": [
    "## 1.1.a Categorical Features"
   ]
  },
  {
   "cell_type": "markdown",
   "metadata": {},
   "source": [
    "We are starting with categorical features, drawing plots for all of them to find any noticeable information."
   ]
  },
  {
   "cell_type": "code",
   "execution_count": 7,
   "metadata": {
    "scrolled": false
   },
   "outputs": [
    {
     "name": "stdout",
     "output_type": "stream",
     "text": [
      "State\n"
     ]
    },
    {
     "data": {
      "image/png": "[encoded data removed]",
      "text/plain": [
       "<Figure size 432x288 with 1 Axes>"
      ]
     },
     "metadata": {
      "needs_background": "light"
     },
     "output_type": "display_data"
    },
    {
     "name": "stdout",
     "output_type": "stream",
     "text": [
      "{'California': 2990, 'Oregon': 2442, 'Arizona': 1610, 'Nevada': 838, 'Washington': 757}\n",
      "---\n",
      " \n",
      " \n",
      "\n",
      "Response\n"
     ]
    },
    {
     "data": {
      "image/png": "[encoded data removed]",
      "text/plain": [
       "<Figure size 432x288 with 1 Axes>"
      ]
     },
     "metadata": {
      "needs_background": "light"
     },
     "output_type": "display_data"
    },
    {
     "name": "stdout",
     "output_type": "stream",
     "text": [
      "{'No': 7407, 'Yes': 1230}\n",
      "---\n",
      " \n",
      " \n",
      "\n",
      "Coverage\n"
     ]
    },
    {
     "data": {
      "image/png": "[encoded data removed]",
      "text/plain": [
       "<Figure size 432x288 with 1 Axes>"
      ]
     },
     "metadata": {
      "needs_background": "light"
     },
     "output_type": "display_data"
    },
    {
     "name": "stdout",
     "output_type": "stream",
     "text": [
      "{'Basic': 5274, 'Extended': 2591, 'Premium': 772}\n",
      "---\n",
      " \n",
      " \n",
      "\n",
      "Education\n"
     ]
    },
    {
     "data": {
      "image/png": "[encoded data removed]",
      "text/plain": [
       "<Figure size 432x288 with 1 Axes>"
      ]
     },
     "metadata": {
      "needs_background": "light"
     },
     "output_type": "display_data"
    },
    {
     "name": "stdout",
     "output_type": "stream",
     "text": [
      "{'Bachelor': 2584, 'College': 2536, 'High School or Below': 2491, 'Master': 701, 'Doctor': 325}\n",
      "---\n",
      " \n",
      " \n",
      "\n",
      "EmploymentStatus\n"
     ]
    },
    {
     "data": {
      "image/png": "[encoded data removed]",
      "text/plain": [
       "<Figure size 432x288 with 1 Axes>"
      ]
     },
     "metadata": {
      "needs_background": "light"
     },
     "output_type": "display_data"
    },
    {
     "name": "stdout",
     "output_type": "stream",
     "text": [
      "{'Employed': 5386, 'Unemployed': 2184, 'Medical Leave': 414, 'Disabled': 382, 'Retired': 271}\n",
      "---\n",
      " \n",
      " \n",
      "\n",
      "Gender\n"
     ]
    },
    {
     "data": {
      "image/png": "[encoded data removed]",
      "text/plain": [
       "<Figure size 432x288 with 1 Axes>"
      ]
     },
     "metadata": {
      "needs_background": "light"
     },
     "output_type": "display_data"
    },
    {
     "name": "stdout",
     "output_type": "stream",
     "text": [
      "{'F': 4388, 'M': 4249}\n",
      "---\n",
      " \n",
      " \n",
      "\n",
      "Location Code\n"
     ]
    },
    {
     "data": {
      "image/png": "[encoded data removed]",
      "text/plain": [
       "<Figure size 432x288 with 1 Axes>"
      ]
     },
     "metadata": {
      "needs_background": "light"
     },
     "output_type": "display_data"
    },
    {
     "name": "stdout",
     "output_type": "stream",
     "text": [
      "{'Suburban': 5459, 'Rural': 1675, 'Urban': 1503}\n",
      "---\n",
      " \n",
      " \n",
      "\n",
      "Marital Status\n"
     ]
    },
    {
     "data": {
      "image/png": "[encoded data removed]",
      "text/plain": [
       "<Figure size 432x288 with 1 Axes>"
      ]
     },
     "metadata": {
      "needs_background": "light"
     },
     "output_type": "display_data"
    },
    {
     "name": "stdout",
     "output_type": "stream",
     "text": [
      "{'Married': 5031, 'Single': 2321, 'Divorced': 1285}\n",
      "---\n",
      " \n",
      " \n",
      "\n",
      "Policy Type\n"
     ]
    },
    {
     "data": {
      "image/png": "[encoded data removed]",
      "text/plain": [
       "<Figure size 432x288 with 1 Axes>"
      ]
     },
     "metadata": {
      "needs_background": "light"
     },
     "output_type": "display_data"
    },
    {
     "name": "stdout",
     "output_type": "stream",
     "text": [
      "{'Personal Auto': 6434, 'Corporate Auto': 1847, 'Special Auto': 356}\n",
      "---\n",
      " \n",
      " \n",
      "\n",
      "Policy\n"
     ]
    },
    {
     "data": {
      "image/png": "[encoded data removed]",
      "text/plain": [
       "<Figure size 432x288 with 1 Axes>"
      ]
     },
     "metadata": {
      "needs_background": "light"
     },
     "output_type": "display_data"
    },
    {
     "name": "stdout",
     "output_type": "stream",
     "text": [
      "{'Personal L3': 3248, 'Personal L2': 2009, 'Personal L1': 1177, 'Corporate L3': 951, 'Corporate L2': 552, 'Corporate L1': 344, 'Special L2': 149, 'Special L3': 143, 'Special L1': 64}\n",
      "---\n",
      " \n",
      " \n",
      "\n",
      "Renew Offer Type\n"
     ]
    },
    {
     "data": {
      "image/png": "[encoded data removed]",
      "text/plain": [
       "<Figure size 432x288 with 1 Axes>"
      ]
     },
     "metadata": {
      "needs_background": "light"
     },
     "output_type": "display_data"
    },
    {
     "name": "stdout",
     "output_type": "stream",
     "text": [
      "{'Offer1': 3551, 'Offer2': 2761, 'Offer3': 1356, 'Offer4': 969}\n",
      "---\n",
      " \n",
      " \n",
      "\n",
      "Sales Channel\n"
     ]
    },
    {
     "data": {
      "image/png": "[encoded data removed]",
      "text/plain": [
       "<Figure size 432x288 with 1 Axes>"
      ]
     },
     "metadata": {
      "needs_background": "light"
     },
     "output_type": "display_data"
    },
    {
     "name": "stdout",
     "output_type": "stream",
     "text": [
      "{'Agent': 3283, 'Branch': 2431, 'Call Center': 1655, 'Web': 1268}\n",
      "---\n",
      " \n",
      " \n",
      "\n",
      "Vehicle Class\n"
     ]
    },
    {
     "data": {
      "image/png": "[encoded data removed]",
      "text/plain": [
       "<Figure size 432x288 with 1 Axes>"
      ]
     },
     "metadata": {
      "needs_background": "light"
     },
     "output_type": "display_data"
    },
    {
     "name": "stdout",
     "output_type": "stream",
     "text": [
      "{'Four-Door Car': 4373, 'Two-Door Car': 1767, 'SUV': 1694, 'Sports Car': 471, 'Luxury SUV': 177, 'Luxury Car': 155}\n",
      "---\n",
      " \n",
      " \n",
      "\n",
      "Vehicle Size\n"
     ]
    },
    {
     "data": {
      "image/png": "[encoded data removed]",
      "text/plain": [
       "<Figure size 432x288 with 1 Axes>"
      ]
     },
     "metadata": {
      "needs_background": "light"
     },
     "output_type": "display_data"
    },
    {
     "name": "stdout",
     "output_type": "stream",
     "text": [
      "{'Medsize': 6084, 'Small': 1666, 'Large': 887}\n",
      "---\n",
      " \n",
      " \n",
      "\n"
     ]
    }
   ],
   "source": [
    "categorical_features = data.select_dtypes(include='object').columns\n",
    "\n",
    "for c in categorical_features :\n",
    "    sns.countplot(data=data,x=c)\n",
    "    plt.xticks(rotation=90)\n",
    "    print(c)\n",
    "    plt.show()\n",
    "    print(data[c].value_counts().to_dict())\n",
    "    print(\"---\\n \\n \\n\")"
   ]
  },
  {
   "cell_type": "markdown",
   "metadata": {},
   "source": [
    "### Interpretation\n",
    "\n",
    "`State` : The majority of the population is based in California and Oregon\n",
    "\n",
    "`Response` : Most of the responses are No\n",
    "\n",
    "`Education` : Bachelor, High School or below and College are approximatively the same amount where Master and Doctor are in a very small amount.\n",
    "\n",
    "`Gender` : There is an even amount of Females and Males\n",
    "\n",
    "`Location Code` : The majority of the customers are located in Suburbian areas\n",
    "\n",
    "`Marital Status` : Majority of Married accounts\n",
    "\n",
    "`Policy Type` + `Policy` : Majority of Personal Auto L3\n",
    "\n",
    "`Renew Offer Type` : The most sent renew offers were Offer1 and Offer2 (read *1.2.a* for a contingency table with the offer types and their status)\n",
    "\n",
    "`Vehicle Class` : High majority of Four-Door Cars\n",
    "\n",
    "`Vehicle Size` : High Majority of medium sized vehicles"
   ]
  },
  {
   "cell_type": "markdown",
   "metadata": {},
   "source": [
    "## 1.1.b Numerical Features"
   ]
  },
  {
   "cell_type": "code",
   "execution_count": 8,
   "metadata": {
    "scrolled": false
   },
   "outputs": [
    {
     "name": "stdout",
     "output_type": "stream",
     "text": [
      "Variable : Income\n",
      "\n",
      "Central tendency measurement :\n",
      " * Mean:  37670.27590598587\n",
      " * Median:  33816.0\n",
      "Dispersion measurement :\n",
      " * Variance:  922810435.8600599\n",
      " * Standard deviation:  30377.79511189151\n",
      "Shape measurement :\n",
      " * Skewness:  0.29011410257692105\n",
      " * Kurtosis:  -1.0891946355853834\n",
      "P1 and P99 :\n",
      " * P1:  0.0\n",
      " * P25:  0.0\n",
      " * P75:  62262.0\n",
      " * P95:  90779.0\n",
      " * P99:  97861.15999999999\n"
     ]
    },
    {
     "data": {
      "image/png": "[encoded data removed]",
      "text/plain": [
       "<Figure size 432x72 with 1 Axes>"
      ]
     },
     "metadata": {
      "needs_background": "light"
     },
     "output_type": "display_data"
    },
    {
     "data": {
      "image/png": "[encoded data removed]",
      "text/plain": [
       "<Figure size 360x360 with 1 Axes>"
      ]
     },
     "metadata": {
      "needs_background": "light"
     },
     "output_type": "display_data"
    },
    {
     "name": "stdout",
     "output_type": "stream",
     "text": [
      "---\n",
      "\n",
      "\n",
      "\n",
      "\n",
      "\n",
      "Variable : Monthly Premium Auto\n",
      "\n",
      "Central tendency measurement :\n",
      " * Mean:  93.28285284242213\n",
      " * Median:  83.0\n",
      "Dispersion measurement :\n",
      " * Variance:  1191.9444240483986\n",
      " * Standard deviation:  34.52454813677362\n",
      "Shape measurement :\n",
      " * Skewness:  2.1195536219998883\n",
      " * Kurtosis:  6.147187703445288\n",
      "P1 and P99 :\n",
      " * P1:  61.0\n",
      " * P25:  68.0\n",
      " * P75:  109.0\n",
      " * P95:  165.0\n",
      " * P99:  229.0\n"
     ]
    },
    {
     "data": {
      "image/png": "[encoded data removed]",
      "text/plain": [
       "<Figure size 432x72 with 1 Axes>"
      ]
     },
     "metadata": {
      "needs_background": "light"
     },
     "output_type": "display_data"
    },
    {
     "data": {
      "image/png": "[encoded data removed]",
      "text/plain": [
       "<Figure size 360x360 with 1 Axes>"
      ]
     },
     "metadata": {
      "needs_background": "light"
     },
     "output_type": "display_data"
    },
    {
     "name": "stdout",
     "output_type": "stream",
     "text": [
      "---\n",
      "\n",
      "\n",
      "\n",
      "\n",
      "\n",
      "Variable : Months Since Last Claim\n",
      "\n",
      "Central tendency measurement :\n",
      " * Mean:  15.15283084404307\n",
      " * Median:  14.0\n",
      "Dispersion measurement :\n",
      " * Variance:  101.41417891465221\n",
      " * Standard deviation:  10.070460710148877\n",
      "Shape measurement :\n",
      " * Skewness:  0.27208977532080153\n",
      " * Kurtosis:  -1.074081653463793\n",
      "P1 and P99 :\n",
      " * P1:  0.0\n",
      " * P25:  6.0\n",
      " * P75:  23.0\n",
      " * P95:  33.0\n",
      " * P99:  35.0\n"
     ]
    },
    {
     "data": {
      "image/png": "[encoded data removed]",
      "text/plain": [
       "<Figure size 432x72 with 1 Axes>"
      ]
     },
     "metadata": {
      "needs_background": "light"
     },
     "output_type": "display_data"
    },
    {
     "data": {
      "image/png": "[encoded data removed]",
      "text/plain": [
       "<Figure size 360x360 with 1 Axes>"
      ]
     },
     "metadata": {
      "needs_background": "light"
     },
     "output_type": "display_data"
    },
    {
     "name": "stdout",
     "output_type": "stream",
     "text": [
      "---\n",
      "\n",
      "\n",
      "\n",
      "\n",
      "\n",
      "Variable : Months Since Policy Inception\n",
      "\n",
      "Central tendency measurement :\n",
      " * Mean:  48.02744008336228\n",
      " * Median:  48.0\n",
      "Dispersion measurement :\n",
      " * Variance:  777.4257840338369\n",
      " * Standard deviation:  27.882356142080905\n",
      "Shape measurement :\n",
      " * Skewness:  0.04433624691340209\n",
      " * Kurtosis:  -1.1349778673084285\n",
      "P1 and P99 :\n",
      " * P1:  1.0\n",
      " * P25:  24.0\n",
      " * P75:  71.0\n",
      " * P95:  93.0\n",
      " * P99:  98.0\n"
     ]
    },
    {
     "data": {
      "image/png": "[encoded data removed]",
      "text/plain": [
       "<Figure size 432x72 with 1 Axes>"
      ]
     },
     "metadata": {
      "needs_background": "light"
     },
     "output_type": "display_data"
    },
    {
     "data": {
      "image/png": "[encoded data removed]",
      "text/plain": [
       "<Figure size 360x360 with 1 Axes>"
      ]
     },
     "metadata": {
      "needs_background": "light"
     },
     "output_type": "display_data"
    },
    {
     "name": "stdout",
     "output_type": "stream",
     "text": [
      "---\n",
      "\n",
      "\n",
      "\n",
      "\n",
      "\n",
      "Variable : Number of Open Complaints\n",
      "\n",
      "Central tendency measurement :\n",
      " * Mean:  0.38161398633784877\n",
      " * Median:  0.0\n",
      "Dispersion measurement :\n",
      " * Variance:  0.8241519394500156\n",
      " * Standard deviation:  0.9078281442266568\n",
      "Shape measurement :\n",
      " * Skewness:  2.7962926698994366\n",
      " * Kurtosis:  7.826530307528902\n",
      "P1 and P99 :\n",
      " * P1:  0.0\n",
      " * P25:  0.0\n",
      " * P75:  0.0\n",
      " * P95:  3.0\n",
      " * P99:  4.0\n"
     ]
    },
    {
     "data": {
      "image/png": "[encoded data removed]",
      "text/plain": [
       "<Figure size 432x72 with 1 Axes>"
      ]
     },
     "metadata": {
      "needs_background": "light"
     },
     "output_type": "display_data"
    },
    {
     "data": {
      "image/png": "[encoded data removed]",
      "text/plain": [
       "<Figure size 360x360 with 1 Axes>"
      ]
     },
     "metadata": {
      "needs_background": "light"
     },
     "output_type": "display_data"
    },
    {
     "name": "stdout",
     "output_type": "stream",
     "text": [
      "---\n",
      "\n",
      "\n",
      "\n",
      "\n",
      "\n",
      "Variable : Number of Policies\n",
      "\n",
      "Central tendency measurement :\n",
      " * Mean:  2.967465555169619\n",
      " * Median:  2.0\n",
      "Dispersion measurement :\n",
      " * Variance:  5.707520877735846\n",
      " * Standard deviation:  2.3890418325629725\n",
      "Shape measurement :\n",
      " * Skewness:  1.2514265227049022\n",
      " * Kurtosis:  0.363066954117353\n",
      "P1 and P99 :\n",
      " * P1:  1.0\n",
      " * P25:  1.0\n",
      " * P75:  4.0\n",
      " * P95:  8.0\n",
      " * P99:  9.0\n"
     ]
    },
    {
     "data": {
      "image/png": "[encoded data removed]",
      "text/plain": [
       "<Figure size 432x72 with 1 Axes>"
      ]
     },
     "metadata": {
      "needs_background": "light"
     },
     "output_type": "display_data"
    },
    {
     "data": {
      "image/png": "[encoded data removed]",
      "text/plain": [
       "<Figure size 360x360 with 1 Axes>"
      ]
     },
     "metadata": {
      "needs_background": "light"
     },
     "output_type": "display_data"
    },
    {
     "name": "stdout",
     "output_type": "stream",
     "text": [
      "---\n",
      "\n",
      "\n",
      "\n",
      "\n",
      "\n",
      "Variable : Total Claim Amount\n",
      "\n",
      "Central tendency measurement :\n",
      " * Mean:  434.5294812961669\n",
      " * Median:  383.79736299999996\n",
      "Dispersion measurement :\n",
      " * Variance:  84401.60255904608\n",
      " * Standard deviation:  290.51953903144977\n",
      "Shape measurement :\n",
      " * Skewness:  1.7027133163260957\n",
      " * Kurtosis:  5.8568568619409955\n",
      "P1 and P99 :\n",
      " * P1:  10.44176324\n",
      " * P25:  272.217171\n",
      " * P75:  547.619785\n",
      " * P95:  962.6306503999974\n",
      " * P99:  1405.14020356\n"
     ]
    },
    {
     "data": {
      "image/png": "[encoded data removed]",
      "text/plain": [
       "<Figure size 432x72 with 1 Axes>"
      ]
     },
     "metadata": {
      "needs_background": "light"
     },
     "output_type": "display_data"
    },
    {
     "data": {
      "image/png": "[encoded data removed]",
      "text/plain": [
       "<Figure size 360x360 with 1 Axes>"
      ]
     },
     "metadata": {
      "needs_background": "light"
     },
     "output_type": "display_data"
    },
    {
     "name": "stdout",
     "output_type": "stream",
     "text": [
      "---\n",
      "\n",
      "\n",
      "\n",
      "\n",
      "\n",
      "Variable : CLV\n",
      "\n",
      "Central tendency measurement :\n",
      " * Mean:  7999.90384160275\n",
      " * Median:  5797.604861\n",
      "Dispersion measurement :\n",
      " * Variance:  46900278.14599537\n",
      " * Standard deviation:  6848.3777747723125\n",
      "Shape measurement :\n",
      " * Skewness:  3.0201735252388295\n",
      " * Kurtosis:  13.767969612870852\n",
      "P1 and P99 :\n",
      " * P1:  2231.12680436\n",
      " * P25:  3997.4763020000005\n",
      " * P75:  8937.118615000001\n",
      " * P95:  22095.59438399999\n",
      " * P99:  35928.64222559998\n"
     ]
    },
    {
     "data": {
      "image/png": "[encoded data removed]",
      "text/plain": [
       "<Figure size 432x72 with 1 Axes>"
      ]
     },
     "metadata": {
      "needs_background": "light"
     },
     "output_type": "display_data"
    },
    {
     "data": {
      "image/png": "[encoded data removed]",
      "text/plain": [
       "<Figure size 360x360 with 1 Axes>"
      ]
     },
     "metadata": {
      "needs_background": "light"
     },
     "output_type": "display_data"
    },
    {
     "name": "stdout",
     "output_type": "stream",
     "text": [
      "---\n",
      "\n",
      "\n",
      "\n",
      "\n",
      "\n"
     ]
    },
    {
     "data": {
      "text/html": [
       "<div>\n",
       "<style scoped>\n",
       "    .dataframe tbody tr th:only-of-type {\n",
       "        vertical-align: middle;\n",
       "    }\n",
       "\n",
       "    .dataframe tbody tr th {\n",
       "        vertical-align: top;\n",
       "    }\n",
       "\n",
       "    .dataframe thead th {\n",
       "        text-align: right;\n",
       "    }\n",
       "</style>\n",
       "<table border=\"1\" class=\"dataframe\">\n",
       "  <thead>\n",
       "    <tr style=\"text-align: right;\">\n",
       "      <th></th>\n",
       "      <th>Income</th>\n",
       "      <th>Monthly Premium Auto</th>\n",
       "      <th>Months Since Last Claim</th>\n",
       "      <th>Months Since Policy Inception</th>\n",
       "      <th>Number of Open Complaints</th>\n",
       "      <th>Number of Policies</th>\n",
       "      <th>Total Claim Amount</th>\n",
       "      <th>CLV</th>\n",
       "    </tr>\n",
       "  </thead>\n",
       "  <tbody>\n",
       "    <tr>\n",
       "      <th>count</th>\n",
       "      <td>8637.000000</td>\n",
       "      <td>8637.000000</td>\n",
       "      <td>8637.000000</td>\n",
       "      <td>8637.00000</td>\n",
       "      <td>8637.000000</td>\n",
       "      <td>8637.000000</td>\n",
       "      <td>8637.000000</td>\n",
       "      <td>8637.000000</td>\n",
       "    </tr>\n",
       "    <tr>\n",
       "      <th>mean</th>\n",
       "      <td>37670.275906</td>\n",
       "      <td>93.282853</td>\n",
       "      <td>15.152831</td>\n",
       "      <td>48.02744</td>\n",
       "      <td>0.381614</td>\n",
       "      <td>2.967466</td>\n",
       "      <td>434.529481</td>\n",
       "      <td>7999.903842</td>\n",
       "    </tr>\n",
       "    <tr>\n",
       "      <th>std</th>\n",
       "      <td>30379.553849</td>\n",
       "      <td>34.526547</td>\n",
       "      <td>10.071044</td>\n",
       "      <td>27.88397</td>\n",
       "      <td>0.907881</td>\n",
       "      <td>2.389180</td>\n",
       "      <td>290.536359</td>\n",
       "      <td>6848.774265</td>\n",
       "    </tr>\n",
       "    <tr>\n",
       "      <th>min</th>\n",
       "      <td>0.000000</td>\n",
       "      <td>61.000000</td>\n",
       "      <td>0.000000</td>\n",
       "      <td>0.00000</td>\n",
       "      <td>0.000000</td>\n",
       "      <td>1.000000</td>\n",
       "      <td>0.099007</td>\n",
       "      <td>1898.683686</td>\n",
       "    </tr>\n",
       "    <tr>\n",
       "      <th>25%</th>\n",
       "      <td>0.000000</td>\n",
       "      <td>68.000000</td>\n",
       "      <td>6.000000</td>\n",
       "      <td>24.00000</td>\n",
       "      <td>0.000000</td>\n",
       "      <td>1.000000</td>\n",
       "      <td>272.217171</td>\n",
       "      <td>3997.476302</td>\n",
       "    </tr>\n",
       "    <tr>\n",
       "      <th>50%</th>\n",
       "      <td>33816.000000</td>\n",
       "      <td>83.000000</td>\n",
       "      <td>14.000000</td>\n",
       "      <td>48.00000</td>\n",
       "      <td>0.000000</td>\n",
       "      <td>2.000000</td>\n",
       "      <td>383.797363</td>\n",
       "      <td>5797.604861</td>\n",
       "    </tr>\n",
       "    <tr>\n",
       "      <th>75%</th>\n",
       "      <td>62262.000000</td>\n",
       "      <td>109.000000</td>\n",
       "      <td>23.000000</td>\n",
       "      <td>71.00000</td>\n",
       "      <td>0.000000</td>\n",
       "      <td>4.000000</td>\n",
       "      <td>547.619785</td>\n",
       "      <td>8937.118615</td>\n",
       "    </tr>\n",
       "    <tr>\n",
       "      <th>max</th>\n",
       "      <td>99981.000000</td>\n",
       "      <td>298.000000</td>\n",
       "      <td>35.000000</td>\n",
       "      <td>99.00000</td>\n",
       "      <td>5.000000</td>\n",
       "      <td>9.000000</td>\n",
       "      <td>2893.239678</td>\n",
       "      <td>83325.381190</td>\n",
       "    </tr>\n",
       "  </tbody>\n",
       "</table>\n",
       "</div>"
      ],
      "text/plain": [
       "             Income  Monthly Premium Auto  Months Since Last Claim  \\\n",
       "count   8637.000000           8637.000000              8637.000000   \n",
       "mean   37670.275906             93.282853                15.152831   \n",
       "std    30379.553849             34.526547                10.071044   \n",
       "min        0.000000             61.000000                 0.000000   \n",
       "25%        0.000000             68.000000                 6.000000   \n",
       "50%    33816.000000             83.000000                14.000000   \n",
       "75%    62262.000000            109.000000                23.000000   \n",
       "max    99981.000000            298.000000                35.000000   \n",
       "\n",
       "       Months Since Policy Inception  Number of Open Complaints  \\\n",
       "count                     8637.00000                8637.000000   \n",
       "mean                        48.02744                   0.381614   \n",
       "std                         27.88397                   0.907881   \n",
       "min                          0.00000                   0.000000   \n",
       "25%                         24.00000                   0.000000   \n",
       "50%                         48.00000                   0.000000   \n",
       "75%                         71.00000                   0.000000   \n",
       "max                         99.00000                   5.000000   \n",
       "\n",
       "       Number of Policies  Total Claim Amount           CLV  \n",
       "count         8637.000000         8637.000000   8637.000000  \n",
       "mean             2.967466          434.529481   7999.903842  \n",
       "std              2.389180          290.536359   6848.774265  \n",
       "min              1.000000            0.099007   1898.683686  \n",
       "25%              1.000000          272.217171   3997.476302  \n",
       "50%              2.000000          383.797363   5797.604861  \n",
       "75%              4.000000          547.619785   8937.118615  \n",
       "max              9.000000         2893.239678  83325.381190  "
      ]
     },
     "execution_count": 8,
     "metadata": {},
     "output_type": "execute_result"
    }
   ],
   "source": [
    "numerical_features = data.select_dtypes(include=np.number).columns\n",
    "\n",
    "for c in numerical_features :\n",
    "    print(f\"Variable : {c}\\n\")\n",
    "    print(\"Central tendency measurement :\")\n",
    "    print(\" * Mean: \",data[c].mean())\n",
    "    print(\" * Median: \",data[c].median())\n",
    "    print(\"Dispersion measurement :\")\n",
    "    print(\" * Variance: \",data[c].var(ddof=0))\n",
    "    print(\" * Standard deviation: \",data[c].std(ddof=0))\n",
    "    print(\"Shape measurement :\")\n",
    "    print(\" * Skewness: \",data[c].skew())\n",
    "    print(\" * Kurtosis: \",data[c].kurtosis())\n",
    "    print(\"P1 and P99 :\")\n",
    "    print(\" * P1: \",data[c].quantile(0.01))\n",
    "    print(\" * P25: \",data[c].quantile(0.25))\n",
    "    print(\" * P75: \",data[c].quantile(0.75))\n",
    "    print(\" * P95: \",data[c].quantile(0.95))\n",
    "    print(\" * P99: \",data[c].quantile(0.99))\n",
    "    plt.figure(figsize=(6, 1))\n",
    "    sns.boxplot(x=c, data=data)\n",
    "    plt.xlabel(c)\n",
    "    plt.show()\n",
    "    sns.displot(x=c, data=data, kde=True)\n",
    "    plt.show()\n",
    "    print(\"---\\n\\n\\n\\n\\n\")\n",
    "\n",
    "data[numerical_features].describe()"
   ]
  },
  {
   "cell_type": "markdown",
   "metadata": {},
   "source": [
    "### Interpretation\n",
    "\n",
    "`Income` : Values are mostly distributed between 0\\\\$ (unemployed) and 60000\\\\$ with a median of 33816\\\\$\n",
    "<br>The amount of Income = 0 is the same as Unemployed customers.\n",
    "\n",
    "`Monthly Premium Auto` : This data needs to be explained since there is a huge amount of outliers to the right since we can't interpret them with this few amount of information. The mean of monthly subscription fee is 93\\\\$ and ranged between 60\\\\$ and 300\\\\$\n",
    "\n",
    "`Months since Last Claim` : The majority of claims are happening before 20 months.\n",
    "\n",
    "`Number of Open Complaints` : The high majority of accounts don't have open complaints, this can be seen on the boxplot where number of complaints higher than 0 are showed as outliers.\n",
    "\n",
    "`Months since Policy Inception` : Looking at the shape of the slope and metrics, we can see a skewness of 0.04,  so the values are symmetrically distributed.\n",
    "<br>The negative kurtosis means that our slope is platykurtic, hence the flattened shape.\n",
    "\n",
    "`Number of Policies` : Most of the customers renewed their policies 2 or 3 times.\n",
    "\n",
    "`Total Claim Amount` : The majority of the claims are between 250\\\\$ and 550\\\\$, however a huge amount of outliers are visible between 900\\\\$ and 3000\\\\$\n",
    "<br>The P95 is 962\\\\$ meaning that the outliers are representing 5\\% of the claims.\n",
    "\n",
    "`CLV` : The score feature we need to analyze. **This is the key feature of the dataset.**\n",
    "<br>The mean is around 8000 correlating with the 8000 default value used in the test dataset.\n",
    "<br>The median is situated around 5800, and 75% of the values are below 9000.\n",
    "<br>A high CLV is rare, only 15% of the dataset.\n",
    "<br>The highest CLV are very rare representing only 5% of the values higher than 22000."
   ]
  },
  {
   "cell_type": "markdown",
   "metadata": {},
   "source": [
    "# 1.2 Bivariate descriptive statistics"
   ]
  },
  {
   "cell_type": "markdown",
   "metadata": {},
   "source": [
    "## 1.2.a Numerical Features"
   ]
  },
  {
   "cell_type": "code",
   "execution_count": 9,
   "metadata": {},
   "outputs": [
    {
     "data": {
      "text/plain": [
       "Text(0.5, 1.0, 'Features correlation matrix')"
      ]
     },
     "execution_count": 9,
     "metadata": {},
     "output_type": "execute_result"
    },
    {
     "data": {
      "image/png": "[encoded data removed]",
      "text/plain": [
       "<Figure size 1080x1080 with 2 Axes>"
      ]
     },
     "metadata": {
      "needs_background": "light"
     },
     "output_type": "display_data"
    }
   ],
   "source": [
    "#Creating a correlation map between the numerical features\n",
    "corr_matrix = data.corr()\n",
    "mask = np.triu(corr_matrix)\n",
    "plt.figure(figsize=(15,15))\n",
    "sns.heatmap(corr_matrix, cmap='coolwarm', mask=mask, linewidths=.5, cbar=True, square=True, annot=True, fmt=\".2f\")\n",
    "plt.title(\"Features correlation matrix\")"
   ]
  },
  {
   "cell_type": "markdown",
   "metadata": {},
   "source": [
    "The upper features correlation matrix highlists the correlations that can exist between numerical features.\n",
    "\n",
    "The table indicates correlations based on an index represented by a temperature color. The warmer the color, the higher the **positive** correlation is.\n",
    "<br>The colder the color, the higher the **negative** correlation is.\n",
    "\n",
    "This index is called the Pearson correlation coefficient, r, taking a range from +1 to -1, a value of 0 indicating that there is no association between the two variables.\n",
    "\n",
    "    As we can see 4 cells give information about correlations.\n",
    "\n",
    "- A negative correlation between `Total Claim Amount` and `Income`.\n",
    "    This means that the higher the customer income is, the less money is going to be claimed when a complaint is opened.\n",
    "    \n",
    "- A small positive correlation between `Total Claim Amount` and `CLV`.\n",
    "    We can understand that the calculation method for the CLV is quite dependant on the `Total Claim Amount` since the higher the amount, the higher the CLV.\n",
    "    \n",
    "- A positive correlation between `Monthly Premium Auto` and `CLV`.\n",
    "    Exactly like the previous correlation, the higher amount of money the customer will pay for an insurance, the higher the CLV will be.\n",
    "   \n",
    "- A strong correlation between `Total Claim Amount` and `Monthly Premium Auto`.\n",
    "    This means that the higher the customer is paying every month for an insurance, the higher the amount of money will be claimed for."
   ]
  },
  {
   "cell_type": "code",
   "execution_count": 10,
   "metadata": {
    "scrolled": true
   },
   "outputs": [
    {
     "data": {
      "text/plain": [
       "(0.09900700000000001, 2893.239678)"
      ]
     },
     "execution_count": 10,
     "metadata": {},
     "output_type": "execute_result"
    },
    {
     "data": {
      "image/png": "[encoded data removed]",
      "text/plain": [
       "<Figure size 432x288 with 1 Axes>"
      ]
     },
     "metadata": {
      "needs_background": "light"
     },
     "output_type": "display_data"
    }
   ],
   "source": [
    "#Building scatterplot to find correlations between two numerical features\n",
    "c1 = \"Monthly Premium Auto\"\n",
    "c2 = \"Total Claim Amount\"\n",
    "\n",
    "sns.scatterplot(x=c1, y=c2, data=data)\n",
    "plt.xlim(data[c1].min(), data[c1].max())\n",
    "plt.ylim(data[c2].min(), data[c2].max())"
   ]
  },
  {
   "cell_type": "markdown",
   "metadata": {},
   "source": [
    "We draw a scatterplot between `Monthly Premium Auto` and `Total Claim Amount` to find any correlations.\n",
    "\n",
    "We can definitely see two lines in the graph that may represent a subscription model offer for customers."
   ]
  },
  {
   "cell_type": "code",
   "execution_count": 11,
   "metadata": {
    "scrolled": true
   },
   "outputs": [
    {
     "data": {
      "text/plain": [
       "Text(0, 0.5, 'Policy')"
      ]
     },
     "execution_count": 11,
     "metadata": {},
     "output_type": "execute_result"
    },
    {
     "data": {
      "image/png": "[encoded data removed]",
      "text/plain": [
       "<Figure size 432x288 with 1 Axes>"
      ]
     },
     "metadata": {
      "needs_background": "light"
     },
     "output_type": "display_data"
    }
   ],
   "source": [
    "c1 = \"Monthly Premium Auto\"\n",
    "c2 = \"Policy\"\n",
    "\n",
    "sns.boxplot(x=c1, y=c2, data=data)\n",
    "plt.xlabel(c1)\n",
    "plt.ylabel(c2)"
   ]
  },
  {
   "cell_type": "markdown",
   "metadata": {},
   "source": [
    "We want to see if there is any correlations between `Monthly Premium Auto` and `Policy`.\n",
    "\n",
    "\n",
    "### Interpretation\n",
    "The interesting information can be seen within the outliers.\n",
    "\n",
    "- Personal L3 contains the most outliers that would represent special monthly insurance prices.\n",
    "\n",
    "- Special Policies are the one that contain the less outliers, surely because they must be custom made policies for special customers."
   ]
  },
  {
   "cell_type": "markdown",
   "metadata": {},
   "source": [
    "## 1.2.b Categorical Features"
   ]
  },
  {
   "cell_type": "code",
   "execution_count": 12,
   "metadata": {},
   "outputs": [
    {
     "data": {
      "text/plain": [
       "(array([0.5, 1.5, 2.5, 3.5, 4.5]),\n",
       " [Text(0, 0.5, 'Offer1'),\n",
       "  Text(0, 1.5, 'Offer2'),\n",
       "  Text(0, 2.5, 'Offer3'),\n",
       "  Text(0, 3.5, 'Offer4'),\n",
       "  Text(0, 4.5, 'All')])"
      ]
     },
     "execution_count": 12,
     "metadata": {},
     "output_type": "execute_result"
    },
    {
     "data": {
      "image/png": "[encoded data removed]",
      "text/plain": [
       "<Figure size 576x576 with 2 Axes>"
      ]
     },
     "metadata": {
      "needs_background": "light"
     },
     "output_type": "display_data"
    }
   ],
   "source": [
    "#Building a contingency table to find correlations between 2 categorical features\n",
    "c1 = \"Renew Offer Type\"\n",
    "c2 = \"Response\"\n",
    "\n",
    "contingency = pd.crosstab(index=data[c1], columns=data[c2], margins=True)\n",
    "plt.figure(figsize=(8,8))\n",
    "sns.heatmap(contingency, cmap=\"coolwarm\", square=True, annot=True, fmt=\".2f\")\n",
    "plt.xlabel(c1)\n",
    "plt.ylabel(c2)\n",
    "plt.yticks(rotation=360)"
   ]
  },
  {
   "cell_type": "markdown",
   "metadata": {},
   "source": [
    "Since categorical features can't be added in the features correlation matrix, we need to build a contingency table like the one above.\n",
    "\n",
    "This table is also showing a temperature color code. The index is the amount of accounts that satisfies both criterias\n",
    "\n",
    "    For example : First cell (Offer1 & No) = 2993.\n",
    "    This means that 2993 customers refused the Offer1\n",
    "\n",
    "The Offer1 was the most sent with an approval rate of 19%\n",
    "\n",
    "    Offer1 : 19% approval rate\n",
    "    Offer2 : 30% approval rate\n",
    "    Offer3 : 2% approval rate\n",
    "    Offer4 : 0% approval rate\n",
    "\n",
    "The Offer2 was the most accepted `Renew Offer Type`."
   ]
  },
  {
   "cell_type": "code",
   "execution_count": 13,
   "metadata": {
    "scrolled": true
   },
   "outputs": [
    {
     "data": {
      "text/plain": [
       "Text(0, 0.5, 'Income')"
      ]
     },
     "execution_count": 13,
     "metadata": {},
     "output_type": "execute_result"
    },
    {
     "data": {
      "image/png": "[encoded data removed]",
      "text/plain": [
       "<Figure size 432x288 with 1 Axes>"
      ]
     },
     "metadata": {
      "needs_background": "light"
     },
     "output_type": "display_data"
    }
   ],
   "source": [
    "#Building a boxplot to find correlations between one categorical feature and one numerical feature\n",
    "c1 = \"Gender\"\n",
    "c2 = \"Income\"\n",
    "\n",
    "sns.boxplot(x=c1, y=c2, data=data)\n",
    "plt.xlabel(c1)\n",
    "plt.ylabel(c2)"
   ]
  },
  {
   "cell_type": "markdown",
   "metadata": {},
   "source": [
    "In this test we are comparing `Income` and `Gender` to find correlations or disparities.\n",
    "\n",
    "We can see that the amount of Males and Females *(as seen previously in 1.1.a)* is equal, however we can find a difference in `Income` regarding the Male category for low incomes.\n",
    "<br>The first quartile for Female Income is close to 15000\\\\$ whether for the Male Income it is close to 0\\\\$\n",
    "\n",
    "For the high incomes, Males and Females are very close.\n",
    "\n",
    "Thus, we need to do a deeper analysis by comparing `EmploymentStatus` and `Gender` to find any inconsistencies."
   ]
  },
  {
   "cell_type": "code",
   "execution_count": 14,
   "metadata": {},
   "outputs": [
    {
     "data": {
      "text/plain": [
       "(array([0.5, 1.5, 2.5, 3.5, 4.5, 5.5]),\n",
       " [Text(0, 0.5, 'Disabled'),\n",
       "  Text(0, 1.5, 'Employed'),\n",
       "  Text(0, 2.5, 'Medical Leave'),\n",
       "  Text(0, 3.5, 'Retired'),\n",
       "  Text(0, 4.5, 'Unemployed'),\n",
       "  Text(0, 5.5, 'All')])"
      ]
     },
     "execution_count": 14,
     "metadata": {},
     "output_type": "execute_result"
    },
    {
     "data": {
      "image/png": "[encoded data removed]",
      "text/plain": [
       "<Figure size 576x576 with 2 Axes>"
      ]
     },
     "metadata": {
      "needs_background": "light"
     },
     "output_type": "display_data"
    }
   ],
   "source": [
    "c1 = \"EmploymentStatus\"\n",
    "c2 = \"Gender\"\n",
    "\n",
    "contingency = pd.crosstab(index=data[c1], columns=data[c2], margins=True)\n",
    "plt.figure(figsize=(8,8))\n",
    "sns.heatmap(contingency, cmap=\"coolwarm\", square=True, annot=True, fmt=\".2f\")\n",
    "plt.xlabel(c1)\n",
    "plt.ylabel(c2)\n",
    "plt.yticks(rotation=360)"
   ]
  },
  {
   "cell_type": "markdown",
   "metadata": {},
   "source": [
    "We decide to draw a contingency table of `EmploymentStatus` and `Gender`.\n",
    "\n",
    "Unemployed customers are representing 25% of our sample equally distributed between Males and Females.\n",
    "All the `EmploymentStatus` features are equally distributed between Males and Females except for Disabled customers which are 1.6 times more numerous for Females.\n",
    "\n",
    "We don't find any explanation about the previous table where the first quartile for Male income was significantly lower than Female's one."
   ]
  },
  {
   "cell_type": "markdown",
   "metadata": {},
   "source": [
    "## 1.3 Claims Verification"
   ]
  },
  {
   "cell_type": "markdown",
   "metadata": {},
   "source": [
    "We are assessing a claim on our data based on the result of the descriptive analysis. This is done to check any false information that would alter the results of our model.\n",
    "\n",
    "Our claim is\n",
    "    \n",
    "    Income == 0 and EmploymentStatus == unemployed\n",
    "    \n",
    "In other words, we need to verify if all acounts displaying an income equal to 0 are also Unemployed and vice versa."
   ]
  },
  {
   "cell_type": "code",
   "execution_count": 15,
   "metadata": {},
   "outputs": [
    {
     "data": {
      "text/plain": [
       "Unemployed    2184\n",
       "Name: EmploymentStatus, dtype: int64"
      ]
     },
     "execution_count": 15,
     "metadata": {},
     "output_type": "execute_result"
    }
   ],
   "source": [
    "#1.3.1 - Income = 0 and EmploymentStatus != unemployed\n",
    "\n",
    "data[data[\"Income\"] == 0][\"EmploymentStatus\"].value_counts()"
   ]
  },
  {
   "cell_type": "code",
   "execution_count": 16,
   "metadata": {
    "scrolled": false
   },
   "outputs": [
    {
     "data": {
      "text/plain": [
       "Text(0, 0.5, 'EmploymentStatus')"
      ]
     },
     "execution_count": 16,
     "metadata": {},
     "output_type": "execute_result"
    },
    {
     "data": {
      "image/png": "[encoded data removed]",
      "text/plain": [
       "<Figure size 432x288 with 1 Axes>"
      ]
     },
     "metadata": {
      "needs_background": "light"
     },
     "output_type": "display_data"
    }
   ],
   "source": [
    "c1 = \"Income\"\n",
    "c2 = \"EmploymentStatus\"\n",
    "\n",
    "sns.boxplot(x=c1, y=c2, data=data)\n",
    "plt.xlabel(c1)\n",
    "plt.ylabel(c2)\n",
    "\n",
    "#CLAIM CORRECT NO DROP"
   ]
  },
  {
   "cell_type": "markdown",
   "metadata": {},
   "source": [
    "The claim is verified and correct, all Unemployed accounts have an Income of 0 and vice versa.\n",
    "\n",
    "Thus, we don't drop any data from the dataset."
   ]
  },
  {
   "cell_type": "markdown",
   "metadata": {},
   "source": [
    "# 2. Data Preprocessing"
   ]
  },
  {
   "cell_type": "markdown",
   "metadata": {},
   "source": [
    "## 2.1.a Outliers\n",
    "\n",
    "During our descriptive analysis, we discovered a high amount of outliers, however we decided to keep them since they bring valuable information in our dataset.\n",
    "Most of the time outliers must be dropped or edited because they alter too much the models, perhaps in this context, outliers represent special customers with special contracts and need to be taken into account.\n",
    "\n",
    "    \n",
    "**We decide to keep our outliers because they stand for valued customers by the company.**"
   ]
  },
  {
   "cell_type": "markdown",
   "metadata": {},
   "source": [
    "## 2.1.b Drops\n",
    "\n",
    "We don't drop any information outside of the `CustomerID` feature *(dropped in 1.0)* since we find them valuable enough for the model."
   ]
  },
  {
   "cell_type": "code",
   "execution_count": 17,
   "metadata": {},
   "outputs": [],
   "source": [
    "#Backup of data frame\n",
    "datac = data.copy()"
   ]
  },
  {
   "cell_type": "code",
   "execution_count": 18,
   "metadata": {},
   "outputs": [
    {
     "data": {
      "text/html": [
       "<div>\n",
       "<style scoped>\n",
       "    .dataframe tbody tr th:only-of-type {\n",
       "        vertical-align: middle;\n",
       "    }\n",
       "\n",
       "    .dataframe tbody tr th {\n",
       "        vertical-align: top;\n",
       "    }\n",
       "\n",
       "    .dataframe thead th {\n",
       "        text-align: right;\n",
       "    }\n",
       "</style>\n",
       "<table border=\"1\" class=\"dataframe\">\n",
       "  <thead>\n",
       "    <tr style=\"text-align: right;\">\n",
       "      <th></th>\n",
       "      <th>State</th>\n",
       "      <th>Response</th>\n",
       "      <th>Coverage</th>\n",
       "      <th>Education</th>\n",
       "      <th>EmploymentStatus</th>\n",
       "      <th>Gender</th>\n",
       "      <th>Income</th>\n",
       "      <th>Location Code</th>\n",
       "      <th>Marital Status</th>\n",
       "      <th>Monthly Premium Auto</th>\n",
       "      <th>Months Since Last Claim</th>\n",
       "      <th>Months Since Policy Inception</th>\n",
       "      <th>Number of Open Complaints</th>\n",
       "      <th>Number of Policies</th>\n",
       "      <th>Policy Type</th>\n",
       "      <th>Policy</th>\n",
       "      <th>Renew Offer Type</th>\n",
       "      <th>Sales Channel</th>\n",
       "      <th>Total Claim Amount</th>\n",
       "      <th>Vehicle Class</th>\n",
       "      <th>Vehicle Size</th>\n",
       "      <th>CLV</th>\n",
       "    </tr>\n",
       "  </thead>\n",
       "  <tbody>\n",
       "    <tr>\n",
       "      <th>0</th>\n",
       "      <td>California</td>\n",
       "      <td>No</td>\n",
       "      <td>Basic</td>\n",
       "      <td>Bachelor</td>\n",
       "      <td>Employed</td>\n",
       "      <td>F</td>\n",
       "      <td>48269</td>\n",
       "      <td>Urban</td>\n",
       "      <td>Married</td>\n",
       "      <td>69</td>\n",
       "      <td>3</td>\n",
       "      <td>79</td>\n",
       "      <td>3</td>\n",
       "      <td>1</td>\n",
       "      <td>Corporate Auto</td>\n",
       "      <td>Corporate L2</td>\n",
       "      <td>Offer3</td>\n",
       "      <td>Web</td>\n",
       "      <td>282.151207</td>\n",
       "      <td>Four-Door Car</td>\n",
       "      <td>Medsize</td>\n",
       "      <td>2683.470677</td>\n",
       "    </tr>\n",
       "    <tr>\n",
       "      <th>1</th>\n",
       "      <td>Washington</td>\n",
       "      <td>No</td>\n",
       "      <td>Basic</td>\n",
       "      <td>High School or Below</td>\n",
       "      <td>Unemployed</td>\n",
       "      <td>M</td>\n",
       "      <td>0</td>\n",
       "      <td>Suburban</td>\n",
       "      <td>Single</td>\n",
       "      <td>113</td>\n",
       "      <td>19</td>\n",
       "      <td>10</td>\n",
       "      <td>0</td>\n",
       "      <td>7</td>\n",
       "      <td>Personal Auto</td>\n",
       "      <td>Personal L1</td>\n",
       "      <td>Offer1</td>\n",
       "      <td>Branch</td>\n",
       "      <td>813.600000</td>\n",
       "      <td>SUV</td>\n",
       "      <td>Medsize</td>\n",
       "      <td>7859.414569</td>\n",
       "    </tr>\n",
       "    <tr>\n",
       "      <th>2</th>\n",
       "      <td>Oregon</td>\n",
       "      <td>No</td>\n",
       "      <td>Extended</td>\n",
       "      <td>College</td>\n",
       "      <td>Employed</td>\n",
       "      <td>M</td>\n",
       "      <td>60145</td>\n",
       "      <td>Urban</td>\n",
       "      <td>Single</td>\n",
       "      <td>132</td>\n",
       "      <td>8</td>\n",
       "      <td>28</td>\n",
       "      <td>0</td>\n",
       "      <td>3</td>\n",
       "      <td>Personal Auto</td>\n",
       "      <td>Personal L3</td>\n",
       "      <td>Offer3</td>\n",
       "      <td>Web</td>\n",
       "      <td>580.473259</td>\n",
       "      <td>SUV</td>\n",
       "      <td>Medsize</td>\n",
       "      <td>10272.608200</td>\n",
       "    </tr>\n",
       "    <tr>\n",
       "      <th>3</th>\n",
       "      <td>California</td>\n",
       "      <td>No</td>\n",
       "      <td>Basic</td>\n",
       "      <td>High School or Below</td>\n",
       "      <td>Employed</td>\n",
       "      <td>M</td>\n",
       "      <td>46131</td>\n",
       "      <td>Suburban</td>\n",
       "      <td>Married</td>\n",
       "      <td>74</td>\n",
       "      <td>27</td>\n",
       "      <td>28</td>\n",
       "      <td>0</td>\n",
       "      <td>1</td>\n",
       "      <td>Personal Auto</td>\n",
       "      <td>Personal L3</td>\n",
       "      <td>Offer2</td>\n",
       "      <td>Branch</td>\n",
       "      <td>355.200000</td>\n",
       "      <td>Two-Door Car</td>\n",
       "      <td>Small</td>\n",
       "      <td>2969.593296</td>\n",
       "    </tr>\n",
       "    <tr>\n",
       "      <th>4</th>\n",
       "      <td>Washington</td>\n",
       "      <td>No</td>\n",
       "      <td>Basic</td>\n",
       "      <td>Bachelor</td>\n",
       "      <td>Unemployed</td>\n",
       "      <td>F</td>\n",
       "      <td>0</td>\n",
       "      <td>Suburban</td>\n",
       "      <td>Single</td>\n",
       "      <td>64</td>\n",
       "      <td>12</td>\n",
       "      <td>24</td>\n",
       "      <td>0</td>\n",
       "      <td>1</td>\n",
       "      <td>Personal Auto</td>\n",
       "      <td>Personal L3</td>\n",
       "      <td>Offer2</td>\n",
       "      <td>Agent</td>\n",
       "      <td>460.800000</td>\n",
       "      <td>Four-Door Car</td>\n",
       "      <td>Medsize</td>\n",
       "      <td>2310.882998</td>\n",
       "    </tr>\n",
       "  </tbody>\n",
       "</table>\n",
       "</div>"
      ],
      "text/plain": [
       "        State Response  Coverage             Education EmploymentStatus  \\\n",
       "0  California       No     Basic              Bachelor         Employed   \n",
       "1  Washington       No     Basic  High School or Below       Unemployed   \n",
       "2      Oregon       No  Extended               College         Employed   \n",
       "3  California       No     Basic  High School or Below         Employed   \n",
       "4  Washington       No     Basic              Bachelor       Unemployed   \n",
       "\n",
       "  Gender  Income Location Code Marital Status  Monthly Premium Auto  \\\n",
       "0      F   48269         Urban        Married                    69   \n",
       "1      M       0      Suburban         Single                   113   \n",
       "2      M   60145         Urban         Single                   132   \n",
       "3      M   46131      Suburban        Married                    74   \n",
       "4      F       0      Suburban         Single                    64   \n",
       "\n",
       "   Months Since Last Claim  Months Since Policy Inception  \\\n",
       "0                        3                             79   \n",
       "1                       19                             10   \n",
       "2                        8                             28   \n",
       "3                       27                             28   \n",
       "4                       12                             24   \n",
       "\n",
       "   Number of Open Complaints  Number of Policies     Policy Type  \\\n",
       "0                          3                   1  Corporate Auto   \n",
       "1                          0                   7   Personal Auto   \n",
       "2                          0                   3   Personal Auto   \n",
       "3                          0                   1   Personal Auto   \n",
       "4                          0                   1   Personal Auto   \n",
       "\n",
       "         Policy Renew Offer Type Sales Channel  Total Claim Amount  \\\n",
       "0  Corporate L2           Offer3           Web          282.151207   \n",
       "1   Personal L1           Offer1        Branch          813.600000   \n",
       "2   Personal L3           Offer3           Web          580.473259   \n",
       "3   Personal L3           Offer2        Branch          355.200000   \n",
       "4   Personal L3           Offer2         Agent          460.800000   \n",
       "\n",
       "   Vehicle Class Vehicle Size           CLV  \n",
       "0  Four-Door Car      Medsize   2683.470677  \n",
       "1            SUV      Medsize   7859.414569  \n",
       "2            SUV      Medsize  10272.608200  \n",
       "3   Two-Door Car        Small   2969.593296  \n",
       "4  Four-Door Car      Medsize   2310.882998  "
      ]
     },
     "execution_count": 18,
     "metadata": {},
     "output_type": "execute_result"
    }
   ],
   "source": [
    "datac.head()"
   ]
  },
  {
   "cell_type": "markdown",
   "metadata": {},
   "source": [
    "## 2.2 Encoding\n",
    "\n",
    "Many machine learning algorithms cannot operate on label data directly. They require all input variables and output variables to be numeric.\n",
    "\n",
    "Since our dataset contains a high amount of categorical features, and leaving them as they are would confuse the model when training it, we have to encode our categorical data into numerical data.\n",
    "\n",
    "We are using 2 methods, the categorical features that contain only 2 options (`Gender` and `Response`) can be encoded as boolean features.\n",
    "\n",
    "The other features need to be encoded to numerical features using the One Hot Encoding method.\n",
    "<br>The One Hot Encoding method is used instead of the Integer Encoding method since our data are **nominal categorical** features and **not ordinal**.\n",
    "<br>We don't want the model to think there is a hierarchy between our values, so this is why the One Hot Encoding method is more suitable.\n",
    "\n",
    "This method replaces a feature by the amount of different options it contains.\n",
    "For example `Marital Status` contains : *Married, Single, Divorced*.\n",
    "<br>We want to encode them with the One Hot Encoding method.\n",
    "\n",
    "We will replace `Marital Status` by 3 columns with the associated Option as a suffix : `Marital Status_Married`, `Marital Status_Single`, `Marital Status_Divorced`. \n",
    "<br>These new columns are encoded with Binary values that we can call \"dummy variables\".\n",
    "<br>*To read how the data are encoded with the One Hot Encoding method, the new processed dataset is displayed below*\n",
    "\n",
    "We also need to delete one column every time we encode a feature with this method since we need the sum of the columns to not be 1 to avoid multicolinearity issues."
   ]
  },
  {
   "cell_type": "code",
   "execution_count": 19,
   "metadata": {
    "scrolled": false
   },
   "outputs": [
    {
     "data": {
      "image/png": "[encoded data removed]",
      "text/plain": [
       "<Figure size 432x288 with 1 Axes>"
      ]
     },
     "metadata": {
      "needs_background": "light"
     },
     "output_type": "display_data"
    },
    {
     "data": {
      "image/png": "[encoded data removed]",
      "text/plain": [
       "<Figure size 432x288 with 1 Axes>"
      ]
     },
     "metadata": {
      "needs_background": "light"
     },
     "output_type": "display_data"
    },
    {
     "data": {
      "image/png": "[encoded data removed]",
      "text/plain": [
       "<Figure size 432x288 with 1 Axes>"
      ]
     },
     "metadata": {
      "needs_background": "light"
     },
     "output_type": "display_data"
    },
    {
     "data": {
      "image/png": "[encoded data removed]",
      "text/plain": [
       "<Figure size 432x288 with 1 Axes>"
      ]
     },
     "metadata": {
      "needs_background": "light"
     },
     "output_type": "display_data"
    },
    {
     "data": {
      "image/png": "[encoded data removed]",
      "text/plain": [
       "<Figure size 432x288 with 1 Axes>"
      ]
     },
     "metadata": {
      "needs_background": "light"
     },
     "output_type": "display_data"
    },
    {
     "data": {
      "image/png": "[encoded data removed]",
      "text/plain": [
       "<Figure size 432x288 with 1 Axes>"
      ]
     },
     "metadata": {
      "needs_background": "light"
     },
     "output_type": "display_data"
    },
    {
     "data": {
      "image/png": "[encoded data removed]",
      "text/plain": [
       "<Figure size 432x288 with 1 Axes>"
      ]
     },
     "metadata": {
      "needs_background": "light"
     },
     "output_type": "display_data"
    },
    {
     "data": {
      "image/png": "[encoded data removed]",
      "text/plain": [
       "<Figure size 432x288 with 1 Axes>"
      ]
     },
     "metadata": {
      "needs_background": "light"
     },
     "output_type": "display_data"
    },
    {
     "data": {
      "image/png": "[encoded data removed]",
      "text/plain": [
       "<Figure size 432x288 with 1 Axes>"
      ]
     },
     "metadata": {
      "needs_background": "light"
     },
     "output_type": "display_data"
    }
   ],
   "source": [
    "#Encoding categorical nominal features with One Hot Encoding method\n",
    "\n",
    "for column in ['State', 'Coverage', 'Education', 'EmploymentStatus', 'Location Code', 'Marital Status', 'Policy Type', 'Sales Channel', 'Vehicle Class']:\n",
    "    dummies = pd.get_dummies(datac[column])\n",
    "    dummies.columns = ['_'.join([column.upper(), str(c).replace(' ', '_')]) for c in dummies.columns]\n",
    "    plt.figure()\n",
    "    dummies.mean().plot(kind='barh')\n",
    "    plt.title(f'Visualisation de la fréquence des dummies\\npour la variable {column}')\n",
    "    plt.xlabel('Fréquence')\n",
    "    plt.show()\n",
    "    dummies.drop(dummies.columns[-1], axis=1, inplace=True)\n",
    "    datac = datac.drop(column, axis=1)\n",
    "    datac = pd.concat([datac.T, dummies.T]).T"
   ]
  },
  {
   "cell_type": "code",
   "execution_count": 20,
   "metadata": {},
   "outputs": [
    {
     "data": {
      "text/plain": [
       "Index(['Response', 'Gender', 'Income', 'Monthly Premium Auto',\n",
       "       'Months Since Last Claim', 'Months Since Policy Inception',\n",
       "       'Number of Open Complaints', 'Number of Policies', 'Policy',\n",
       "       'Renew Offer Type', 'Total Claim Amount', 'Vehicle Size', 'CLV',\n",
       "       'STATE_Arizona', 'STATE_California', 'STATE_Nevada', 'STATE_Oregon',\n",
       "       'COVERAGE_Basic', 'COVERAGE_Extended', 'EDUCATION_Bachelor',\n",
       "       'EDUCATION_College', 'EDUCATION_Doctor',\n",
       "       'EDUCATION_High_School_or_Below', 'EMPLOYMENTSTATUS_Disabled',\n",
       "       'EMPLOYMENTSTATUS_Employed', 'EMPLOYMENTSTATUS_Medical_Leave',\n",
       "       'EMPLOYMENTSTATUS_Retired', 'LOCATION CODE_Rural',\n",
       "       'LOCATION CODE_Suburban', 'MARITAL STATUS_Divorced',\n",
       "       'MARITAL STATUS_Married', 'POLICY TYPE_Corporate_Auto',\n",
       "       'POLICY TYPE_Personal_Auto', 'SALES CHANNEL_Agent',\n",
       "       'SALES CHANNEL_Branch', 'SALES CHANNEL_Call_Center',\n",
       "       'VEHICLE CLASS_Four-Door_Car', 'VEHICLE CLASS_Luxury_Car',\n",
       "       'VEHICLE CLASS_Luxury_SUV', 'VEHICLE CLASS_SUV',\n",
       "       'VEHICLE CLASS_Sports_Car'],\n",
       "      dtype='object')"
      ]
     },
     "execution_count": 20,
     "metadata": {},
     "output_type": "execute_result"
    }
   ],
   "source": [
    "datac.columns"
   ]
  },
  {
   "cell_type": "markdown",
   "metadata": {},
   "source": [
    "*Do you know Kristoff? He is a really nice and smart guy! 🧠*"
   ]
  },
  {
   "cell_type": "code",
   "execution_count": 21,
   "metadata": {},
   "outputs": [
    {
     "data": {
      "text/plain": [
       "No     7407\n",
       "Yes    1230\n",
       "Name: Response, dtype: int64"
      ]
     },
     "execution_count": 21,
     "metadata": {},
     "output_type": "execute_result"
    }
   ],
   "source": [
    "datac[\"Response\"].value_counts()"
   ]
  },
  {
   "cell_type": "code",
   "execution_count": 22,
   "metadata": {},
   "outputs": [],
   "source": [
    "#Encoding boolean categorical features\n",
    "\n",
    "datac[\"Response\"] = datac[\"Response\"].replace({\"Yes\":1,\"No\":0})\n",
    "datac[\"Gender\"] = datac[\"Gender\"].replace({\"M\":1,\"F\":0})"
   ]
  },
  {
   "cell_type": "code",
   "execution_count": 23,
   "metadata": {},
   "outputs": [
    {
     "data": {
      "text/plain": [
       "0    7407\n",
       "1    1230\n",
       "Name: Response, dtype: int64"
      ]
     },
     "execution_count": 23,
     "metadata": {},
     "output_type": "execute_result"
    }
   ],
   "source": [
    "datac[\"Response\"].value_counts()"
   ]
  },
  {
   "cell_type": "code",
   "execution_count": 24,
   "metadata": {},
   "outputs": [
    {
     "data": {
      "text/plain": [
       "0    4388\n",
       "1    4249\n",
       "Name: Gender, dtype: int64"
      ]
     },
     "execution_count": 24,
     "metadata": {},
     "output_type": "execute_result"
    }
   ],
   "source": [
    "datac[\"Gender\"].value_counts()"
   ]
  },
  {
   "cell_type": "code",
   "execution_count": 25,
   "metadata": {},
   "outputs": [],
   "source": [
    "#Encoding ordinal categorical features with label encoding\n",
    "\n",
    "datac[\"Vehicle Size\"] = datac[\"Vehicle Size\"].replace({\"Small\":1,\"Medsize\":2,\"Large\":3})\n",
    "\n",
    "#Simplifying this feature by only keeping the \"LX\" information since the PolicyType is already a feature\n",
    "datac[\"Policy\"] = datac[\"Policy\"].replace({'Personal L3': 3, 'Personal L2': 2, 'Personal L1': 1, 'Corporate L3': 3, 'Corporate L2': 2, 'Corporate L1': 1, 'Special L2': 2, 'Special L3': 3, 'Special L1': 1})\n",
    "\n",
    "datac[\"Renew Offer Type\"] = datac[\"Renew Offer Type\"].replace({'Offer1': 1, 'Offer2': 2, 'Offer3': 3, 'Offer4': 4})"
   ]
  },
  {
   "cell_type": "code",
   "execution_count": 26,
   "metadata": {
    "scrolled": false
   },
   "outputs": [
    {
     "data": {
      "text/html": [
       "<div>\n",
       "<style scoped>\n",
       "    .dataframe tbody tr th:only-of-type {\n",
       "        vertical-align: middle;\n",
       "    }\n",
       "\n",
       "    .dataframe tbody tr th {\n",
       "        vertical-align: top;\n",
       "    }\n",
       "\n",
       "    .dataframe thead th {\n",
       "        text-align: right;\n",
       "    }\n",
       "</style>\n",
       "<table border=\"1\" class=\"dataframe\">\n",
       "  <thead>\n",
       "    <tr style=\"text-align: right;\">\n",
       "      <th></th>\n",
       "      <th>Response</th>\n",
       "      <th>Gender</th>\n",
       "      <th>Income</th>\n",
       "      <th>Monthly Premium Auto</th>\n",
       "      <th>Months Since Last Claim</th>\n",
       "      <th>Months Since Policy Inception</th>\n",
       "      <th>Number of Open Complaints</th>\n",
       "      <th>Number of Policies</th>\n",
       "      <th>Policy</th>\n",
       "      <th>Renew Offer Type</th>\n",
       "      <th>Total Claim Amount</th>\n",
       "      <th>Vehicle Size</th>\n",
       "      <th>CLV</th>\n",
       "      <th>STATE_Arizona</th>\n",
       "      <th>STATE_California</th>\n",
       "      <th>STATE_Nevada</th>\n",
       "      <th>STATE_Oregon</th>\n",
       "      <th>COVERAGE_Basic</th>\n",
       "      <th>COVERAGE_Extended</th>\n",
       "      <th>EDUCATION_Bachelor</th>\n",
       "      <th>EDUCATION_College</th>\n",
       "      <th>EDUCATION_Doctor</th>\n",
       "      <th>EDUCATION_High_School_or_Below</th>\n",
       "      <th>EMPLOYMENTSTATUS_Disabled</th>\n",
       "      <th>EMPLOYMENTSTATUS_Employed</th>\n",
       "      <th>EMPLOYMENTSTATUS_Medical_Leave</th>\n",
       "      <th>EMPLOYMENTSTATUS_Retired</th>\n",
       "      <th>LOCATION CODE_Rural</th>\n",
       "      <th>LOCATION CODE_Suburban</th>\n",
       "      <th>MARITAL STATUS_Divorced</th>\n",
       "      <th>MARITAL STATUS_Married</th>\n",
       "      <th>POLICY TYPE_Corporate_Auto</th>\n",
       "      <th>POLICY TYPE_Personal_Auto</th>\n",
       "      <th>SALES CHANNEL_Agent</th>\n",
       "      <th>SALES CHANNEL_Branch</th>\n",
       "      <th>SALES CHANNEL_Call_Center</th>\n",
       "      <th>VEHICLE CLASS_Four-Door_Car</th>\n",
       "      <th>VEHICLE CLASS_Luxury_Car</th>\n",
       "      <th>VEHICLE CLASS_Luxury_SUV</th>\n",
       "      <th>VEHICLE CLASS_SUV</th>\n",
       "      <th>VEHICLE CLASS_Sports_Car</th>\n",
       "    </tr>\n",
       "  </thead>\n",
       "  <tbody>\n",
       "    <tr>\n",
       "      <th>0</th>\n",
       "      <td>0</td>\n",
       "      <td>0</td>\n",
       "      <td>48269</td>\n",
       "      <td>69</td>\n",
       "      <td>3</td>\n",
       "      <td>79</td>\n",
       "      <td>3</td>\n",
       "      <td>1</td>\n",
       "      <td>2</td>\n",
       "      <td>3</td>\n",
       "      <td>282.151</td>\n",
       "      <td>2</td>\n",
       "      <td>2683.47</td>\n",
       "      <td>0</td>\n",
       "      <td>1</td>\n",
       "      <td>0</td>\n",
       "      <td>0</td>\n",
       "      <td>1</td>\n",
       "      <td>0</td>\n",
       "      <td>1</td>\n",
       "      <td>0</td>\n",
       "      <td>0</td>\n",
       "      <td>0</td>\n",
       "      <td>0</td>\n",
       "      <td>1</td>\n",
       "      <td>0</td>\n",
       "      <td>0</td>\n",
       "      <td>0</td>\n",
       "      <td>0</td>\n",
       "      <td>0</td>\n",
       "      <td>1</td>\n",
       "      <td>1</td>\n",
       "      <td>0</td>\n",
       "      <td>0</td>\n",
       "      <td>0</td>\n",
       "      <td>0</td>\n",
       "      <td>1</td>\n",
       "      <td>0</td>\n",
       "      <td>0</td>\n",
       "      <td>0</td>\n",
       "      <td>0</td>\n",
       "    </tr>\n",
       "    <tr>\n",
       "      <th>1</th>\n",
       "      <td>0</td>\n",
       "      <td>1</td>\n",
       "      <td>0</td>\n",
       "      <td>113</td>\n",
       "      <td>19</td>\n",
       "      <td>10</td>\n",
       "      <td>0</td>\n",
       "      <td>7</td>\n",
       "      <td>1</td>\n",
       "      <td>1</td>\n",
       "      <td>813.6</td>\n",
       "      <td>2</td>\n",
       "      <td>7859.41</td>\n",
       "      <td>0</td>\n",
       "      <td>0</td>\n",
       "      <td>0</td>\n",
       "      <td>0</td>\n",
       "      <td>1</td>\n",
       "      <td>0</td>\n",
       "      <td>0</td>\n",
       "      <td>0</td>\n",
       "      <td>0</td>\n",
       "      <td>1</td>\n",
       "      <td>0</td>\n",
       "      <td>0</td>\n",
       "      <td>0</td>\n",
       "      <td>0</td>\n",
       "      <td>0</td>\n",
       "      <td>1</td>\n",
       "      <td>0</td>\n",
       "      <td>0</td>\n",
       "      <td>0</td>\n",
       "      <td>1</td>\n",
       "      <td>0</td>\n",
       "      <td>1</td>\n",
       "      <td>0</td>\n",
       "      <td>0</td>\n",
       "      <td>0</td>\n",
       "      <td>0</td>\n",
       "      <td>1</td>\n",
       "      <td>0</td>\n",
       "    </tr>\n",
       "    <tr>\n",
       "      <th>2</th>\n",
       "      <td>0</td>\n",
       "      <td>1</td>\n",
       "      <td>60145</td>\n",
       "      <td>132</td>\n",
       "      <td>8</td>\n",
       "      <td>28</td>\n",
       "      <td>0</td>\n",
       "      <td>3</td>\n",
       "      <td>3</td>\n",
       "      <td>3</td>\n",
       "      <td>580.473</td>\n",
       "      <td>2</td>\n",
       "      <td>10272.6</td>\n",
       "      <td>0</td>\n",
       "      <td>0</td>\n",
       "      <td>0</td>\n",
       "      <td>1</td>\n",
       "      <td>0</td>\n",
       "      <td>1</td>\n",
       "      <td>0</td>\n",
       "      <td>1</td>\n",
       "      <td>0</td>\n",
       "      <td>0</td>\n",
       "      <td>0</td>\n",
       "      <td>1</td>\n",
       "      <td>0</td>\n",
       "      <td>0</td>\n",
       "      <td>0</td>\n",
       "      <td>0</td>\n",
       "      <td>0</td>\n",
       "      <td>0</td>\n",
       "      <td>0</td>\n",
       "      <td>1</td>\n",
       "      <td>0</td>\n",
       "      <td>0</td>\n",
       "      <td>0</td>\n",
       "      <td>0</td>\n",
       "      <td>0</td>\n",
       "      <td>0</td>\n",
       "      <td>1</td>\n",
       "      <td>0</td>\n",
       "    </tr>\n",
       "    <tr>\n",
       "      <th>3</th>\n",
       "      <td>0</td>\n",
       "      <td>1</td>\n",
       "      <td>46131</td>\n",
       "      <td>74</td>\n",
       "      <td>27</td>\n",
       "      <td>28</td>\n",
       "      <td>0</td>\n",
       "      <td>1</td>\n",
       "      <td>3</td>\n",
       "      <td>2</td>\n",
       "      <td>355.2</td>\n",
       "      <td>1</td>\n",
       "      <td>2969.59</td>\n",
       "      <td>0</td>\n",
       "      <td>1</td>\n",
       "      <td>0</td>\n",
       "      <td>0</td>\n",
       "      <td>1</td>\n",
       "      <td>0</td>\n",
       "      <td>0</td>\n",
       "      <td>0</td>\n",
       "      <td>0</td>\n",
       "      <td>1</td>\n",
       "      <td>0</td>\n",
       "      <td>1</td>\n",
       "      <td>0</td>\n",
       "      <td>0</td>\n",
       "      <td>0</td>\n",
       "      <td>1</td>\n",
       "      <td>0</td>\n",
       "      <td>1</td>\n",
       "      <td>0</td>\n",
       "      <td>1</td>\n",
       "      <td>0</td>\n",
       "      <td>1</td>\n",
       "      <td>0</td>\n",
       "      <td>0</td>\n",
       "      <td>0</td>\n",
       "      <td>0</td>\n",
       "      <td>0</td>\n",
       "      <td>0</td>\n",
       "    </tr>\n",
       "    <tr>\n",
       "      <th>4</th>\n",
       "      <td>0</td>\n",
       "      <td>0</td>\n",
       "      <td>0</td>\n",
       "      <td>64</td>\n",
       "      <td>12</td>\n",
       "      <td>24</td>\n",
       "      <td>0</td>\n",
       "      <td>1</td>\n",
       "      <td>3</td>\n",
       "      <td>2</td>\n",
       "      <td>460.8</td>\n",
       "      <td>2</td>\n",
       "      <td>2310.88</td>\n",
       "      <td>0</td>\n",
       "      <td>0</td>\n",
       "      <td>0</td>\n",
       "      <td>0</td>\n",
       "      <td>1</td>\n",
       "      <td>0</td>\n",
       "      <td>1</td>\n",
       "      <td>0</td>\n",
       "      <td>0</td>\n",
       "      <td>0</td>\n",
       "      <td>0</td>\n",
       "      <td>0</td>\n",
       "      <td>0</td>\n",
       "      <td>0</td>\n",
       "      <td>0</td>\n",
       "      <td>1</td>\n",
       "      <td>0</td>\n",
       "      <td>0</td>\n",
       "      <td>0</td>\n",
       "      <td>1</td>\n",
       "      <td>1</td>\n",
       "      <td>0</td>\n",
       "      <td>0</td>\n",
       "      <td>1</td>\n",
       "      <td>0</td>\n",
       "      <td>0</td>\n",
       "      <td>0</td>\n",
       "      <td>0</td>\n",
       "    </tr>\n",
       "    <tr>\n",
       "      <th>...</th>\n",
       "      <td>...</td>\n",
       "      <td>...</td>\n",
       "      <td>...</td>\n",
       "      <td>...</td>\n",
       "      <td>...</td>\n",
       "      <td>...</td>\n",
       "      <td>...</td>\n",
       "      <td>...</td>\n",
       "      <td>...</td>\n",
       "      <td>...</td>\n",
       "      <td>...</td>\n",
       "      <td>...</td>\n",
       "      <td>...</td>\n",
       "      <td>...</td>\n",
       "      <td>...</td>\n",
       "      <td>...</td>\n",
       "      <td>...</td>\n",
       "      <td>...</td>\n",
       "      <td>...</td>\n",
       "      <td>...</td>\n",
       "      <td>...</td>\n",
       "      <td>...</td>\n",
       "      <td>...</td>\n",
       "      <td>...</td>\n",
       "      <td>...</td>\n",
       "      <td>...</td>\n",
       "      <td>...</td>\n",
       "      <td>...</td>\n",
       "      <td>...</td>\n",
       "      <td>...</td>\n",
       "      <td>...</td>\n",
       "      <td>...</td>\n",
       "      <td>...</td>\n",
       "      <td>...</td>\n",
       "      <td>...</td>\n",
       "      <td>...</td>\n",
       "      <td>...</td>\n",
       "      <td>...</td>\n",
       "      <td>...</td>\n",
       "      <td>...</td>\n",
       "      <td>...</td>\n",
       "    </tr>\n",
       "    <tr>\n",
       "      <th>8632</th>\n",
       "      <td>0</td>\n",
       "      <td>1</td>\n",
       "      <td>0</td>\n",
       "      <td>68</td>\n",
       "      <td>10</td>\n",
       "      <td>48</td>\n",
       "      <td>1</td>\n",
       "      <td>3</td>\n",
       "      <td>3</td>\n",
       "      <td>3</td>\n",
       "      <td>326.4</td>\n",
       "      <td>2</td>\n",
       "      <td>4704.18</td>\n",
       "      <td>0</td>\n",
       "      <td>1</td>\n",
       "      <td>0</td>\n",
       "      <td>0</td>\n",
       "      <td>1</td>\n",
       "      <td>0</td>\n",
       "      <td>0</td>\n",
       "      <td>1</td>\n",
       "      <td>0</td>\n",
       "      <td>0</td>\n",
       "      <td>0</td>\n",
       "      <td>0</td>\n",
       "      <td>0</td>\n",
       "      <td>0</td>\n",
       "      <td>0</td>\n",
       "      <td>1</td>\n",
       "      <td>0</td>\n",
       "      <td>1</td>\n",
       "      <td>0</td>\n",
       "      <td>1</td>\n",
       "      <td>0</td>\n",
       "      <td>0</td>\n",
       "      <td>1</td>\n",
       "      <td>0</td>\n",
       "      <td>0</td>\n",
       "      <td>0</td>\n",
       "      <td>0</td>\n",
       "      <td>0</td>\n",
       "    </tr>\n",
       "    <tr>\n",
       "      <th>8633</th>\n",
       "      <td>0</td>\n",
       "      <td>0</td>\n",
       "      <td>67572</td>\n",
       "      <td>102</td>\n",
       "      <td>7</td>\n",
       "      <td>55</td>\n",
       "      <td>0</td>\n",
       "      <td>2</td>\n",
       "      <td>1</td>\n",
       "      <td>1</td>\n",
       "      <td>296.209</td>\n",
       "      <td>1</td>\n",
       "      <td>24826.9</td>\n",
       "      <td>0</td>\n",
       "      <td>1</td>\n",
       "      <td>0</td>\n",
       "      <td>0</td>\n",
       "      <td>1</td>\n",
       "      <td>0</td>\n",
       "      <td>0</td>\n",
       "      <td>0</td>\n",
       "      <td>1</td>\n",
       "      <td>0</td>\n",
       "      <td>0</td>\n",
       "      <td>1</td>\n",
       "      <td>0</td>\n",
       "      <td>0</td>\n",
       "      <td>0</td>\n",
       "      <td>0</td>\n",
       "      <td>0</td>\n",
       "      <td>1</td>\n",
       "      <td>0</td>\n",
       "      <td>1</td>\n",
       "      <td>0</td>\n",
       "      <td>1</td>\n",
       "      <td>0</td>\n",
       "      <td>0</td>\n",
       "      <td>0</td>\n",
       "      <td>0</td>\n",
       "      <td>0</td>\n",
       "      <td>1</td>\n",
       "    </tr>\n",
       "    <tr>\n",
       "      <th>8634</th>\n",
       "      <td>1</td>\n",
       "      <td>0</td>\n",
       "      <td>25147</td>\n",
       "      <td>101</td>\n",
       "      <td>7</td>\n",
       "      <td>54</td>\n",
       "      <td>0</td>\n",
       "      <td>1</td>\n",
       "      <td>1</td>\n",
       "      <td>1</td>\n",
       "      <td>694.598</td>\n",
       "      <td>2</td>\n",
       "      <td>3600.93</td>\n",
       "      <td>0</td>\n",
       "      <td>1</td>\n",
       "      <td>0</td>\n",
       "      <td>0</td>\n",
       "      <td>1</td>\n",
       "      <td>0</td>\n",
       "      <td>0</td>\n",
       "      <td>0</td>\n",
       "      <td>0</td>\n",
       "      <td>1</td>\n",
       "      <td>0</td>\n",
       "      <td>0</td>\n",
       "      <td>0</td>\n",
       "      <td>1</td>\n",
       "      <td>0</td>\n",
       "      <td>1</td>\n",
       "      <td>0</td>\n",
       "      <td>0</td>\n",
       "      <td>0</td>\n",
       "      <td>1</td>\n",
       "      <td>1</td>\n",
       "      <td>0</td>\n",
       "      <td>0</td>\n",
       "      <td>0</td>\n",
       "      <td>0</td>\n",
       "      <td>0</td>\n",
       "      <td>1</td>\n",
       "      <td>0</td>\n",
       "    </tr>\n",
       "    <tr>\n",
       "      <th>8635</th>\n",
       "      <td>0</td>\n",
       "      <td>0</td>\n",
       "      <td>0</td>\n",
       "      <td>101</td>\n",
       "      <td>17</td>\n",
       "      <td>20</td>\n",
       "      <td>0</td>\n",
       "      <td>3</td>\n",
       "      <td>2</td>\n",
       "      <td>1</td>\n",
       "      <td>978.257</td>\n",
       "      <td>2</td>\n",
       "      <td>7482.85</td>\n",
       "      <td>0</td>\n",
       "      <td>1</td>\n",
       "      <td>0</td>\n",
       "      <td>0</td>\n",
       "      <td>1</td>\n",
       "      <td>0</td>\n",
       "      <td>1</td>\n",
       "      <td>0</td>\n",
       "      <td>0</td>\n",
       "      <td>0</td>\n",
       "      <td>0</td>\n",
       "      <td>0</td>\n",
       "      <td>0</td>\n",
       "      <td>0</td>\n",
       "      <td>0</td>\n",
       "      <td>1</td>\n",
       "      <td>0</td>\n",
       "      <td>1</td>\n",
       "      <td>1</td>\n",
       "      <td>0</td>\n",
       "      <td>1</td>\n",
       "      <td>0</td>\n",
       "      <td>0</td>\n",
       "      <td>0</td>\n",
       "      <td>0</td>\n",
       "      <td>0</td>\n",
       "      <td>1</td>\n",
       "      <td>0</td>\n",
       "    </tr>\n",
       "    <tr>\n",
       "      <th>8636</th>\n",
       "      <td>0</td>\n",
       "      <td>0</td>\n",
       "      <td>74905</td>\n",
       "      <td>72</td>\n",
       "      <td>16</td>\n",
       "      <td>35</td>\n",
       "      <td>0</td>\n",
       "      <td>3</td>\n",
       "      <td>3</td>\n",
       "      <td>1</td>\n",
       "      <td>167.028</td>\n",
       "      <td>2</td>\n",
       "      <td>5714.56</td>\n",
       "      <td>0</td>\n",
       "      <td>1</td>\n",
       "      <td>0</td>\n",
       "      <td>0</td>\n",
       "      <td>1</td>\n",
       "      <td>0</td>\n",
       "      <td>1</td>\n",
       "      <td>0</td>\n",
       "      <td>0</td>\n",
       "      <td>0</td>\n",
       "      <td>0</td>\n",
       "      <td>1</td>\n",
       "      <td>0</td>\n",
       "      <td>0</td>\n",
       "      <td>1</td>\n",
       "      <td>0</td>\n",
       "      <td>0</td>\n",
       "      <td>0</td>\n",
       "      <td>0</td>\n",
       "      <td>1</td>\n",
       "      <td>0</td>\n",
       "      <td>0</td>\n",
       "      <td>1</td>\n",
       "      <td>1</td>\n",
       "      <td>0</td>\n",
       "      <td>0</td>\n",
       "      <td>0</td>\n",
       "      <td>0</td>\n",
       "    </tr>\n",
       "  </tbody>\n",
       "</table>\n",
       "<p>8637 rows × 41 columns</p>\n",
       "</div>"
      ],
      "text/plain": [
       "      Response  Gender Income Monthly Premium Auto Months Since Last Claim  \\\n",
       "0            0       0  48269                   69                       3   \n",
       "1            0       1      0                  113                      19   \n",
       "2            0       1  60145                  132                       8   \n",
       "3            0       1  46131                   74                      27   \n",
       "4            0       0      0                   64                      12   \n",
       "...        ...     ...    ...                  ...                     ...   \n",
       "8632         0       1      0                   68                      10   \n",
       "8633         0       0  67572                  102                       7   \n",
       "8634         1       0  25147                  101                       7   \n",
       "8635         0       0      0                  101                      17   \n",
       "8636         0       0  74905                   72                      16   \n",
       "\n",
       "     Months Since Policy Inception Number of Open Complaints  \\\n",
       "0                               79                         3   \n",
       "1                               10                         0   \n",
       "2                               28                         0   \n",
       "3                               28                         0   \n",
       "4                               24                         0   \n",
       "...                            ...                       ...   \n",
       "8632                            48                         1   \n",
       "8633                            55                         0   \n",
       "8634                            54                         0   \n",
       "8635                            20                         0   \n",
       "8636                            35                         0   \n",
       "\n",
       "     Number of Policies  Policy  Renew Offer Type Total Claim Amount  \\\n",
       "0                     1       2                 3            282.151   \n",
       "1                     7       1                 1              813.6   \n",
       "2                     3       3                 3            580.473   \n",
       "3                     1       3                 2              355.2   \n",
       "4                     1       3                 2              460.8   \n",
       "...                 ...     ...               ...                ...   \n",
       "8632                  3       3                 3              326.4   \n",
       "8633                  2       1                 1            296.209   \n",
       "8634                  1       1                 1            694.598   \n",
       "8635                  3       2                 1            978.257   \n",
       "8636                  3       3                 1            167.028   \n",
       "\n",
       "      Vehicle Size      CLV STATE_Arizona STATE_California STATE_Nevada  \\\n",
       "0                2  2683.47             0                1            0   \n",
       "1                2  7859.41             0                0            0   \n",
       "2                2  10272.6             0                0            0   \n",
       "3                1  2969.59             0                1            0   \n",
       "4                2  2310.88             0                0            0   \n",
       "...            ...      ...           ...              ...          ...   \n",
       "8632             2  4704.18             0                1            0   \n",
       "8633             1  24826.9             0                1            0   \n",
       "8634             2  3600.93             0                1            0   \n",
       "8635             2  7482.85             0                1            0   \n",
       "8636             2  5714.56             0                1            0   \n",
       "\n",
       "     STATE_Oregon COVERAGE_Basic COVERAGE_Extended EDUCATION_Bachelor  \\\n",
       "0               0              1                 0                  1   \n",
       "1               0              1                 0                  0   \n",
       "2               1              0                 1                  0   \n",
       "3               0              1                 0                  0   \n",
       "4               0              1                 0                  1   \n",
       "...           ...            ...               ...                ...   \n",
       "8632            0              1                 0                  0   \n",
       "8633            0              1                 0                  0   \n",
       "8634            0              1                 0                  0   \n",
       "8635            0              1                 0                  1   \n",
       "8636            0              1                 0                  1   \n",
       "\n",
       "     EDUCATION_College EDUCATION_Doctor EDUCATION_High_School_or_Below  \\\n",
       "0                    0                0                              0   \n",
       "1                    0                0                              1   \n",
       "2                    1                0                              0   \n",
       "3                    0                0                              1   \n",
       "4                    0                0                              0   \n",
       "...                ...              ...                            ...   \n",
       "8632                 1                0                              0   \n",
       "8633                 0                1                              0   \n",
       "8634                 0                0                              1   \n",
       "8635                 0                0                              0   \n",
       "8636                 0                0                              0   \n",
       "\n",
       "     EMPLOYMENTSTATUS_Disabled EMPLOYMENTSTATUS_Employed  \\\n",
       "0                            0                         1   \n",
       "1                            0                         0   \n",
       "2                            0                         1   \n",
       "3                            0                         1   \n",
       "4                            0                         0   \n",
       "...                        ...                       ...   \n",
       "8632                         0                         0   \n",
       "8633                         0                         1   \n",
       "8634                         0                         0   \n",
       "8635                         0                         0   \n",
       "8636                         0                         1   \n",
       "\n",
       "     EMPLOYMENTSTATUS_Medical_Leave EMPLOYMENTSTATUS_Retired  \\\n",
       "0                                 0                        0   \n",
       "1                                 0                        0   \n",
       "2                                 0                        0   \n",
       "3                                 0                        0   \n",
       "4                                 0                        0   \n",
       "...                             ...                      ...   \n",
       "8632                              0                        0   \n",
       "8633                              0                        0   \n",
       "8634                              0                        1   \n",
       "8635                              0                        0   \n",
       "8636                              0                        0   \n",
       "\n",
       "     LOCATION CODE_Rural LOCATION CODE_Suburban MARITAL STATUS_Divorced  \\\n",
       "0                      0                      0                       0   \n",
       "1                      0                      1                       0   \n",
       "2                      0                      0                       0   \n",
       "3                      0                      1                       0   \n",
       "4                      0                      1                       0   \n",
       "...                  ...                    ...                     ...   \n",
       "8632                   0                      1                       0   \n",
       "8633                   0                      0                       0   \n",
       "8634                   0                      1                       0   \n",
       "8635                   0                      1                       0   \n",
       "8636                   1                      0                       0   \n",
       "\n",
       "     MARITAL STATUS_Married POLICY TYPE_Corporate_Auto  \\\n",
       "0                         1                          1   \n",
       "1                         0                          0   \n",
       "2                         0                          0   \n",
       "3                         1                          0   \n",
       "4                         0                          0   \n",
       "...                     ...                        ...   \n",
       "8632                      1                          0   \n",
       "8633                      1                          0   \n",
       "8634                      0                          0   \n",
       "8635                      1                          1   \n",
       "8636                      0                          0   \n",
       "\n",
       "     POLICY TYPE_Personal_Auto SALES CHANNEL_Agent SALES CHANNEL_Branch  \\\n",
       "0                            0                   0                    0   \n",
       "1                            1                   0                    1   \n",
       "2                            1                   0                    0   \n",
       "3                            1                   0                    1   \n",
       "4                            1                   1                    0   \n",
       "...                        ...                 ...                  ...   \n",
       "8632                         1                   0                    0   \n",
       "8633                         1                   0                    1   \n",
       "8634                         1                   1                    0   \n",
       "8635                         0                   1                    0   \n",
       "8636                         1                   0                    0   \n",
       "\n",
       "     SALES CHANNEL_Call_Center VEHICLE CLASS_Four-Door_Car  \\\n",
       "0                            0                           1   \n",
       "1                            0                           0   \n",
       "2                            0                           0   \n",
       "3                            0                           0   \n",
       "4                            0                           1   \n",
       "...                        ...                         ...   \n",
       "8632                         1                           0   \n",
       "8633                         0                           0   \n",
       "8634                         0                           0   \n",
       "8635                         0                           0   \n",
       "8636                         1                           1   \n",
       "\n",
       "     VEHICLE CLASS_Luxury_Car VEHICLE CLASS_Luxury_SUV VEHICLE CLASS_SUV  \\\n",
       "0                           0                        0                 0   \n",
       "1                           0                        0                 1   \n",
       "2                           0                        0                 1   \n",
       "3                           0                        0                 0   \n",
       "4                           0                        0                 0   \n",
       "...                       ...                      ...               ...   \n",
       "8632                        0                        0                 0   \n",
       "8633                        0                        0                 0   \n",
       "8634                        0                        0                 1   \n",
       "8635                        0                        0                 1   \n",
       "8636                        0                        0                 0   \n",
       "\n",
       "     VEHICLE CLASS_Sports_Car  \n",
       "0                           0  \n",
       "1                           0  \n",
       "2                           0  \n",
       "3                           0  \n",
       "4                           0  \n",
       "...                       ...  \n",
       "8632                        0  \n",
       "8633                        1  \n",
       "8634                        0  \n",
       "8635                        0  \n",
       "8636                        0  \n",
       "\n",
       "[8637 rows x 41 columns]"
      ]
     },
     "execution_count": 26,
     "metadata": {},
     "output_type": "execute_result"
    }
   ],
   "source": [
    "#The whole dataset is only containing numerical features for the model training\n",
    "datac"
   ]
  },
  {
   "cell_type": "code",
   "execution_count": 27,
   "metadata": {},
   "outputs": [
    {
     "data": {
      "text/plain": [
       "1898.6836859999999"
      ]
     },
     "execution_count": 27,
     "metadata": {},
     "output_type": "execute_result"
    }
   ],
   "source": [
    "datac[\"CLV\"].min()"
   ]
  },
  {
   "cell_type": "markdown",
   "metadata": {},
   "source": [
    "# 2.3 Data Normalization\n",
    "\n",
    "We decide to normalize the dataset before using it to train the model.\n",
    "The data range value is very wide and there is a strong inertia on the data, so we prefer to normalize them to help the model have a better understanding of them.\n",
    "\n",
    "Data normalization is a scaling technique where values are shifted and rescaled to end up between a smaller range.\n",
    "<br>In this context we normalize based on the Zscore on AzureML.\n",
    "\n",
    "Moreoever we decide to apply a logarithmic normalization **separately** of the other data on the `CLV` feature for the same reasons as stated before and also because of the asymmetry of the data.\n",
    "<br>*We DO NOT apply the Zscore normalization on the CLV*\n",
    "\n",
    "We don't forget to apply the exponential function to `CLV` before creating the new CSV file."
   ]
  },
  {
   "cell_type": "code",
   "execution_count": 28,
   "metadata": {},
   "outputs": [
    {
     "data": {
      "text/plain": [
       "<seaborn.axisgrid.FacetGrid at 0x2c25eabe490>"
      ]
     },
     "execution_count": 28,
     "metadata": {},
     "output_type": "execute_result"
    },
    {
     "data": {
      "image/png": "[encoded data removed]",
      "text/plain": [
       "<Figure size 360x360 with 1 Axes>"
      ]
     },
     "metadata": {
      "needs_background": "light"
     },
     "output_type": "display_data"
    }
   ],
   "source": [
    "#Log normalisation of CLV\n",
    "sns.displot(datac[\"CLV\"])"
   ]
  },
  {
   "cell_type": "code",
   "execution_count": 29,
   "metadata": {},
   "outputs": [
    {
     "data": {
      "text/plain": [
       "<seaborn.axisgrid.FacetGrid at 0x2c25eabe9d0>"
      ]
     },
     "execution_count": 29,
     "metadata": {},
     "output_type": "execute_result"
    },
    {
     "data": {
      "image/png": "[encoded data removed]",
      "text/plain": [
       "<Figure size 360x360 with 1 Axes>"
      ]
     },
     "metadata": {
      "needs_background": "light"
     },
     "output_type": "display_data"
    }
   ],
   "source": [
    "#ONLY RUN IT ONCE!!! ⛔\n",
    "datac[\"CLV\"] = np.log(datac[\"CLV\"].astype(float))\n",
    "sns.displot(datac[\"CLV\"])"
   ]
  },
  {
   "cell_type": "markdown",
   "metadata": {},
   "source": [
    "*Yoko for the win* 🐕\n",
    "![](Yoko_ASCII_small.png)"
   ]
  },
  {
   "cell_type": "markdown",
   "metadata": {},
   "source": [
    "# 3. Models\n",
    "\n",
    "## 3.1 Tested models"
   ]
  },
  {
   "cell_type": "markdown",
   "metadata": {},
   "source": [
    "We decided to use 5 different regression model types for our dataset.\n",
    "\n",
    "- Bayesian Linear Regression\n",
    "    <br>Our baseline model. It is a linear regression using probability distribution rather than point estimates.\n",
    "    <br>However it is most efficient when dealing with insufficient data or poor distributed data, what is not the case with this dataset.\n",
    "- Poisson Regression\n",
    "    <br>An other linear regression model\n",
    "    <br>Used to tell which X-values work on Y-values.\n",
    "- Decision Forest Regression\n",
    "    <br>This regression model consists of an ensemble of decision trees.\n",
    "    <br>A Random Forest operates by constructing several decision trees during training time and outputting the mean of the classes as the prediction of all the trees.\n",
    "- Boosted Decision Tree Regression\n",
    "    <br>Like a Random Forest model, this model also uses boosting methods.\n",
    "    <br>Each tree is dependent on prior trees.\n",
    "    <br>The algorithm learns by fitting the residual of the trees that preceded it, tending to improve accuracy with some small risk of less coverage.\n",
    "- Neural network Regression\n",
    "    <br>A flexible model structured like a brain nervous system used for classification and regression."
   ]
  },
  {
   "cell_type": "markdown",
   "metadata": {},
   "source": [
    "## 3.2 Best Model\n",
    "\n",
    "Based on our results the best model is the **Decision Forest Regression** with these metrics\n",
    "\n",
    "**RMSE : 0.191036**\n",
    "<br>**r² : 0.915563**\n",
    "<br>This model fits at **91.56%** to our test data.\n",
    "\n",
    "Here are the hyperparameters used in this model :\n",
    "\n",
    "    Min num of samples per leaf node : 1\n",
    "    The minimum of data points we have allowed in a leaf node.\n",
    "\n",
    "    Number of random splits per node : 128\n",
    "    The amount splits to use when building each node of the tree.\n",
    "    \n",
    "    Max depth of the decision trees : 64\n",
    "    Limiting the maxium depth of a decision tree. The higher it is, the better should be the precision but at the risk of some overfitting.\n",
    "    \n",
    "    Number of decision trees : 32\n",
    "    The amount of decision trees created, the higher the better the coverage.\n",
    "    \n",
    "Based on these results, we can assume that this model is the best we have trained in this data analysis and would be the most efficient to find the CLV of the new customers."
   ]
  },
  {
   "cell_type": "markdown",
   "metadata": {},
   "source": [
    "# 4. Results Comparison\n",
    "\n",
    "We have decided to create two CSV files, the first that will be used below containing the `CLV` calculated by our model and all the features of the dataset.\n",
    "<br>The second CSV file is containing only the `CLV` calculated by our model and the `CustomerID` so the results are easier to read.\n",
    "    \n",
    "**The second CSV file will be uploaded for the assignment.**\n",
    "\n",
    "Before claiming that our analysis is finished, we need finally to compare the results we got from our model with the data we had initially in the training dataset.\n",
    "<br>This analysis is not mandatory but will verify our assumptions with the results obtained from the model.\n",
    "<br>We are going to compare the first dataset `CLV-Training.csv` and `NewCLV-Test.csv` based on their distribution."
   ]
  },
  {
   "cell_type": "code",
   "execution_count": 30,
   "metadata": {},
   "outputs": [
    {
     "data": {
      "text/html": [
       "<div>\n",
       "<style scoped>\n",
       "    .dataframe tbody tr th:only-of-type {\n",
       "        vertical-align: middle;\n",
       "    }\n",
       "\n",
       "    .dataframe tbody tr th {\n",
       "        vertical-align: top;\n",
       "    }\n",
       "\n",
       "    .dataframe thead th {\n",
       "        text-align: right;\n",
       "    }\n",
       "</style>\n",
       "<table border=\"1\" class=\"dataframe\">\n",
       "  <thead>\n",
       "    <tr style=\"text-align: right;\">\n",
       "      <th></th>\n",
       "      <th>Income</th>\n",
       "      <th>Monthly Premium Auto</th>\n",
       "      <th>Months Since Last Claim</th>\n",
       "      <th>Months Since Policy Inception</th>\n",
       "      <th>Number of Open Complaints</th>\n",
       "      <th>Number of Policies</th>\n",
       "      <th>Total Claim Amount</th>\n",
       "      <th>CLV</th>\n",
       "      <th>Scored Label Mean</th>\n",
       "      <th>Scored Label Standard Deviation</th>\n",
       "    </tr>\n",
       "  </thead>\n",
       "  <tbody>\n",
       "    <tr>\n",
       "      <th>count</th>\n",
       "      <td>646.00000</td>\n",
       "      <td>646.000000</td>\n",
       "      <td>646.000000</td>\n",
       "      <td>646.000000</td>\n",
       "      <td>646.000000</td>\n",
       "      <td>646.000000</td>\n",
       "      <td>646.000000</td>\n",
       "      <td>646.0</td>\n",
       "      <td>646.000000</td>\n",
       "      <td>646.000000</td>\n",
       "    </tr>\n",
       "    <tr>\n",
       "      <th>mean</th>\n",
       "      <td>37267.80031</td>\n",
       "      <td>93.266254</td>\n",
       "      <td>13.930341</td>\n",
       "      <td>48.982972</td>\n",
       "      <td>0.400929</td>\n",
       "      <td>2.927245</td>\n",
       "      <td>434.001407</td>\n",
       "      <td>8000.0</td>\n",
       "      <td>11067.487103</td>\n",
       "      <td>1.334813</td>\n",
       "    </tr>\n",
       "    <tr>\n",
       "      <th>std</th>\n",
       "      <td>30701.95353</td>\n",
       "      <td>32.752873</td>\n",
       "      <td>9.911693</td>\n",
       "      <td>27.307290</td>\n",
       "      <td>0.915973</td>\n",
       "      <td>2.394950</td>\n",
       "      <td>289.401913</td>\n",
       "      <td>0.0</td>\n",
       "      <td>6282.740652</td>\n",
       "      <td>0.212721</td>\n",
       "    </tr>\n",
       "    <tr>\n",
       "      <th>min</th>\n",
       "      <td>0.00000</td>\n",
       "      <td>61.000000</td>\n",
       "      <td>0.000000</td>\n",
       "      <td>0.000000</td>\n",
       "      <td>0.000000</td>\n",
       "      <td>1.000000</td>\n",
       "      <td>1.838367</td>\n",
       "      <td>8000.0</td>\n",
       "      <td>4867.267188</td>\n",
       "      <td>1.053273</td>\n",
       "    </tr>\n",
       "    <tr>\n",
       "      <th>25%</th>\n",
       "      <td>0.00000</td>\n",
       "      <td>69.000000</td>\n",
       "      <td>6.000000</td>\n",
       "      <td>28.000000</td>\n",
       "      <td>0.000000</td>\n",
       "      <td>1.000000</td>\n",
       "      <td>273.751194</td>\n",
       "      <td>8000.0</td>\n",
       "      <td>5880.975771</td>\n",
       "      <td>1.099571</td>\n",
       "    </tr>\n",
       "    <tr>\n",
       "      <th>50%</th>\n",
       "      <td>35862.00000</td>\n",
       "      <td>86.000000</td>\n",
       "      <td>12.000000</td>\n",
       "      <td>50.000000</td>\n",
       "      <td>0.000000</td>\n",
       "      <td>2.000000</td>\n",
       "      <td>386.031248</td>\n",
       "      <td>8000.0</td>\n",
       "      <td>10057.614448</td>\n",
       "      <td>1.327071</td>\n",
       "    </tr>\n",
       "    <tr>\n",
       "      <th>75%</th>\n",
       "      <td>63774.00000</td>\n",
       "      <td>109.000000</td>\n",
       "      <td>22.000000</td>\n",
       "      <td>70.000000</td>\n",
       "      <td>0.000000</td>\n",
       "      <td>4.000000</td>\n",
       "      <td>553.800000</td>\n",
       "      <td>8000.0</td>\n",
       "      <td>12772.061558</td>\n",
       "      <td>1.509201</td>\n",
       "    </tr>\n",
       "    <tr>\n",
       "      <th>max</th>\n",
       "      <td>99841.00000</td>\n",
       "      <td>295.000000</td>\n",
       "      <td>35.000000</td>\n",
       "      <td>99.000000</td>\n",
       "      <td>5.000000</td>\n",
       "      <td>9.000000</td>\n",
       "      <td>2327.166394</td>\n",
       "      <td>8000.0</td>\n",
       "      <td>38883.461085</td>\n",
       "      <td>1.848631</td>\n",
       "    </tr>\n",
       "  </tbody>\n",
       "</table>\n",
       "</div>"
      ],
      "text/plain": [
       "            Income  Monthly Premium Auto  Months Since Last Claim  \\\n",
       "count    646.00000            646.000000               646.000000   \n",
       "mean   37267.80031             93.266254                13.930341   \n",
       "std    30701.95353             32.752873                 9.911693   \n",
       "min        0.00000             61.000000                 0.000000   \n",
       "25%        0.00000             69.000000                 6.000000   \n",
       "50%    35862.00000             86.000000                12.000000   \n",
       "75%    63774.00000            109.000000                22.000000   \n",
       "max    99841.00000            295.000000                35.000000   \n",
       "\n",
       "       Months Since Policy Inception  Number of Open Complaints  \\\n",
       "count                     646.000000                 646.000000   \n",
       "mean                       48.982972                   0.400929   \n",
       "std                        27.307290                   0.915973   \n",
       "min                         0.000000                   0.000000   \n",
       "25%                        28.000000                   0.000000   \n",
       "50%                        50.000000                   0.000000   \n",
       "75%                        70.000000                   0.000000   \n",
       "max                        99.000000                   5.000000   \n",
       "\n",
       "       Number of Policies  Total Claim Amount     CLV  Scored Label Mean  \\\n",
       "count          646.000000          646.000000   646.0         646.000000   \n",
       "mean             2.927245          434.001407  8000.0       11067.487103   \n",
       "std              2.394950          289.401913     0.0        6282.740652   \n",
       "min              1.000000            1.838367  8000.0        4867.267188   \n",
       "25%              1.000000          273.751194  8000.0        5880.975771   \n",
       "50%              2.000000          386.031248  8000.0       10057.614448   \n",
       "75%              4.000000          553.800000  8000.0       12772.061558   \n",
       "max              9.000000         2327.166394  8000.0       38883.461085   \n",
       "\n",
       "       Scored Label Standard Deviation  \n",
       "count                       646.000000  \n",
       "mean                          1.334813  \n",
       "std                           0.212721  \n",
       "min                           1.053273  \n",
       "25%                           1.099571  \n",
       "50%                           1.327071  \n",
       "75%                           1.509201  \n",
       "max                           1.848631  "
      ]
     },
     "execution_count": 30,
     "metadata": {},
     "output_type": "execute_result"
    }
   ],
   "source": [
    "#Loading the dataset in memory\n",
    "dataTest = pd.read_csv(\"NewCLV-Test.csv\")\n",
    "\n",
    "#Displaying all columns of the dataset\n",
    "pd.set_option('display.max_columns', None)\n",
    "dataTest.describe()"
   ]
  },
  {
   "cell_type": "code",
   "execution_count": 31,
   "metadata": {
    "scrolled": true
   },
   "outputs": [
    {
     "data": {
      "text/html": [
       "<div>\n",
       "<style scoped>\n",
       "    .dataframe tbody tr th:only-of-type {\n",
       "        vertical-align: middle;\n",
       "    }\n",
       "\n",
       "    .dataframe tbody tr th {\n",
       "        vertical-align: top;\n",
       "    }\n",
       "\n",
       "    .dataframe thead th {\n",
       "        text-align: right;\n",
       "    }\n",
       "</style>\n",
       "<table border=\"1\" class=\"dataframe\">\n",
       "  <thead>\n",
       "    <tr style=\"text-align: right;\">\n",
       "      <th></th>\n",
       "      <th>Income</th>\n",
       "      <th>Monthly Premium Auto</th>\n",
       "      <th>Months Since Last Claim</th>\n",
       "      <th>Months Since Policy Inception</th>\n",
       "      <th>Number of Open Complaints</th>\n",
       "      <th>Number of Policies</th>\n",
       "      <th>Total Claim Amount</th>\n",
       "      <th>CLV</th>\n",
       "    </tr>\n",
       "  </thead>\n",
       "  <tbody>\n",
       "    <tr>\n",
       "      <th>count</th>\n",
       "      <td>8637.000000</td>\n",
       "      <td>8637.000000</td>\n",
       "      <td>8637.000000</td>\n",
       "      <td>8637.00000</td>\n",
       "      <td>8637.000000</td>\n",
       "      <td>8637.000000</td>\n",
       "      <td>8637.000000</td>\n",
       "      <td>8637.000000</td>\n",
       "    </tr>\n",
       "    <tr>\n",
       "      <th>mean</th>\n",
       "      <td>37670.275906</td>\n",
       "      <td>93.282853</td>\n",
       "      <td>15.152831</td>\n",
       "      <td>48.02744</td>\n",
       "      <td>0.381614</td>\n",
       "      <td>2.967466</td>\n",
       "      <td>434.529481</td>\n",
       "      <td>7999.903842</td>\n",
       "    </tr>\n",
       "    <tr>\n",
       "      <th>std</th>\n",
       "      <td>30379.553849</td>\n",
       "      <td>34.526547</td>\n",
       "      <td>10.071044</td>\n",
       "      <td>27.88397</td>\n",
       "      <td>0.907881</td>\n",
       "      <td>2.389180</td>\n",
       "      <td>290.536359</td>\n",
       "      <td>6848.774265</td>\n",
       "    </tr>\n",
       "    <tr>\n",
       "      <th>min</th>\n",
       "      <td>0.000000</td>\n",
       "      <td>61.000000</td>\n",
       "      <td>0.000000</td>\n",
       "      <td>0.00000</td>\n",
       "      <td>0.000000</td>\n",
       "      <td>1.000000</td>\n",
       "      <td>0.099007</td>\n",
       "      <td>1898.683686</td>\n",
       "    </tr>\n",
       "    <tr>\n",
       "      <th>25%</th>\n",
       "      <td>0.000000</td>\n",
       "      <td>68.000000</td>\n",
       "      <td>6.000000</td>\n",
       "      <td>24.00000</td>\n",
       "      <td>0.000000</td>\n",
       "      <td>1.000000</td>\n",
       "      <td>272.217171</td>\n",
       "      <td>3997.476302</td>\n",
       "    </tr>\n",
       "    <tr>\n",
       "      <th>50%</th>\n",
       "      <td>33816.000000</td>\n",
       "      <td>83.000000</td>\n",
       "      <td>14.000000</td>\n",
       "      <td>48.00000</td>\n",
       "      <td>0.000000</td>\n",
       "      <td>2.000000</td>\n",
       "      <td>383.797363</td>\n",
       "      <td>5797.604861</td>\n",
       "    </tr>\n",
       "    <tr>\n",
       "      <th>75%</th>\n",
       "      <td>62262.000000</td>\n",
       "      <td>109.000000</td>\n",
       "      <td>23.000000</td>\n",
       "      <td>71.00000</td>\n",
       "      <td>0.000000</td>\n",
       "      <td>4.000000</td>\n",
       "      <td>547.619785</td>\n",
       "      <td>8937.118615</td>\n",
       "    </tr>\n",
       "    <tr>\n",
       "      <th>max</th>\n",
       "      <td>99981.000000</td>\n",
       "      <td>298.000000</td>\n",
       "      <td>35.000000</td>\n",
       "      <td>99.00000</td>\n",
       "      <td>5.000000</td>\n",
       "      <td>9.000000</td>\n",
       "      <td>2893.239678</td>\n",
       "      <td>83325.381190</td>\n",
       "    </tr>\n",
       "  </tbody>\n",
       "</table>\n",
       "</div>"
      ],
      "text/plain": [
       "             Income  Monthly Premium Auto  Months Since Last Claim  \\\n",
       "count   8637.000000           8637.000000              8637.000000   \n",
       "mean   37670.275906             93.282853                15.152831   \n",
       "std    30379.553849             34.526547                10.071044   \n",
       "min        0.000000             61.000000                 0.000000   \n",
       "25%        0.000000             68.000000                 6.000000   \n",
       "50%    33816.000000             83.000000                14.000000   \n",
       "75%    62262.000000            109.000000                23.000000   \n",
       "max    99981.000000            298.000000                35.000000   \n",
       "\n",
       "       Months Since Policy Inception  Number of Open Complaints  \\\n",
       "count                     8637.00000                8637.000000   \n",
       "mean                        48.02744                   0.381614   \n",
       "std                         27.88397                   0.907881   \n",
       "min                          0.00000                   0.000000   \n",
       "25%                         24.00000                   0.000000   \n",
       "50%                         48.00000                   0.000000   \n",
       "75%                         71.00000                   0.000000   \n",
       "max                         99.00000                   5.000000   \n",
       "\n",
       "       Number of Policies  Total Claim Amount           CLV  \n",
       "count         8637.000000         8637.000000   8637.000000  \n",
       "mean             2.967466          434.529481   7999.903842  \n",
       "std              2.389180          290.536359   6848.774265  \n",
       "min              1.000000            0.099007   1898.683686  \n",
       "25%              1.000000          272.217171   3997.476302  \n",
       "50%              2.000000          383.797363   5797.604861  \n",
       "75%              4.000000          547.619785   8937.118615  \n",
       "max              9.000000         2893.239678  83325.381190  "
      ]
     },
     "execution_count": 31,
     "metadata": {},
     "output_type": "execute_result"
    }
   ],
   "source": [
    "data.describe()"
   ]
  },
  {
   "cell_type": "code",
   "execution_count": 32,
   "metadata": {},
   "outputs": [],
   "source": [
    "#We drop CLV column containing default CLV (8000) and Scored Label Standard Deviation, since they won't bring any information\n",
    "dataTest = dataTest.drop([\"CLV\",\"Scored Label Standard Deviation\"], axis=1)"
   ]
  },
  {
   "cell_type": "code",
   "execution_count": 33,
   "metadata": {},
   "outputs": [],
   "source": [
    "dataTest = dataTest.rename({\"Scored Label Mean\":\"CLV\"}, axis=1)"
   ]
  },
  {
   "cell_type": "markdown",
   "metadata": {},
   "source": [
    "## 4.1 Comparison with `CLV`\n",
    "We are going to compare the `CLV` distribution between `CLV-Training.csv` and `NewCLV-Test.csv`,"
   ]
  },
  {
   "cell_type": "code",
   "execution_count": 34,
   "metadata": {},
   "outputs": [
    {
     "data": {
      "image/png": "[encoded data removed]",
      "text/plain": [
       "<Figure size 432x288 with 1 Axes>"
      ]
     },
     "metadata": {
      "needs_background": "light"
     },
     "output_type": "display_data"
    }
   ],
   "source": [
    "#Display plots separately\n",
    "#sns.displot(np.log(dataTest[\"CLV\"].astype(float)))\n",
    "#sns.displot(np.log(data[\"CLV\"].astype(float)))\n",
    "\n",
    "fig, ax = plt.subplots()\n",
    "for a,c in [(np.log(data[\"CLV\"].astype(float)),\"steelblue\"), (np.log(dataTest[\"CLV\"].astype(float)),\"tomato\")]:\n",
    "    sns.histplot(a, ax=ax, kde=False, color=c)\n",
    "plt.legend([\"CLV-Training Dataset\",\"CLV-Test Dataset\"])\n",
    "plt.xlabel(\"Log Scaled CLV\")\n",
    "plt.show()"
   ]
  },
  {
   "cell_type": "code",
   "execution_count": 35,
   "metadata": {
    "scrolled": false
   },
   "outputs": [],
   "source": [
    "datab = data.copy()\n",
    "\n",
    "datab = datab[(datab[\"CLV\"] >= dataTest[\"CLV\"].min()) & (datab[\"CLV\"] <= dataTest[\"CLV\"].max())]"
   ]
  },
  {
   "cell_type": "markdown",
   "metadata": {},
   "source": [
    "## 4.2 Comparison between `Gender` and `CLV`"
   ]
  },
  {
   "cell_type": "code",
   "execution_count": 36,
   "metadata": {},
   "outputs": [
    {
     "data": {
      "text/html": [
       "<div>\n",
       "<style scoped>\n",
       "    .dataframe tbody tr th:only-of-type {\n",
       "        vertical-align: middle;\n",
       "    }\n",
       "\n",
       "    .dataframe tbody tr th {\n",
       "        vertical-align: top;\n",
       "    }\n",
       "\n",
       "    .dataframe thead th {\n",
       "        text-align: right;\n",
       "    }\n",
       "</style>\n",
       "<table border=\"1\" class=\"dataframe\">\n",
       "  <thead>\n",
       "    <tr style=\"text-align: right;\">\n",
       "      <th></th>\n",
       "      <th>count</th>\n",
       "      <th>mean</th>\n",
       "      <th>std</th>\n",
       "      <th>min</th>\n",
       "      <th>25%</th>\n",
       "      <th>50%</th>\n",
       "      <th>75%</th>\n",
       "      <th>max</th>\n",
       "    </tr>\n",
       "    <tr>\n",
       "      <th>Gender</th>\n",
       "      <th></th>\n",
       "      <th></th>\n",
       "      <th></th>\n",
       "      <th></th>\n",
       "      <th></th>\n",
       "      <th></th>\n",
       "      <th></th>\n",
       "      <th></th>\n",
       "    </tr>\n",
       "  </thead>\n",
       "  <tbody>\n",
       "    <tr>\n",
       "      <th>F</th>\n",
       "      <td>2806.0</td>\n",
       "      <td>10263.617243</td>\n",
       "      <td>6356.954470</td>\n",
       "      <td>4867.378203</td>\n",
       "      <td>5884.885390</td>\n",
       "      <td>8085.428783</td>\n",
       "      <td>11619.577798</td>\n",
       "      <td>38496.94701</td>\n",
       "    </tr>\n",
       "    <tr>\n",
       "      <th>M</th>\n",
       "      <td>2705.0</td>\n",
       "      <td>9968.858183</td>\n",
       "      <td>5861.059753</td>\n",
       "      <td>4869.596443</td>\n",
       "      <td>6019.960469</td>\n",
       "      <td>8044.872393</td>\n",
       "      <td>11430.588450</td>\n",
       "      <td>38545.70689</td>\n",
       "    </tr>\n",
       "  </tbody>\n",
       "</table>\n",
       "</div>"
      ],
      "text/plain": [
       "         count          mean          std          min          25%  \\\n",
       "Gender                                                                \n",
       "F       2806.0  10263.617243  6356.954470  4867.378203  5884.885390   \n",
       "M       2705.0   9968.858183  5861.059753  4869.596443  6019.960469   \n",
       "\n",
       "                50%           75%          max  \n",
       "Gender                                          \n",
       "F       8085.428783  11619.577798  38496.94701  \n",
       "M       8044.872393  11430.588450  38545.70689  "
      ]
     },
     "execution_count": 36,
     "metadata": {},
     "output_type": "execute_result"
    }
   ],
   "source": [
    "datab.groupby(\"Gender\").describe()[\"CLV\"]"
   ]
  },
  {
   "cell_type": "code",
   "execution_count": 37,
   "metadata": {
    "scrolled": true
   },
   "outputs": [
    {
     "data": {
      "text/html": [
       "<div>\n",
       "<style scoped>\n",
       "    .dataframe tbody tr th:only-of-type {\n",
       "        vertical-align: middle;\n",
       "    }\n",
       "\n",
       "    .dataframe tbody tr th {\n",
       "        vertical-align: top;\n",
       "    }\n",
       "\n",
       "    .dataframe thead th {\n",
       "        text-align: right;\n",
       "    }\n",
       "</style>\n",
       "<table border=\"1\" class=\"dataframe\">\n",
       "  <thead>\n",
       "    <tr style=\"text-align: right;\">\n",
       "      <th></th>\n",
       "      <th>count</th>\n",
       "      <th>mean</th>\n",
       "      <th>std</th>\n",
       "      <th>min</th>\n",
       "      <th>25%</th>\n",
       "      <th>50%</th>\n",
       "      <th>75%</th>\n",
       "      <th>max</th>\n",
       "    </tr>\n",
       "    <tr>\n",
       "      <th>Gender</th>\n",
       "      <th></th>\n",
       "      <th></th>\n",
       "      <th></th>\n",
       "      <th></th>\n",
       "      <th></th>\n",
       "      <th></th>\n",
       "      <th></th>\n",
       "      <th></th>\n",
       "    </tr>\n",
       "  </thead>\n",
       "  <tbody>\n",
       "    <tr>\n",
       "      <th>F</th>\n",
       "      <td>333.0</td>\n",
       "      <td>11650.368170</td>\n",
       "      <td>6716.111635</td>\n",
       "      <td>4867.267188</td>\n",
       "      <td>6012.811743</td>\n",
       "      <td>10292.791172</td>\n",
       "      <td>13699.634130</td>\n",
       "      <td>38883.461085</td>\n",
       "    </tr>\n",
       "    <tr>\n",
       "      <th>M</th>\n",
       "      <td>313.0</td>\n",
       "      <td>10447.361241</td>\n",
       "      <td>5732.059211</td>\n",
       "      <td>4889.354819</td>\n",
       "      <td>5856.561826</td>\n",
       "      <td>9462.252457</td>\n",
       "      <td>12108.725439</td>\n",
       "      <td>36758.362070</td>\n",
       "    </tr>\n",
       "  </tbody>\n",
       "</table>\n",
       "</div>"
      ],
      "text/plain": [
       "        count          mean          std          min          25%  \\\n",
       "Gender                                                               \n",
       "F       333.0  11650.368170  6716.111635  4867.267188  6012.811743   \n",
       "M       313.0  10447.361241  5732.059211  4889.354819  5856.561826   \n",
       "\n",
       "                 50%           75%           max  \n",
       "Gender                                            \n",
       "F       10292.791172  13699.634130  38883.461085  \n",
       "M        9462.252457  12108.725439  36758.362070  "
      ]
     },
     "execution_count": 37,
     "metadata": {},
     "output_type": "execute_result"
    }
   ],
   "source": [
    "dataTest.groupby(\"Gender\").describe()[\"CLV\"]"
   ]
  },
  {
   "cell_type": "code",
   "execution_count": 38,
   "metadata": {
    "scrolled": false
   },
   "outputs": [
    {
     "data": {
      "image/png": "[encoded data removed]",
      "text/plain": [
       "<Figure size 432x288 with 1 Axes>"
      ]
     },
     "metadata": {
      "needs_background": "light"
     },
     "output_type": "display_data"
    }
   ],
   "source": [
    "#Filtering Males\n",
    "fig, ax = plt.subplots()\n",
    "df_train = datab[datab[\"Gender\"] == \"M\"]\n",
    "df_test = dataTest[dataTest[\"Gender\"] == \"M\"]\n",
    "\n",
    "for a,c in [(np.log(df_train[\"CLV\"].astype(float)),\"steelblue\"), (np.log(df_test[\"CLV\"].astype(float)),\"tomato\")]:\n",
    "    sns.histplot(a, ax=ax, kde=False, color=c)\n",
    "plt.legend([\"CLV-Training Dataset\",\"CLV-Test Dataset\"])\n",
    "plt.xlabel(\"Log Scaled CLV\")\n",
    "plt.show()"
   ]
  },
  {
   "cell_type": "code",
   "execution_count": 39,
   "metadata": {},
   "outputs": [
    {
     "data": {
      "image/png": "[encoded data removed]",
      "text/plain": [
       "<Figure size 432x288 with 1 Axes>"
      ]
     },
     "metadata": {
      "needs_background": "light"
     },
     "output_type": "display_data"
    }
   ],
   "source": [
    "#Filtering Females\n",
    "fig, ax = plt.subplots()\n",
    "df_train = datab[datab[\"Gender\"] == \"F\"]\n",
    "df_test = dataTest[dataTest[\"Gender\"] == \"F\"]\n",
    "\n",
    "for a,c in [(np.log(df_train[\"CLV\"].astype(float)),\"steelblue\"), (np.log(df_test[\"CLV\"].astype(float)),\"tomato\")]:\n",
    "    sns.histplot(a, ax=ax, kde=False, color=c)\n",
    "plt.legend([\"CLV-Training Dataset\",\"CLV-Test Dataset\"])\n",
    "plt.xlabel(\"Log Scaled CLV\")\n",
    "plt.show()"
   ]
  },
  {
   "cell_type": "markdown",
   "metadata": {},
   "source": [
    "We can clearly see close distribution between the two datasets.\n",
    "\n",
    "Male and Female are equally distributed in both datasets\n",
    "\n",
    "`CLV-Training.csv` : 50.92%\n",
    "<br>`CLV-Test.csv` : 51.55%"
   ]
  },
  {
   "cell_type": "markdown",
   "metadata": {},
   "source": [
    "# 4.3 Comparison between `Income` and `CLV`"
   ]
  },
  {
   "cell_type": "code",
   "execution_count": 40,
   "metadata": {
    "scrolled": true
   },
   "outputs": [
    {
     "data": {
      "text/html": [
       "<div>\n",
       "<style scoped>\n",
       "    .dataframe tbody tr th:only-of-type {\n",
       "        vertical-align: middle;\n",
       "    }\n",
       "\n",
       "    .dataframe tbody tr th {\n",
       "        vertical-align: top;\n",
       "    }\n",
       "\n",
       "    .dataframe thead th {\n",
       "        text-align: right;\n",
       "    }\n",
       "</style>\n",
       "<table border=\"1\" class=\"dataframe\">\n",
       "  <thead>\n",
       "    <tr style=\"text-align: right;\">\n",
       "      <th></th>\n",
       "      <th>count</th>\n",
       "      <th>mean</th>\n",
       "      <th>std</th>\n",
       "      <th>min</th>\n",
       "      <th>25%</th>\n",
       "      <th>50%</th>\n",
       "      <th>75%</th>\n",
       "      <th>max</th>\n",
       "    </tr>\n",
       "    <tr>\n",
       "      <th>EmploymentStatus</th>\n",
       "      <th></th>\n",
       "      <th></th>\n",
       "      <th></th>\n",
       "      <th></th>\n",
       "      <th></th>\n",
       "      <th></th>\n",
       "      <th></th>\n",
       "      <th></th>\n",
       "    </tr>\n",
       "  </thead>\n",
       "  <tbody>\n",
       "    <tr>\n",
       "      <th>Disabled</th>\n",
       "      <td>239.0</td>\n",
       "      <td>10424.199526</td>\n",
       "      <td>6342.929899</td>\n",
       "      <td>4867.378203</td>\n",
       "      <td>6503.397049</td>\n",
       "      <td>8257.666512</td>\n",
       "      <td>11780.771900</td>\n",
       "      <td>37150.82945</td>\n",
       "    </tr>\n",
       "    <tr>\n",
       "      <th>Employed</th>\n",
       "      <td>3622.0</td>\n",
       "      <td>10030.802460</td>\n",
       "      <td>6174.584176</td>\n",
       "      <td>4868.807554</td>\n",
       "      <td>5789.477247</td>\n",
       "      <td>8043.657772</td>\n",
       "      <td>11012.905323</td>\n",
       "      <td>38545.70689</td>\n",
       "    </tr>\n",
       "    <tr>\n",
       "      <th>Medical Leave</th>\n",
       "      <td>227.0</td>\n",
       "      <td>10564.006980</td>\n",
       "      <td>6391.845200</td>\n",
       "      <td>4869.596443</td>\n",
       "      <td>6098.229671</td>\n",
       "      <td>8281.740124</td>\n",
       "      <td>12356.156965</td>\n",
       "      <td>36860.90798</td>\n",
       "    </tr>\n",
       "    <tr>\n",
       "      <th>Retired</th>\n",
       "      <td>150.0</td>\n",
       "      <td>10869.172063</td>\n",
       "      <td>5848.023970</td>\n",
       "      <td>4873.436612</td>\n",
       "      <td>6273.911874</td>\n",
       "      <td>9310.770644</td>\n",
       "      <td>12168.744920</td>\n",
       "      <td>30591.61257</td>\n",
       "    </tr>\n",
       "    <tr>\n",
       "      <th>Unemployed</th>\n",
       "      <td>1273.0</td>\n",
       "      <td>10144.631403</td>\n",
       "      <td>5896.279282</td>\n",
       "      <td>4872.016380</td>\n",
       "      <td>6439.330195</td>\n",
       "      <td>7984.086473</td>\n",
       "      <td>11885.967970</td>\n",
       "      <td>38055.20953</td>\n",
       "    </tr>\n",
       "  </tbody>\n",
       "</table>\n",
       "</div>"
      ],
      "text/plain": [
       "                   count          mean          std          min          25%  \\\n",
       "EmploymentStatus                                                                \n",
       "Disabled           239.0  10424.199526  6342.929899  4867.378203  6503.397049   \n",
       "Employed          3622.0  10030.802460  6174.584176  4868.807554  5789.477247   \n",
       "Medical Leave      227.0  10564.006980  6391.845200  4869.596443  6098.229671   \n",
       "Retired            150.0  10869.172063  5848.023970  4873.436612  6273.911874   \n",
       "Unemployed        1273.0  10144.631403  5896.279282  4872.016380  6439.330195   \n",
       "\n",
       "                          50%           75%          max  \n",
       "EmploymentStatus                                          \n",
       "Disabled          8257.666512  11780.771900  37150.82945  \n",
       "Employed          8043.657772  11012.905323  38545.70689  \n",
       "Medical Leave     8281.740124  12356.156965  36860.90798  \n",
       "Retired           9310.770644  12168.744920  30591.61257  \n",
       "Unemployed        7984.086473  11885.967970  38055.20953  "
      ]
     },
     "execution_count": 40,
     "metadata": {},
     "output_type": "execute_result"
    }
   ],
   "source": [
    "datab.groupby(\"EmploymentStatus\").describe()[\"CLV\"]"
   ]
  },
  {
   "cell_type": "code",
   "execution_count": 41,
   "metadata": {
    "scrolled": false
   },
   "outputs": [
    {
     "data": {
      "text/html": [
       "<div>\n",
       "<style scoped>\n",
       "    .dataframe tbody tr th:only-of-type {\n",
       "        vertical-align: middle;\n",
       "    }\n",
       "\n",
       "    .dataframe tbody tr th {\n",
       "        vertical-align: top;\n",
       "    }\n",
       "\n",
       "    .dataframe thead th {\n",
       "        text-align: right;\n",
       "    }\n",
       "</style>\n",
       "<table border=\"1\" class=\"dataframe\">\n",
       "  <thead>\n",
       "    <tr style=\"text-align: right;\">\n",
       "      <th></th>\n",
       "      <th>count</th>\n",
       "      <th>mean</th>\n",
       "      <th>std</th>\n",
       "      <th>min</th>\n",
       "      <th>25%</th>\n",
       "      <th>50%</th>\n",
       "      <th>75%</th>\n",
       "      <th>max</th>\n",
       "    </tr>\n",
       "    <tr>\n",
       "      <th>EmploymentStatus</th>\n",
       "      <th></th>\n",
       "      <th></th>\n",
       "      <th></th>\n",
       "      <th></th>\n",
       "      <th></th>\n",
       "      <th></th>\n",
       "      <th></th>\n",
       "      <th></th>\n",
       "    </tr>\n",
       "  </thead>\n",
       "  <tbody>\n",
       "    <tr>\n",
       "      <th>Disabled</th>\n",
       "      <td>31.0</td>\n",
       "      <td>12783.184825</td>\n",
       "      <td>6256.092208</td>\n",
       "      <td>4957.917744</td>\n",
       "      <td>9604.974583</td>\n",
       "      <td>11153.477177</td>\n",
       "      <td>18028.192741</td>\n",
       "      <td>29364.950740</td>\n",
       "    </tr>\n",
       "    <tr>\n",
       "      <th>Employed</th>\n",
       "      <td>399.0</td>\n",
       "      <td>10721.628507</td>\n",
       "      <td>6202.272394</td>\n",
       "      <td>4867.267188</td>\n",
       "      <td>5796.022598</td>\n",
       "      <td>9618.435102</td>\n",
       "      <td>12195.413600</td>\n",
       "      <td>37636.508584</td>\n",
       "    </tr>\n",
       "    <tr>\n",
       "      <th>Medical Leave</th>\n",
       "      <td>20.0</td>\n",
       "      <td>8967.662630</td>\n",
       "      <td>4257.377642</td>\n",
       "      <td>5734.383870</td>\n",
       "      <td>5843.414559</td>\n",
       "      <td>7259.083131</td>\n",
       "      <td>10892.759980</td>\n",
       "      <td>22119.107796</td>\n",
       "    </tr>\n",
       "    <tr>\n",
       "      <th>Retired</th>\n",
       "      <td>18.0</td>\n",
       "      <td>16774.004437</td>\n",
       "      <td>5612.832134</td>\n",
       "      <td>5846.913821</td>\n",
       "      <td>15042.063398</td>\n",
       "      <td>17881.063744</td>\n",
       "      <td>21537.454176</td>\n",
       "      <td>22227.313506</td>\n",
       "    </tr>\n",
       "    <tr>\n",
       "      <th>Unemployed</th>\n",
       "      <td>178.0</td>\n",
       "      <td>11202.824900</td>\n",
       "      <td>6412.799867</td>\n",
       "      <td>4901.150915</td>\n",
       "      <td>6110.383818</td>\n",
       "      <td>10182.836753</td>\n",
       "      <td>12570.924768</td>\n",
       "      <td>38883.461085</td>\n",
       "    </tr>\n",
       "  </tbody>\n",
       "</table>\n",
       "</div>"
      ],
      "text/plain": [
       "                  count          mean          std          min           25%  \\\n",
       "EmploymentStatus                                                                \n",
       "Disabled           31.0  12783.184825  6256.092208  4957.917744   9604.974583   \n",
       "Employed          399.0  10721.628507  6202.272394  4867.267188   5796.022598   \n",
       "Medical Leave      20.0   8967.662630  4257.377642  5734.383870   5843.414559   \n",
       "Retired            18.0  16774.004437  5612.832134  5846.913821  15042.063398   \n",
       "Unemployed        178.0  11202.824900  6412.799867  4901.150915   6110.383818   \n",
       "\n",
       "                           50%           75%           max  \n",
       "EmploymentStatus                                            \n",
       "Disabled          11153.477177  18028.192741  29364.950740  \n",
       "Employed           9618.435102  12195.413600  37636.508584  \n",
       "Medical Leave      7259.083131  10892.759980  22119.107796  \n",
       "Retired           17881.063744  21537.454176  22227.313506  \n",
       "Unemployed        10182.836753  12570.924768  38883.461085  "
      ]
     },
     "execution_count": 41,
     "metadata": {},
     "output_type": "execute_result"
    }
   ],
   "source": [
    "dataTest.groupby(\"EmploymentStatus\").describe()[\"CLV\"]"
   ]
  },
  {
   "cell_type": "code",
   "execution_count": 42,
   "metadata": {},
   "outputs": [
    {
     "data": {
      "image/png": "[encoded data removed]",
      "text/plain": [
       "<Figure size 432x288 with 1 Axes>"
      ]
     },
     "metadata": {
      "needs_background": "light"
     },
     "output_type": "display_data"
    }
   ],
   "source": [
    "#Filtering Unemployed\n",
    "fig, ax = plt.subplots()\n",
    "df_train = datab[datab[\"EmploymentStatus\"] == \"Unemployed\"]\n",
    "df_test = dataTest[dataTest[\"EmploymentStatus\"] == \"Unemployed\"]\n",
    "\n",
    "for a,c in [(np.log(df_train[\"CLV\"].astype(float)),\"steelblue\"), (np.log(df_test[\"CLV\"].astype(float)),\"tomato\")]:\n",
    "    sns.histplot(a, ax=ax, kde=False, color=c)\n",
    "plt.legend([\"CLV-Training Dataset\",\"CLV-Test Dataset\"])\n",
    "plt.xlabel(\"Log Scaled CLV\")\n",
    "plt.show()"
   ]
  },
  {
   "cell_type": "code",
   "execution_count": 43,
   "metadata": {
    "scrolled": true
   },
   "outputs": [
    {
     "data": {
      "image/png": "[encoded data removed]",
      "text/plain": [
       "<Figure size 432x288 with 1 Axes>"
      ]
     },
     "metadata": {
      "needs_background": "light"
     },
     "output_type": "display_data"
    }
   ],
   "source": [
    "#Filtering Employed\n",
    "fig, ax = plt.subplots()\n",
    "df_train = datab[datab[\"EmploymentStatus\"] == \"Employed\"]\n",
    "df_test = dataTest[dataTest[\"EmploymentStatus\"] == \"Employed\"]\n",
    "\n",
    "for a,c in [(np.log(df_train[\"CLV\"].astype(float)),\"steelblue\"), (np.log(df_test[\"CLV\"].astype(float)),\"tomato\")]:\n",
    "    sns.histplot(a, ax=ax, kde=False, color=c)\n",
    "plt.legend([\"CLV-Training Dataset\",\"CLV-Test Dataset\"])\n",
    "plt.xlabel(\"Log Scaled CLV\")\n",
    "plt.show()"
   ]
  },
  {
   "cell_type": "code",
   "execution_count": 44,
   "metadata": {
    "scrolled": true
   },
   "outputs": [
    {
     "data": {
      "image/png": "[encoded data removed]",
      "text/plain": [
       "<Figure size 432x288 with 1 Axes>"
      ]
     },
     "metadata": {
      "needs_background": "light"
     },
     "output_type": "display_data"
    }
   ],
   "source": [
    "#Filtering Medical Leave\n",
    "fig, ax = plt.subplots()\n",
    "df_train = datab[datab[\"EmploymentStatus\"] == \"Medical Leave\"]\n",
    "df_test = dataTest[dataTest[\"EmploymentStatus\"] == \"Medical Leave\"]\n",
    "\n",
    "for a,c in [(np.log(df_train[\"CLV\"].astype(float)),\"steelblue\"), (np.log(df_test[\"CLV\"].astype(float)),\"tomato\")]:\n",
    "    sns.histplot(a, ax=ax, kde=False, color=c)\n",
    "plt.legend([\"CLV-Training Dataset\",\"CLV-Test Dataset\"])\n",
    "plt.xlabel(\"Log Scaled CLV\")\n",
    "plt.show()"
   ]
  },
  {
   "cell_type": "code",
   "execution_count": 45,
   "metadata": {
    "scrolled": true
   },
   "outputs": [
    {
     "data": {
      "image/png": "[encoded data removed]",
      "text/plain": [
       "<Figure size 432x288 with 1 Axes>"
      ]
     },
     "metadata": {
      "needs_background": "light"
     },
     "output_type": "display_data"
    }
   ],
   "source": [
    "#Filtering Disabled\n",
    "fig, ax = plt.subplots()\n",
    "df_train = datab[datab[\"EmploymentStatus\"] == \"Disabled\"]\n",
    "df_test = dataTest[dataTest[\"EmploymentStatus\"] == \"Disabled\"]\n",
    "\n",
    "for a,c in [(np.log(df_train[\"CLV\"].astype(float)),\"steelblue\"), (np.log(df_test[\"CLV\"].astype(float)),\"tomato\")]:\n",
    "    sns.histplot(a, ax=ax, kde=False, color=c)\n",
    "plt.legend([\"CLV-Training Dataset\",\"CLV-Test Dataset\"])\n",
    "plt.xlabel(\"Log Scaled CLV\")\n",
    "plt.show()"
   ]
  },
  {
   "cell_type": "code",
   "execution_count": 46,
   "metadata": {},
   "outputs": [
    {
     "data": {
      "image/png": "[encoded data removed]",
      "text/plain": [
       "<Figure size 432x288 with 1 Axes>"
      ]
     },
     "metadata": {
      "needs_background": "light"
     },
     "output_type": "display_data"
    }
   ],
   "source": [
    "#Filtering Retired\n",
    "fig, ax = plt.subplots()\n",
    "df_train = datab[datab[\"EmploymentStatus\"] == \"Retired\"]\n",
    "df_test = dataTest[dataTest[\"EmploymentStatus\"] == \"Retired\"]\n",
    "\n",
    "for a,c in [(np.log(df_train[\"CLV\"].astype(float)),\"steelblue\"), (np.log(df_test[\"CLV\"].astype(float)),\"tomato\")]:\n",
    "    sns.histplot(a, ax=ax, kde=False, color=c)\n",
    "plt.legend([\"CLV-Training Dataset\",\"CLV-Test Dataset\"])\n",
    "plt.xlabel(\"Log Scaled CLV\")\n",
    "plt.show()"
   ]
  },
  {
   "cell_type": "markdown",
   "metadata": {},
   "source": [
    "# 4.5 Conclusion\n",
    "\n",
    "We can see that the model fit well to the training dataset, however it struggled a bit with features with small amount of data.\n",
    "<br>This may be an improving point on the model we have used.\n",
    "\n",
    "A more in depth analysis of the features could have been done to improve the results interpretation but was aborted due to a lack of time with the assignment deadline.\n",
    "\n",
    "Although we have discovered what could be considered as a flaw in our model, it is the proof of an efficient model since it is good at generalizing predictions, **avoiding overfitting**.\n",
    "\n",
    "<br>**Our model is a good compromise between bias and variance, which makes it a pretty good model to predict the `CLV` of future customers.**\n",
    "\n",
    "*and voilà.*\n",
    "<br>🦊"
   ]
  }
 ],
 "metadata": {
  "kernelspec": {
   "display_name": "Python 3",
   "language": "python",
   "name": "python3"
  },
  "language_info": {
   "codemirror_mode": {
    "name": "ipython",
    "version": 3
   },
   "file_extension": ".py",
   "mimetype": "text/x-python",
   "name": "python",
   "nbconvert_exporter": "python",
   "pygments_lexer": "ipython3",
   "version": "3.8.5"
  }
 },
 "nbformat": 4,
 "nbformat_minor": 4
}
