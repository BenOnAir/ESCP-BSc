{
 "cells": [
  {
   "cell_type": "code",
   "execution_count": 1,
   "metadata": {
    "scrolled": false
   },
   "outputs": [
    {
     "name": "stdout",
     "output_type": "stream",
     "text": [
      "Dataframe contains 15 categories\n",
      "Index(['product_name', 'manufacturer', 'price', 'number_of_reviews',\n",
      "       'number_of_answered_questions', 'average_review_rating',\n",
      "       'amazon_category_and_sub_category', 'description',\n",
      "       'product_information', 'product_description',\n",
      "       'customer_questions_and_answers', 'customer_reviews', 'sellers',\n",
      "       'number_available_in_stock_num', 'number_available_in_stock_type'],\n",
      "      dtype='object')\n"
     ]
    }
   ],
   "source": [
    "#Made with ❤️ by Ben🦊 and Totof\n",
    "\n",
    "import pandas as pd\n",
    "import numpy as np\n",
    "import matplotlib\n",
    "import matplotlib.pyplot as plt\n",
    "import json\n",
    "%matplotlib inline\n",
    "\n",
    "file = '4AmazonToys.csv'\n",
    "\n",
    "#Data Frame\n",
    "df = pd.read_csv(file)\n",
    "#We are backing up the dataframe to compare initial values with processed values\n",
    "df_backup = df.copy()\n",
    "\n",
    "\n",
    "#Call DataFrame\n",
    "#-> df\n",
    "\n",
    "#All attributes required for the dataframe analysis\n",
    "\"\"\"\n",
    "We are keeping only certain categories that can be exploited in the data analysis.\n",
    "\n",
    "We are dropping these categories :\n",
    "- unique_id : code that doesn't give any information about the product\n",
    "- customers_who_bought_this_item_also_bought : the information is only a weblink. We could have tried to exploit this data by searching in these links, but most of them are pointing to deleted product pages, or we don't have the tools to extract futher data from webpages\n",
    "- items_customers_buy_after_viewing_this_item : the information is only a weblink. We could have tried to exploit this data by searching in these links, but most of them are pointing to deleted product pages, or we don't have the tools to extract futher data from webpages\n",
    "\n",
    "\"\"\"\n",
    "attribute_information = ['product_name','manufacturer','price','number_available_in_stock','number_of_reviews','number_of_answered_questions','average_review_rating','amazon_category_and_sub_category','description','product_information','product_description','customer_questions_and_answers','customer_reviews','sellers']\n",
    "\n",
    "#Delete not useful attributes\n",
    "for column in df.columns:\n",
    "    if column not in attribute_information:\n",
    "        df.drop(column,axis=1,inplace=True)        \n",
    "\n",
    "#Convert and clean Price\n",
    "def clean_price(x):\n",
    "    try:\n",
    "        #Delete £ symbol\n",
    "        if x.startswith('£'):\n",
    "            #print(x)\n",
    "            x = x.replace('£', '')\n",
    "            #print(x)\n",
    "            #Replace interval prices by mean of interval\n",
    "            if '-' in x:\n",
    "                price = np.mean([float(s.replace(',', '')) for s in x.split(' - ')])\n",
    "            else:\n",
    "                if ',' in x:\n",
    "                    x = x.split('.')[0].replace(',', '')\n",
    "\n",
    "                #Convert price to float\n",
    "                price = float(x)\n",
    "\n",
    "        return price\n",
    "    except AttributeError:\n",
    "        return np.nan\n",
    "\n",
    "    \n",
    "#Clean number of reviews\n",
    "def clean_number_of_reviews(x):\n",
    "    try:\n",
    "        return float(x.replace(',', ''))\n",
    "    except AttributeError:\n",
    "        return np.nan\n",
    "    \n",
    "#Clean Average Review Rating\n",
    "def clean_rating(x):\n",
    "    if pd.isnull(x):\n",
    "        return np.nan\n",
    "    else:\n",
    "        return float(x.split(' ')[0])\n",
    "    \n",
    "#Clean available in stock\n",
    "\"\"\"\n",
    "Available in stock is a data containing a number and a type : \"5 new\" for example \n",
    "The information can be seen as a tuple (num, type)\n",
    "We create 2 new categories : number_available_in_stock_num and number_available_in_stock_type\n",
    "num containing the numerical data\n",
    "type containing the type data (new, refurbished, used...)\n",
    "\"\"\"\n",
    "def clean_available_in_stock(x):\n",
    "    if pd.isnull(x):\n",
    "        return np.nan, np.nan\n",
    "    else:\n",
    "        x1, x2 = tuple(x.split('\\xa0'))\n",
    "        return float(x1), x2\n",
    "\n",
    "    \n",
    "#APPLY CLEAN FUNCTIONS ON :\n",
    "\n",
    "#Price\n",
    "df['price'] = df['price'].apply(clean_price)    \n",
    "\n",
    "#Number Reviews\n",
    "df['number_of_reviews'] = df['number_of_reviews'].apply(clean_number_of_reviews)\n",
    "    \n",
    "#Average Review Rating\n",
    "df['average_review_rating'] = df['average_review_rating'].apply(clean_rating)\n",
    "    \n",
    "#Available in stock\n",
    "df['number_available_in_stock_num'] = [clean_available_in_stock(v)[0] for v in df['number_available_in_stock'].values]\n",
    "df['number_available_in_stock_type'] = [clean_available_in_stock(v)[1] for v in df['number_available_in_stock'].values]\n",
    "df.drop('number_available_in_stock', axis=1, inplace = True) #we drop the old category\n",
    "\n",
    "#END OF APPLY CLEAN\n",
    "\n",
    "#Show all attributes\n",
    "print(\"Dataframe contains\", len(df.columns), \"categories\")\n",
    "print(df.columns)\n",
    "\n",
    "#____DOCU\n",
    "\n",
    "#.quantile(x)\n",
    "#.std(x)\n",
    "#.describe()\n",
    "#df['column'].loc[row]\n",
    "#df['price'].describe()\n",
    "#len(list(df['manufacturer'].unique()))"
   ]
  },
  {
   "cell_type": "code",
   "execution_count": 2,
   "metadata": {},
   "outputs": [
    {
     "data": {
      "text/html": [
       "<div>\n",
       "<style scoped>\n",
       "    .dataframe tbody tr th:only-of-type {\n",
       "        vertical-align: middle;\n",
       "    }\n",
       "\n",
       "    .dataframe tbody tr th {\n",
       "        vertical-align: top;\n",
       "    }\n",
       "\n",
       "    .dataframe thead th {\n",
       "        text-align: right;\n",
       "    }\n",
       "</style>\n",
       "<table border=\"1\" class=\"dataframe\">\n",
       "  <thead>\n",
       "    <tr style=\"text-align: right;\">\n",
       "      <th></th>\n",
       "      <th>product_name</th>\n",
       "      <th>manufacturer</th>\n",
       "      <th>price</th>\n",
       "      <th>number_of_reviews</th>\n",
       "      <th>number_of_answered_questions</th>\n",
       "      <th>average_review_rating</th>\n",
       "      <th>amazon_category_and_sub_category</th>\n",
       "      <th>description</th>\n",
       "      <th>product_information</th>\n",
       "      <th>product_description</th>\n",
       "      <th>customer_questions_and_answers</th>\n",
       "      <th>customer_reviews</th>\n",
       "      <th>sellers</th>\n",
       "      <th>number_available_in_stock_num</th>\n",
       "      <th>number_available_in_stock_type</th>\n",
       "    </tr>\n",
       "  </thead>\n",
       "  <tbody>\n",
       "    <tr>\n",
       "      <th>0</th>\n",
       "      <td>Hornby 2014 Catalogue</td>\n",
       "      <td>Hornby</td>\n",
       "      <td>3.42</td>\n",
       "      <td>15.0</td>\n",
       "      <td>1.0</td>\n",
       "      <td>4.9</td>\n",
       "      <td>Hobbies &gt; Model Trains &amp; Railway Sets &gt; Rail V...</td>\n",
       "      <td>Product Description Hornby 2014 Catalogue Box ...</td>\n",
       "      <td>Technical Details Item Weight640 g Product Dim...</td>\n",
       "      <td>Product Description Hornby 2014 Catalogue Box ...</td>\n",
       "      <td>Does this catalogue detail all the previous Ho...</td>\n",
       "      <td>Worth Buying For The Pictures Alone (As Ever) ...</td>\n",
       "      <td>{\"seller\"=&gt;[{\"Seller_name_1\"=&gt;\"Amazon.co.uk\", ...</td>\n",
       "      <td>5.0</td>\n",
       "      <td>new</td>\n",
       "    </tr>\n",
       "    <tr>\n",
       "      <th>1</th>\n",
       "      <td>FunkyBuys® Large Christmas Holiday Express Fes...</td>\n",
       "      <td>FunkyBuys</td>\n",
       "      <td>16.99</td>\n",
       "      <td>2.0</td>\n",
       "      <td>1.0</td>\n",
       "      <td>4.5</td>\n",
       "      <td>Hobbies &gt; Model Trains &amp; Railway Sets &gt; Rail V...</td>\n",
       "      <td>Size Name:Large FunkyBuys® Large Christmas Hol...</td>\n",
       "      <td>Technical Details Manufacturer recommended age...</td>\n",
       "      <td>Size Name:Large FunkyBuys® Large Christmas Hol...</td>\n",
       "      <td>can you turn off sounds // hi no you cant turn...</td>\n",
       "      <td>Four Stars // 4.0 // 18 Dec. 2015 // By\\n    \\...</td>\n",
       "      <td>{\"seller\"=&gt;{\"Seller_name_1\"=&gt;\"UHD WHOLESALE\", ...</td>\n",
       "      <td>NaN</td>\n",
       "      <td>NaN</td>\n",
       "    </tr>\n",
       "    <tr>\n",
       "      <th>2</th>\n",
       "      <td>CLASSIC TOY TRAIN SET TRACK CARRIAGES LIGHT EN...</td>\n",
       "      <td>ccf</td>\n",
       "      <td>9.99</td>\n",
       "      <td>17.0</td>\n",
       "      <td>2.0</td>\n",
       "      <td>3.9</td>\n",
       "      <td>Hobbies &gt; Model Trains &amp; Railway Sets &gt; Rail V...</td>\n",
       "      <td>BIG CLASSIC TOY TRAIN SET TRACK CARRIAGE LIGHT...</td>\n",
       "      <td>Technical Details Manufacturer recommended age...</td>\n",
       "      <td>BIG CLASSIC TOY TRAIN SET TRACK CARRIAGE LIGHT...</td>\n",
       "      <td>What is the gauge of the track // Hi Paul.Trut...</td>\n",
       "      <td>**Highly Recommended!** // 5.0 // 26 May 2015 ...</td>\n",
       "      <td>{\"seller\"=&gt;[{\"Seller_name_1\"=&gt;\"DEAL-BOX\", \"Sel...</td>\n",
       "      <td>2.0</td>\n",
       "      <td>new</td>\n",
       "    </tr>\n",
       "    <tr>\n",
       "      <th>3</th>\n",
       "      <td>HORNBY Coach R4410A BR Hawksworth Corridor 3rd</td>\n",
       "      <td>Hornby</td>\n",
       "      <td>39.99</td>\n",
       "      <td>1.0</td>\n",
       "      <td>2.0</td>\n",
       "      <td>5.0</td>\n",
       "      <td>Hobbies &gt; Model Trains &amp; Railway Sets &gt; Rail V...</td>\n",
       "      <td>Hornby 00 Gauge BR Hawksworth 3rd Class W 2107...</td>\n",
       "      <td>Technical Details Item Weight259 g Product Dim...</td>\n",
       "      <td>Hornby 00 Gauge BR Hawksworth 3rd Class W 2107...</td>\n",
       "      <td>NaN</td>\n",
       "      <td>I love it // 5.0 // 22 July 2013 // By\\n    \\n...</td>\n",
       "      <td>NaN</td>\n",
       "      <td>NaN</td>\n",
       "      <td>NaN</td>\n",
       "    </tr>\n",
       "    <tr>\n",
       "      <th>4</th>\n",
       "      <td>Hornby 00 Gauge 0-4-0 Gildenlow Salt Co. Steam...</td>\n",
       "      <td>Hornby</td>\n",
       "      <td>32.19</td>\n",
       "      <td>3.0</td>\n",
       "      <td>2.0</td>\n",
       "      <td>4.7</td>\n",
       "      <td>Hobbies &gt; Model Trains &amp; Railway Sets &gt; Rail V...</td>\n",
       "      <td>Product Description Hornby RailRoad 0-4-0 Gild...</td>\n",
       "      <td>Technical Details Item Weight159 g Product Dim...</td>\n",
       "      <td>Product Description Hornby RailRoad 0-4-0 Gild...</td>\n",
       "      <td>NaN</td>\n",
       "      <td>Birthday present // 5.0 // 14 April 2014 // By...</td>\n",
       "      <td>NaN</td>\n",
       "      <td>NaN</td>\n",
       "      <td>NaN</td>\n",
       "    </tr>\n",
       "    <tr>\n",
       "      <th>...</th>\n",
       "      <td>...</td>\n",
       "      <td>...</td>\n",
       "      <td>...</td>\n",
       "      <td>...</td>\n",
       "      <td>...</td>\n",
       "      <td>...</td>\n",
       "      <td>...</td>\n",
       "      <td>...</td>\n",
       "      <td>...</td>\n",
       "      <td>...</td>\n",
       "      <td>...</td>\n",
       "      <td>...</td>\n",
       "      <td>...</td>\n",
       "      <td>...</td>\n",
       "      <td>...</td>\n",
       "    </tr>\n",
       "    <tr>\n",
       "      <th>9995</th>\n",
       "      <td>Batman 1966 TV Series Action Figures - The Rid...</td>\n",
       "      <td>Mattel</td>\n",
       "      <td>22.95</td>\n",
       "      <td>3.0</td>\n",
       "      <td>3.0</td>\n",
       "      <td>5.0</td>\n",
       "      <td>Hobbies &gt; Collectible Figures &amp; Memorabilia &gt; ...</td>\n",
       "      <td>DC 66 Batman Classic TV Series 6 Inch Riddler ...</td>\n",
       "      <td>Technical Details Item Weight136 g Product Dim...</td>\n",
       "      <td>DC 66 Batman Classic TV Series 6 Inch Riddler ...</td>\n",
       "      <td>NaN</td>\n",
       "      <td>Realistic // 5.0 // 31 Mar. 2014 // By\\n    \\n...</td>\n",
       "      <td>{\"seller\"=&gt;[{\"Seller_name_1\"=&gt;\"Star Action Fig...</td>\n",
       "      <td>5.0</td>\n",
       "      <td>new</td>\n",
       "    </tr>\n",
       "    <tr>\n",
       "      <th>9996</th>\n",
       "      <td>Star Wars Costume, Kids Stormtrooper Costume S...</td>\n",
       "      <td>Star Wars</td>\n",
       "      <td>39.99</td>\n",
       "      <td>1.0</td>\n",
       "      <td>3.0</td>\n",
       "      <td>4.0</td>\n",
       "      <td>Characters &amp; Brands &gt; Star Wars &gt; Toys</td>\n",
       "      <td>NaN</td>\n",
       "      <td>Technical Details    Additional Information AS...</td>\n",
       "      <td>NaN</td>\n",
       "      <td>NaN</td>\n",
       "      <td>... what I see my grandson us going to have fu...</td>\n",
       "      <td>NaN</td>\n",
       "      <td>NaN</td>\n",
       "      <td>NaN</td>\n",
       "    </tr>\n",
       "    <tr>\n",
       "      <th>9997</th>\n",
       "      <td>Defiance Lawkeeper Metal Badge Prop Replica</td>\n",
       "      <td>Olde Scotland Yard Ltd.</td>\n",
       "      <td>43.99</td>\n",
       "      <td>1.0</td>\n",
       "      <td>3.0</td>\n",
       "      <td>5.0</td>\n",
       "      <td>Novelty &amp; Special Use &gt; Novelty &gt; Accessories ...</td>\n",
       "      <td>*Includes 1x Badge with holder and chain *High...</td>\n",
       "      <td>Technical Details Item Weight159 g Product Dim...</td>\n",
       "      <td>*Includes 1x Badge with holder and chain *High...</td>\n",
       "      <td>NaN</td>\n",
       "      <td>Five Stars // 5.0 // 18 Dec. 2015 // By\\n    \\...</td>\n",
       "      <td>{\"seller\"=&gt;[{\"Seller_name_1\"=&gt;\"YUK\", \"Seller_p...</td>\n",
       "      <td>3.0</td>\n",
       "      <td>new</td>\n",
       "    </tr>\n",
       "    <tr>\n",
       "      <th>9998</th>\n",
       "      <td>Justice League of America Series 3 Green Lante...</td>\n",
       "      <td>DC Comics</td>\n",
       "      <td>49.81</td>\n",
       "      <td>1.0</td>\n",
       "      <td>3.0</td>\n",
       "      <td>5.0</td>\n",
       "      <td>Hobbies &gt; Collectible Figures &amp; Memorabilia &gt; ...</td>\n",
       "      <td>Designed by Ed BenesIt's here - the third seri...</td>\n",
       "      <td>Technical Details Item Weight181 g Product Dim...</td>\n",
       "      <td>Designed by Ed BenesIt's here - the third seri...</td>\n",
       "      <td>NaN</td>\n",
       "      <td>The best sculpt in a while // 5.0 // 13 May 20...</td>\n",
       "      <td>{\"seller\"=&gt;[{\"Seller_name_1\"=&gt;\"Smaller World F...</td>\n",
       "      <td>3.0</td>\n",
       "      <td>new</td>\n",
       "    </tr>\n",
       "    <tr>\n",
       "      <th>9999</th>\n",
       "      <td>Star Wars 1/72 Y-Wing Starfighter</td>\n",
       "      <td>Bandai</td>\n",
       "      <td>21.20</td>\n",
       "      <td>11.0</td>\n",
       "      <td>3.0</td>\n",
       "      <td>4.5</td>\n",
       "      <td>Characters &amp; Brands &gt; Star Wars &gt; Toys</td>\n",
       "      <td>NaN</td>\n",
       "      <td>Technical Details Item Weight299 g Product Dim...</td>\n",
       "      <td>NaN</td>\n",
       "      <td>NaN</td>\n",
       "      <td>Gold leader // 5.0 // 31 Aug. 2015 // By\\n    ...</td>\n",
       "      <td>NaN</td>\n",
       "      <td>31.0</td>\n",
       "      <td>new</td>\n",
       "    </tr>\n",
       "  </tbody>\n",
       "</table>\n",
       "<p>10000 rows × 15 columns</p>\n",
       "</div>"
      ],
      "text/plain": [
       "                                           product_name  \\\n",
       "0                                 Hornby 2014 Catalogue   \n",
       "1     FunkyBuys® Large Christmas Holiday Express Fes...   \n",
       "2     CLASSIC TOY TRAIN SET TRACK CARRIAGES LIGHT EN...   \n",
       "3        HORNBY Coach R4410A BR Hawksworth Corridor 3rd   \n",
       "4     Hornby 00 Gauge 0-4-0 Gildenlow Salt Co. Steam...   \n",
       "...                                                 ...   \n",
       "9995  Batman 1966 TV Series Action Figures - The Rid...   \n",
       "9996  Star Wars Costume, Kids Stormtrooper Costume S...   \n",
       "9997        Defiance Lawkeeper Metal Badge Prop Replica   \n",
       "9998  Justice League of America Series 3 Green Lante...   \n",
       "9999                  Star Wars 1/72 Y-Wing Starfighter   \n",
       "\n",
       "                 manufacturer  price  number_of_reviews  \\\n",
       "0                      Hornby   3.42               15.0   \n",
       "1                   FunkyBuys  16.99                2.0   \n",
       "2                         ccf   9.99               17.0   \n",
       "3                      Hornby  39.99                1.0   \n",
       "4                      Hornby  32.19                3.0   \n",
       "...                       ...    ...                ...   \n",
       "9995                   Mattel  22.95                3.0   \n",
       "9996                Star Wars  39.99                1.0   \n",
       "9997  Olde Scotland Yard Ltd.  43.99                1.0   \n",
       "9998                DC Comics  49.81                1.0   \n",
       "9999                   Bandai  21.20               11.0   \n",
       "\n",
       "      number_of_answered_questions  average_review_rating  \\\n",
       "0                              1.0                    4.9   \n",
       "1                              1.0                    4.5   \n",
       "2                              2.0                    3.9   \n",
       "3                              2.0                    5.0   \n",
       "4                              2.0                    4.7   \n",
       "...                            ...                    ...   \n",
       "9995                           3.0                    5.0   \n",
       "9996                           3.0                    4.0   \n",
       "9997                           3.0                    5.0   \n",
       "9998                           3.0                    5.0   \n",
       "9999                           3.0                    4.5   \n",
       "\n",
       "                       amazon_category_and_sub_category  \\\n",
       "0     Hobbies > Model Trains & Railway Sets > Rail V...   \n",
       "1     Hobbies > Model Trains & Railway Sets > Rail V...   \n",
       "2     Hobbies > Model Trains & Railway Sets > Rail V...   \n",
       "3     Hobbies > Model Trains & Railway Sets > Rail V...   \n",
       "4     Hobbies > Model Trains & Railway Sets > Rail V...   \n",
       "...                                                 ...   \n",
       "9995  Hobbies > Collectible Figures & Memorabilia > ...   \n",
       "9996             Characters & Brands > Star Wars > Toys   \n",
       "9997  Novelty & Special Use > Novelty > Accessories ...   \n",
       "9998  Hobbies > Collectible Figures & Memorabilia > ...   \n",
       "9999             Characters & Brands > Star Wars > Toys   \n",
       "\n",
       "                                            description  \\\n",
       "0     Product Description Hornby 2014 Catalogue Box ...   \n",
       "1     Size Name:Large FunkyBuys® Large Christmas Hol...   \n",
       "2     BIG CLASSIC TOY TRAIN SET TRACK CARRIAGE LIGHT...   \n",
       "3     Hornby 00 Gauge BR Hawksworth 3rd Class W 2107...   \n",
       "4     Product Description Hornby RailRoad 0-4-0 Gild...   \n",
       "...                                                 ...   \n",
       "9995  DC 66 Batman Classic TV Series 6 Inch Riddler ...   \n",
       "9996                                                NaN   \n",
       "9997  *Includes 1x Badge with holder and chain *High...   \n",
       "9998  Designed by Ed BenesIt's here - the third seri...   \n",
       "9999                                                NaN   \n",
       "\n",
       "                                    product_information  \\\n",
       "0     Technical Details Item Weight640 g Product Dim...   \n",
       "1     Technical Details Manufacturer recommended age...   \n",
       "2     Technical Details Manufacturer recommended age...   \n",
       "3     Technical Details Item Weight259 g Product Dim...   \n",
       "4     Technical Details Item Weight159 g Product Dim...   \n",
       "...                                                 ...   \n",
       "9995  Technical Details Item Weight136 g Product Dim...   \n",
       "9996  Technical Details    Additional Information AS...   \n",
       "9997  Technical Details Item Weight159 g Product Dim...   \n",
       "9998  Technical Details Item Weight181 g Product Dim...   \n",
       "9999  Technical Details Item Weight299 g Product Dim...   \n",
       "\n",
       "                                    product_description  \\\n",
       "0     Product Description Hornby 2014 Catalogue Box ...   \n",
       "1     Size Name:Large FunkyBuys® Large Christmas Hol...   \n",
       "2     BIG CLASSIC TOY TRAIN SET TRACK CARRIAGE LIGHT...   \n",
       "3     Hornby 00 Gauge BR Hawksworth 3rd Class W 2107...   \n",
       "4     Product Description Hornby RailRoad 0-4-0 Gild...   \n",
       "...                                                 ...   \n",
       "9995  DC 66 Batman Classic TV Series 6 Inch Riddler ...   \n",
       "9996                                                NaN   \n",
       "9997  *Includes 1x Badge with holder and chain *High...   \n",
       "9998  Designed by Ed BenesIt's here - the third seri...   \n",
       "9999                                                NaN   \n",
       "\n",
       "                         customer_questions_and_answers  \\\n",
       "0     Does this catalogue detail all the previous Ho...   \n",
       "1     can you turn off sounds // hi no you cant turn...   \n",
       "2     What is the gauge of the track // Hi Paul.Trut...   \n",
       "3                                                   NaN   \n",
       "4                                                   NaN   \n",
       "...                                                 ...   \n",
       "9995                                                NaN   \n",
       "9996                                                NaN   \n",
       "9997                                                NaN   \n",
       "9998                                                NaN   \n",
       "9999                                                NaN   \n",
       "\n",
       "                                       customer_reviews  \\\n",
       "0     Worth Buying For The Pictures Alone (As Ever) ...   \n",
       "1     Four Stars // 4.0 // 18 Dec. 2015 // By\\n    \\...   \n",
       "2     **Highly Recommended!** // 5.0 // 26 May 2015 ...   \n",
       "3     I love it // 5.0 // 22 July 2013 // By\\n    \\n...   \n",
       "4     Birthday present // 5.0 // 14 April 2014 // By...   \n",
       "...                                                 ...   \n",
       "9995  Realistic // 5.0 // 31 Mar. 2014 // By\\n    \\n...   \n",
       "9996  ... what I see my grandson us going to have fu...   \n",
       "9997  Five Stars // 5.0 // 18 Dec. 2015 // By\\n    \\...   \n",
       "9998  The best sculpt in a while // 5.0 // 13 May 20...   \n",
       "9999  Gold leader // 5.0 // 31 Aug. 2015 // By\\n    ...   \n",
       "\n",
       "                                                sellers  \\\n",
       "0     {\"seller\"=>[{\"Seller_name_1\"=>\"Amazon.co.uk\", ...   \n",
       "1     {\"seller\"=>{\"Seller_name_1\"=>\"UHD WHOLESALE\", ...   \n",
       "2     {\"seller\"=>[{\"Seller_name_1\"=>\"DEAL-BOX\", \"Sel...   \n",
       "3                                                   NaN   \n",
       "4                                                   NaN   \n",
       "...                                                 ...   \n",
       "9995  {\"seller\"=>[{\"Seller_name_1\"=>\"Star Action Fig...   \n",
       "9996                                                NaN   \n",
       "9997  {\"seller\"=>[{\"Seller_name_1\"=>\"YUK\", \"Seller_p...   \n",
       "9998  {\"seller\"=>[{\"Seller_name_1\"=>\"Smaller World F...   \n",
       "9999                                                NaN   \n",
       "\n",
       "      number_available_in_stock_num number_available_in_stock_type  \n",
       "0                               5.0                            new  \n",
       "1                               NaN                            NaN  \n",
       "2                               2.0                            new  \n",
       "3                               NaN                            NaN  \n",
       "4                               NaN                            NaN  \n",
       "...                             ...                            ...  \n",
       "9995                            5.0                            new  \n",
       "9996                            NaN                            NaN  \n",
       "9997                            3.0                            new  \n",
       "9998                            3.0                            new  \n",
       "9999                           31.0                            new  \n",
       "\n",
       "[10000 rows x 15 columns]"
      ]
     },
     "execution_count": 2,
     "metadata": {},
     "output_type": "execute_result"
    }
   ],
   "source": [
    "#This is the cleaned dataframe\n",
    "df"
   ]
  },
  {
   "cell_type": "markdown",
   "metadata": {},
   "source": [
    "## -------------- PRICE -------------- "
   ]
  },
  {
   "cell_type": "code",
   "execution_count": 3,
   "metadata": {},
   "outputs": [
    {
     "name": "stdout",
     "output_type": "stream",
     "text": [
      "3193    8140.30\n",
      "7094    2439.00\n",
      "2228     995.11\n",
      "9176     719.95\n",
      "7679     648.95\n",
      "5663     629.95\n",
      "6090     592.95\n",
      "5894     568.12\n",
      "188      538.73\n",
      "3569     486.95\n",
      "Name: price, dtype: float64\n"
     ]
    },
    {
     "data": {
      "text/plain": [
       "<AxesSubplot:>"
      ]
     },
     "execution_count": 3,
     "metadata": {},
     "output_type": "execute_result"
    },
    {
     "data": {
      "image/png": "[encoded data removed]",
      "text/plain": [
       "<Figure size 432x288 with 1 Axes>"
      ]
     },
     "metadata": {
      "needs_background": "light"
     },
     "output_type": "display_data"
    }
   ],
   "source": [
    "#____PRICE GRAPH____\n",
    "\n",
    "\"\"\"\n",
    "x-axis : index of cell\n",
    "y-axis : price\n",
    "\n",
    "We can clearly see the 3 highest outliers (details described below)\n",
    "\"\"\"\n",
    "\n",
    "#Show the 10 highest prices (index, price)\n",
    "print(df['price'].sort_values(ascending=False).head(10))\n",
    "\n",
    "#\n",
    "df['price'].plot()"
   ]
  },
  {
   "cell_type": "code",
   "execution_count": 4,
   "metadata": {},
   "outputs": [
    {
     "data": {
      "text/plain": [
       "count    8565.000000\n",
       "mean       21.277768\n",
       "std        99.317922\n",
       "min         0.010000\n",
       "25%         4.990000\n",
       "50%        10.640000\n",
       "75%        19.990000\n",
       "max      8140.300000\n",
       "Name: price, dtype: float64"
      ]
     },
     "execution_count": 4,
     "metadata": {},
     "output_type": "execute_result"
    },
    {
     "data": {
      "image/png": "[encoded data removed]",
      "text/plain": [
       "<Figure size 432x288 with 1 Axes>"
      ]
     },
     "metadata": {
      "needs_background": "light"
     },
     "output_type": "display_data"
    }
   ],
   "source": [
    "#We hide the outliers because we can already see them in the previous graph and they would make the boxplot less readable\n",
    "df[['price']].boxplot(showfliers = False)\n",
    "df['price'].describe()"
   ]
  },
  {
   "cell_type": "markdown",
   "metadata": {},
   "source": [
    "#### -------------- PRICE OUTLIERS --------------"
   ]
  },
  {
   "cell_type": "code",
   "execution_count": 5,
   "metadata": {},
   "outputs": [
    {
     "name": "stdout",
     "output_type": "stream",
     "text": [
      "#3193 \n",
      "\n",
      "Raw \n",
      "\n",
      " uniq_id                                                         f2c35a30d2c363d09d0a6b26106f1693\n",
      "product_name                                           Morhsuits Childrens Mr Block Head Costume\n",
      "manufacturer                                                                          Morphsuits\n",
      "price                                                                        £12.60 - £16,268.00\n",
      "number_available_in_stock                                                                    NaN\n",
      "number_of_reviews                                                                              9\n",
      "number_of_answered_questions                                                                  12\n",
      "average_review_rating                                                         4.4 out of 5 stars\n",
      "amazon_category_and_sub_category                                                             NaN\n",
      "customers_who_bought_this_item_also_bought     http://www.amazon.co.uk/Morphsuits | http://ww...\n",
      "description                                    Childrens Novelty Lego Mr Blockhead Morphsuits...\n",
      "product_information                                                                          NaN\n",
      "product_description                            Childrens Novelty Lego Mr Blockhead Morphsuits...\n",
      "items_customers_buy_after_viewing_this_item                                                  NaN\n",
      "customer_questions_and_answers                                                               NaN\n",
      "customer_reviews                               blockhead // 5.0 // 19 Oct. 2015 // By\\n    \\n...\n",
      "sellers                                                                                      NaN\n",
      "Name: 3193, dtype: object \n",
      "\n",
      "\n",
      "Processed \n",
      "\n",
      " product_name                                Morhsuits Childrens Mr Block Head Costume\n",
      "manufacturer                                                               Morphsuits\n",
      "price                                                                          8140.3\n",
      "number_of_reviews                                                                   9\n",
      "number_of_answered_questions                                                       12\n",
      "average_review_rating                                                             4.4\n",
      "amazon_category_and_sub_category                                                  NaN\n",
      "description                         Childrens Novelty Lego Mr Blockhead Morphsuits...\n",
      "product_information                                                               NaN\n",
      "product_description                 Childrens Novelty Lego Mr Blockhead Morphsuits...\n",
      "customer_questions_and_answers                                                    NaN\n",
      "customer_reviews                    blockhead // 5.0 // 19 Oct. 2015 // By\\n    \\n...\n",
      "sellers                                                                           NaN\n",
      "number_available_in_stock_num                                                     NaN\n",
      "number_available_in_stock_type                                                    NaN\n",
      "Name: 3193, dtype: object\n",
      "\n",
      " ------------------------------- \n",
      "\n"
     ]
    }
   ],
   "source": [
    "\"\"\"\n",
    "#3193\n",
    "Strange price outlier at this cell\n",
    "Price : 12.60 - 16 268.00\n",
    "By processing the data, we are changing interval prices in mean -> price[3193] = 8140.30\n",
    "Important to keep an eye on backup dataframe when checking this entry\n",
    "\n",
    "Product is a Lego Morphsuit costume (latex costume)\n",
    "\"\"\"\n",
    "print(\"#3193 \\n\")\n",
    "#Data not processed\n",
    "print(\"Raw \\n\\n\" , df_backup.loc[3193], \"\\n\\n\")\n",
    "#Data processed\n",
    "print(\"Processed \\n\\n\" , df.loc[3193])\n",
    "print('\\n ------------------------------- \\n')"
   ]
  },
  {
   "cell_type": "code",
   "execution_count": 6,
   "metadata": {},
   "outputs": [
    {
     "name": "stdout",
     "output_type": "stream",
     "text": [
      "#7094 \n",
      "\n",
      "Raw \n",
      "\n",
      " uniq_id                                                         75d96583894e50412ba5c0161375fef5\n",
      "product_name                                   Bowen Designs - Marvel Statue Thor Classic Act...\n",
      "manufacturer                                                                       Bowen Designs\n",
      "price                                                                                  £2,439.92\n",
      "number_available_in_stock                                                                  2 new\n",
      "number_of_reviews                                                                              1\n",
      "number_of_answered_questions                                                                   1\n",
      "average_review_rating                                                         4.0 out of 5 stars\n",
      "amazon_category_and_sub_category               Hobbies > Model Trains & Railway Sets > Access...\n",
      "customers_who_bought_this_item_also_bought     http://www.amazon.co.uk/Kotobukiya | http://ww...\n",
      "description                                    Sideshow Collectibles is proud to present the ...\n",
      "product_information                            Technical Details Item Weight6 Kg Product Dime...\n",
      "product_description                            Sideshow Collectibles is proud to present the ...\n",
      "items_customers_buy_after_viewing_this_item                                                  NaN\n",
      "customer_questions_and_answers                                                               NaN\n",
      "customer_reviews                               Thortastic... // 4.0 // 12 Sept. 2012 // By\\n ...\n",
      "sellers                                        {\"seller\"=>[{\"Seller_name_1\"=>\"M and N Media U...\n",
      "Name: 7094, dtype: object \n",
      "\n",
      "\n",
      "Processed \n",
      "\n",
      " product_name                        Bowen Designs - Marvel Statue Thor Classic Act...\n",
      "manufacturer                                                            Bowen Designs\n",
      "price                                                                            2439\n",
      "number_of_reviews                                                                   1\n",
      "number_of_answered_questions                                                        1\n",
      "average_review_rating                                                               4\n",
      "amazon_category_and_sub_category    Hobbies > Model Trains & Railway Sets > Access...\n",
      "description                         Sideshow Collectibles is proud to present the ...\n",
      "product_information                 Technical Details Item Weight6 Kg Product Dime...\n",
      "product_description                 Sideshow Collectibles is proud to present the ...\n",
      "customer_questions_and_answers                                                    NaN\n",
      "customer_reviews                    Thortastic... // 4.0 // 12 Sept. 2012 // By\\n ...\n",
      "sellers                             {\"seller\"=>[{\"Seller_name_1\"=>\"M and N Media U...\n",
      "number_available_in_stock_num                                                       2\n",
      "number_available_in_stock_type                                                    new\n",
      "Name: 7094, dtype: object\n",
      "\n",
      " ------------------------------- \n",
      "\n"
     ]
    }
   ],
   "source": [
    "\"\"\"\n",
    "---------\n",
    "#7094\n",
    "Marvel Thor statue that costs 2439.92\n",
    "\"\"\"\n",
    "print(\"#7094 \\n\")\n",
    "#Data not processed\n",
    "print(\"Raw \\n\\n\" , df_backup.loc[7094], \"\\n\\n\")\n",
    "#Data processed\n",
    "print(\"Processed \\n\\n\" , df.loc[7094])\n",
    "print('\\n ------------------------------- \\n')"
   ]
  },
  {
   "cell_type": "code",
   "execution_count": 7,
   "metadata": {},
   "outputs": [
    {
     "name": "stdout",
     "output_type": "stream",
     "text": [
      "#2228 \n",
      "\n",
      "Raw \n",
      "\n",
      " uniq_id                                                         4f705c302bdcf5d2b0c1df973d98f99f\n",
      "product_name                                                     DJI Phantom 2 with H3-3D Gimbal\n",
      "manufacturer                                                                                 DJI\n",
      "price                                                                                    £995.11\n",
      "number_available_in_stock                                                                 2 used\n",
      "number_of_reviews                                                                              4\n",
      "number_of_answered_questions                                                                  19\n",
      "average_review_rating                                                         5.0 out of 5 stars\n",
      "amazon_category_and_sub_category               Hobbies > Remote Controlled Devices > Helicopt...\n",
      "customers_who_bought_this_item_also_bought     http://www.amazon.co.uk/Propellers | http://ww...\n",
      "description                                    Product Description Including the H3-3D Gimbal...\n",
      "product_information                            Technical Details Item Weight2.5 Kg Product Di...\n",
      "product_description                            Product Description Including the H3-3D Gimbal...\n",
      "items_customers_buy_after_viewing_this_item                                                  NaN\n",
      "customer_questions_and_answers                 Does this come with the gimbal already install...\n",
      "customer_reviews                               Dji // 5.0 // 24 Aug. 2014 // By\\n    \\n    ol...\n",
      "sellers                                        {\"seller\"=>{\"Seller_name_1\"=>\"Amazon.co.uk\", \"...\n",
      "Name: 2228, dtype: object \n",
      "\n",
      "\n",
      "Processed \n",
      "\n",
      " product_name                                          DJI Phantom 2 with H3-3D Gimbal\n",
      "manufacturer                                                                      DJI\n",
      "price                                                                          995.11\n",
      "number_of_reviews                                                                   4\n",
      "number_of_answered_questions                                                       19\n",
      "average_review_rating                                                               5\n",
      "amazon_category_and_sub_category    Hobbies > Remote Controlled Devices > Helicopt...\n",
      "description                         Product Description Including the H3-3D Gimbal...\n",
      "product_information                 Technical Details Item Weight2.5 Kg Product Di...\n",
      "product_description                 Product Description Including the H3-3D Gimbal...\n",
      "customer_questions_and_answers      Does this come with the gimbal already install...\n",
      "customer_reviews                    Dji // 5.0 // 24 Aug. 2014 // By\\n    \\n    ol...\n",
      "sellers                             {\"seller\"=>{\"Seller_name_1\"=>\"Amazon.co.uk\", \"...\n",
      "number_available_in_stock_num                                                       2\n",
      "number_available_in_stock_type                                                   used\n",
      "Name: 2228, dtype: object\n",
      "\n",
      " ------------------------------- \n",
      "\n"
     ]
    }
   ],
   "source": [
    "\"\"\"\n",
    "---------\n",
    "#2228\n",
    "Drone DJI Phantom 2 that costs 995.11\n",
    "\"\"\"\n",
    "print(\"#2228 \\n\")\n",
    "#Data not processed\n",
    "print(\"Raw \\n\\n\" , df_backup.loc[2228], \"\\n\\n\")\n",
    "#Data processed\n",
    "print(\"Processed \\n\\n\" , df.loc[2228])\n",
    "print('\\n ------------------------------- \\n')"
   ]
  },
  {
   "cell_type": "markdown",
   "metadata": {},
   "source": [
    "## -------------- MANUFACTURER -------------- "
   ]
  },
  {
   "cell_type": "code",
   "execution_count": 8,
   "metadata": {},
   "outputs": [
    {
     "name": "stdout",
     "output_type": "stream",
     "text": [
      "Number of unique manufacturer :  2652 \n",
      "\n"
     ]
    },
    {
     "data": {
      "text/html": [
       "<div>\n",
       "<style scoped>\n",
       "    .dataframe tbody tr th:only-of-type {\n",
       "        vertical-align: middle;\n",
       "    }\n",
       "\n",
       "    .dataframe tbody tr th {\n",
       "        vertical-align: top;\n",
       "    }\n",
       "\n",
       "    .dataframe thead th {\n",
       "        text-align: right;\n",
       "    }\n",
       "</style>\n",
       "<table border=\"1\" class=\"dataframe\">\n",
       "  <thead>\n",
       "    <tr style=\"text-align: right;\">\n",
       "      <th></th>\n",
       "      <th>product_name</th>\n",
       "    </tr>\n",
       "    <tr>\n",
       "      <th>manufacturer</th>\n",
       "      <th></th>\n",
       "    </tr>\n",
       "  </thead>\n",
       "  <tbody>\n",
       "    <tr>\n",
       "      <th>LEGO</th>\n",
       "      <td>171</td>\n",
       "    </tr>\n",
       "    <tr>\n",
       "      <th>Disney</th>\n",
       "      <td>167</td>\n",
       "    </tr>\n",
       "    <tr>\n",
       "      <th>Oxford Diecast</th>\n",
       "      <td>156</td>\n",
       "    </tr>\n",
       "    <tr>\n",
       "      <th>Playmobil</th>\n",
       "      <td>147</td>\n",
       "    </tr>\n",
       "    <tr>\n",
       "      <th>Star Wars</th>\n",
       "      <td>120</td>\n",
       "    </tr>\n",
       "    <tr>\n",
       "      <th>Mattel</th>\n",
       "      <td>114</td>\n",
       "    </tr>\n",
       "    <tr>\n",
       "      <th>Hasbro</th>\n",
       "      <td>110</td>\n",
       "    </tr>\n",
       "    <tr>\n",
       "      <th>The Puppet Company</th>\n",
       "      <td>109</td>\n",
       "    </tr>\n",
       "    <tr>\n",
       "      <th>MyTinyWorld</th>\n",
       "      <td>93</td>\n",
       "    </tr>\n",
       "    <tr>\n",
       "      <th>Corgi</th>\n",
       "      <td>90</td>\n",
       "    </tr>\n",
       "  </tbody>\n",
       "</table>\n",
       "</div>"
      ],
      "text/plain": [
       "                    product_name\n",
       "manufacturer                    \n",
       "LEGO                         171\n",
       "Disney                       167\n",
       "Oxford Diecast               156\n",
       "Playmobil                    147\n",
       "Star Wars                    120\n",
       "Mattel                       114\n",
       "Hasbro                       110\n",
       "The Puppet Company           109\n",
       "MyTinyWorld                   93\n",
       "Corgi                         90"
      ]
     },
     "execution_count": 8,
     "metadata": {},
     "output_type": "execute_result"
    }
   ],
   "source": [
    "#____MANUFACTURER GRAPH____\n",
    "\n",
    "\"\"\"\n",
    "The 10 manufacturer with most of the products registered in Amazon\n",
    "\"\"\"\n",
    "\n",
    "manufacturer = df.groupby(['manufacturer']).count()\n",
    "print(\"Number of unique manufacturer : \",len(df['manufacturer'].unique()), \"\\n\")\n",
    "manufacturer[['product_name']].sort_values(ascending = False, by = 'product_name').head(10)"
   ]
  },
  {
   "cell_type": "markdown",
   "metadata": {},
   "source": [
    "## -------------- NUMBER AVAILABLE IN STOCK -------------- "
   ]
  },
  {
   "cell_type": "code",
   "execution_count": 9,
   "metadata": {},
   "outputs": [
    {
     "name": "stdout",
     "output_type": "stream",
     "text": [
      "2497    92.0\n",
      "2483    86.0\n",
      "2535    78.0\n",
      "2518    74.0\n",
      "625     73.0\n",
      "8831    73.0\n",
      "2559    73.0\n",
      "760     72.0\n",
      "2453    71.0\n",
      "8162    70.0\n",
      "Name: number_available_in_stock_num, dtype: float64\n"
     ]
    },
    {
     "data": {
      "text/plain": [
       "<AxesSubplot:>"
      ]
     },
     "execution_count": 9,
     "metadata": {},
     "output_type": "execute_result"
    },
    {
     "data": {
      "image/png": "[encoded data removed]",
      "text/plain": [
       "<Figure size 432x288 with 1 Axes>"
      ]
     },
     "metadata": {
      "needs_background": "light"
     },
     "output_type": "display_data"
    }
   ],
   "source": [
    "#____STOCK NUM GRAPH____\n",
    "\n",
    "\"\"\"\n",
    "x-axis : index of cell\n",
    "y-axis : number available in stock\n",
    "\"\"\"\n",
    "\n",
    "#Show the 10 highest stocks (index, stock)\n",
    "print(df['number_available_in_stock_num'].sort_values(ascending=False).head(10))\n",
    "\n",
    "#\n",
    "df['number_available_in_stock_num'].plot()"
   ]
  },
  {
   "cell_type": "code",
   "execution_count": 10,
   "metadata": {},
   "outputs": [
    {
     "data": {
      "text/plain": [
       "count    7500.000000\n",
       "mean        7.916933\n",
       "std         8.805777\n",
       "min         1.000000\n",
       "25%         3.000000\n",
       "50%         5.000000\n",
       "75%        10.000000\n",
       "max        92.000000\n",
       "Name: number_available_in_stock_num, dtype: float64"
      ]
     },
     "execution_count": 10,
     "metadata": {},
     "output_type": "execute_result"
    },
    {
     "data": {
      "image/png": "[encoded data removed]",
      "text/plain": [
       "<Figure size 432x288 with 1 Axes>"
      ]
     },
     "metadata": {
      "needs_background": "light"
     },
     "output_type": "display_data"
    }
   ],
   "source": [
    "#We hide the outliers because we can already see them in the previous graph and they would make the boxplot less readable\n",
    "df[['number_available_in_stock_num']].boxplot(showfliers = False)\n",
    "df['number_available_in_stock_num'].describe()"
   ]
  },
  {
   "cell_type": "code",
   "execution_count": 11,
   "metadata": {
    "scrolled": true
   },
   "outputs": [
    {
     "data": {
      "image/png": "[encoded data removed]",
      "text/plain": [
       "<Figure size 432x288 with 1 Axes>"
      ]
     },
     "metadata": {
      "needs_background": "light"
     },
     "output_type": "display_data"
    }
   ],
   "source": [
    "#____STOCK TYPE GRAPH____\n",
    "\n",
    "\"\"\"\n",
    "\n",
    "\"\"\"\n",
    "\n",
    "#\n",
    "num_stock_type = df.groupby(['number_available_in_stock_type']).count()[['product_name']]\n",
    "num_stock_type.columns = [\"count\"]\n",
    "\n",
    "labels = num_stock_type.index\n",
    "data = num_stock_type['count'].values\n",
    "\n",
    "x = np.arange(len(labels))  # the label locations\n",
    "width = 0.35  # the width of the bars\n",
    "\n",
    "fig, ax = plt.subplots()\n",
    "rects1 = ax.bar(x, data, width, label='Count')\n",
    "\n",
    "# Add some text for labels, title and custom x-axis tick labels, etc.\n",
    "ax.set_ylabel('Count')\n",
    "ax.set_xticks(x)\n",
    "ax.set_xticklabels(labels, rotation = 10)\n",
    "\n",
    "for rect, label in zip(rects1, data):\n",
    "    height = rect.get_height()\n",
    "    ax.text(rect.get_x() + rect.get_width() / 2, height + 5, label,\n",
    "            ha='center', va='bottom')\n",
    "\n",
    "fig.tight_layout()"
   ]
  },
  {
   "cell_type": "markdown",
   "metadata": {},
   "source": [
    "## -------------- NUMBER OF REVIEWS -------------- "
   ]
  },
  {
   "cell_type": "code",
   "execution_count": 12,
   "metadata": {
    "scrolled": false
   },
   "outputs": [
    {
     "name": "stdout",
     "output_type": "stream",
     "text": [
      "9315    1399.0\n",
      "8872    1040.0\n",
      "1255     802.0\n",
      "9338     690.0\n",
      "1931     649.0\n",
      "1586     600.0\n",
      "7293     585.0\n",
      "6576     561.0\n",
      "1369     518.0\n",
      "4493     517.0\n",
      "Name: number_of_reviews, dtype: float64\n"
     ]
    },
    {
     "data": {
      "text/plain": [
       "<AxesSubplot:>"
      ]
     },
     "execution_count": 12,
     "metadata": {},
     "output_type": "execute_result"
    },
    {
     "data": {
      "image/png": "[encoded data removed]",
      "text/plain": [
       "<Figure size 432x288 with 1 Axes>"
      ]
     },
     "metadata": {
      "needs_background": "light"
     },
     "output_type": "display_data"
    }
   ],
   "source": [
    "#____NUMBER OF REVIEWS GRAPH____\n",
    "\n",
    "\"\"\"\n",
    "x-axis : index of cell\n",
    "y-axis : quantity of reviews\n",
    "\"\"\"\n",
    "\n",
    "#Show the 10 products with highest reviews (index, reviews)\n",
    "print(df['number_of_reviews'].sort_values(ascending=False).head(10))\n",
    "\n",
    "df['number_of_reviews'].plot()"
   ]
  },
  {
   "cell_type": "code",
   "execution_count": 13,
   "metadata": {},
   "outputs": [
    {
     "data": {
      "text/plain": [
       "count    8565.000000\n",
       "mean       21.277768\n",
       "std        99.317922\n",
       "min         0.010000\n",
       "25%         4.990000\n",
       "50%        10.640000\n",
       "75%        19.990000\n",
       "max      8140.300000\n",
       "Name: price, dtype: float64"
      ]
     },
     "execution_count": 13,
     "metadata": {},
     "output_type": "execute_result"
    },
    {
     "data": {
      "image/png": "[encoded data removed]",
      "text/plain": [
       "<Figure size 432x288 with 1 Axes>"
      ]
     },
     "metadata": {
      "needs_background": "light"
     },
     "output_type": "display_data"
    }
   ],
   "source": [
    "df[['price']].boxplot(showfliers = False)\n",
    "df['price'].describe()"
   ]
  },
  {
   "cell_type": "markdown",
   "metadata": {},
   "source": [
    "## -------------- AVERAGE REVIEW RATING -------------- "
   ]
  },
  {
   "cell_type": "code",
   "execution_count": 14,
   "metadata": {
    "scrolled": false
   },
   "outputs": [
    {
     "name": "stdout",
     "output_type": "stream",
     "text": [
      "7090    2.3\n",
      "3883    3.0\n",
      "2829    3.0\n",
      "1422    3.0\n",
      "2206    3.3\n",
      "9825    3.3\n",
      "860     3.5\n",
      "2032    3.5\n",
      "6595    3.6\n",
      "5241    3.6\n",
      "Name: average_review_rating, dtype: float64\n"
     ]
    },
    {
     "data": {
      "text/plain": [
       "<AxesSubplot:>"
      ]
     },
     "execution_count": 14,
     "metadata": {},
     "output_type": "execute_result"
    },
    {
     "data": {
      "image/png": "[encoded data removed]",
      "text/plain": [
       "<Figure size 432x288 with 1 Axes>"
      ]
     },
     "metadata": {
      "needs_background": "light"
     },
     "output_type": "display_data"
    }
   ],
   "source": [
    "#____AVERAGE REVIEW RATING GRAPH____\n",
    "\n",
    "\"\"\"\n",
    "x-axis : index of cell\n",
    "y-axis : review rating\n",
    "\"\"\"\n",
    "\n",
    "#Show the 10 products with lowest review rating (index, reviews)\n",
    "print(df['average_review_rating'].sort_values(ascending=True).head(10))\n",
    "\n",
    "#This graph is very interesting, because it clearly shows the outliers (the products with low review rating)\n",
    "#The blue box represents the large majority of products that have a 4 - 5 stars review rate\n",
    "df['average_review_rating'].plot()"
   ]
  },
  {
   "cell_type": "code",
   "execution_count": 15,
   "metadata": {
    "scrolled": false
   },
   "outputs": [
    {
     "data": {
      "text/plain": [
       "count    9982.000000\n",
       "mean        4.707283\n",
       "std         0.372279\n",
       "min         2.300000\n",
       "25%         4.500000\n",
       "50%         5.000000\n",
       "75%         5.000000\n",
       "max         5.000000\n",
       "Name: average_review_rating, dtype: float64"
      ]
     },
     "execution_count": 15,
     "metadata": {},
     "output_type": "execute_result"
    },
    {
     "data": {
      "image/png": "[encoded data removed]",
      "text/plain": [
       "<Figure size 432x288 with 1 Axes>"
      ]
     },
     "metadata": {
      "needs_background": "light"
     },
     "output_type": "display_data"
    }
   ],
   "source": [
    "df[['average_review_rating']].boxplot(showfliers = True) #We intentionally show the outliers in this boxplot\n",
    "df['average_review_rating'].describe()"
   ]
  },
  {
   "cell_type": "markdown",
   "metadata": {},
   "source": [
    "## -------------- NUMBER ANSWERED QUESTIONS -------------- "
   ]
  },
  {
   "cell_type": "code",
   "execution_count": 16,
   "metadata": {
    "scrolled": false
   },
   "outputs": [
    {
     "name": "stdout",
     "output_type": "stream",
     "text": [
      "1272    39.0\n",
      "1274    39.0\n",
      "1280    39.0\n",
      "1279    39.0\n",
      "1278    39.0\n",
      "1277    39.0\n",
      "1276    39.0\n",
      "1275    39.0\n",
      "1273    39.0\n",
      "1282    39.0\n",
      "1271    39.0\n",
      "1270    39.0\n",
      "1269    39.0\n",
      "1281    39.0\n",
      "1247    28.0\n",
      "1246    28.0\n",
      "1245    28.0\n",
      "1248    28.0\n",
      "1263    23.0\n",
      "1260    23.0\n",
      "Name: number_of_answered_questions, dtype: float64\n"
     ]
    },
    {
     "data": {
      "text/plain": [
       "<AxesSubplot:>"
      ]
     },
     "execution_count": 16,
     "metadata": {},
     "output_type": "execute_result"
    },
    {
     "data": {
      "image/png": "[encoded data removed]",
      "text/plain": [
       "<Figure size 432x288 with 1 Axes>"
      ]
     },
     "metadata": {
      "needs_background": "light"
     },
     "output_type": "display_data"
    }
   ],
   "source": [
    "#____NUMBER OF ANSWERED QUESTIONS GRAPH____\n",
    "\n",
    "\"\"\"\n",
    "x-axis : index of cell\n",
    "y-axis : number of answered questions\n",
    "\"\"\"\n",
    "\n",
    "#Show the 10 products with lowest review rating (index, reviews)\n",
    "print(df['number_of_answered_questions'].sort_values(ascending=False).head(20))\n",
    "\n",
    "#This graph is very interesting, because it clearly shows the outliers (the products with low review rating)\n",
    "#The blue box represents the large majority of products that have a 4 - 5 stars review rate\n",
    "df['number_of_answered_questions'].plot()"
   ]
  },
  {
   "cell_type": "code",
   "execution_count": 17,
   "metadata": {
    "scrolled": false
   },
   "outputs": [
    {
     "data": {
      "text/plain": [
       "count    9235.000000\n",
       "mean        1.834976\n",
       "std         2.517268\n",
       "min         1.000000\n",
       "25%         1.000000\n",
       "50%         1.000000\n",
       "75%         2.000000\n",
       "max        39.000000\n",
       "Name: number_of_answered_questions, dtype: float64"
      ]
     },
     "execution_count": 17,
     "metadata": {},
     "output_type": "execute_result"
    },
    {
     "data": {
      "image/png": "[encoded data removed]",
      "text/plain": [
       "<Figure size 432x288 with 1 Axes>"
      ]
     },
     "metadata": {
      "needs_background": "light"
     },
     "output_type": "display_data"
    }
   ],
   "source": [
    "df[['number_of_answered_questions']].boxplot(showfliers = False)\n",
    "df['number_of_answered_questions'].describe()"
   ]
  },
  {
   "cell_type": "markdown",
   "metadata": {},
   "source": [
    "## -------------- SENTIMENT ANALYSIS -------------- "
   ]
  },
  {
   "cell_type": "code",
   "execution_count": 18,
   "metadata": {},
   "outputs": [
    {
     "name": "stdout",
     "output_type": "stream",
     "text": [
      "Requirement already satisfied: textblob in d:\\programmes\\anaconda\\lib\\site-packages (0.15.3)\n",
      "Requirement already satisfied: nltk>=3.1 in d:\\programmes\\anaconda\\lib\\site-packages (from textblob) (3.5)\n",
      "Requirement already satisfied: click in d:\\programmes\\anaconda\\lib\\site-packages (from nltk>=3.1->textblob) (7.1.2)\n",
      "Requirement already satisfied: joblib in d:\\programmes\\anaconda\\lib\\site-packages (from nltk>=3.1->textblob) (0.17.0)\n",
      "Requirement already satisfied: regex in d:\\programmes\\anaconda\\lib\\site-packages (from nltk>=3.1->textblob) (2020.10.15)\n",
      "Requirement already satisfied: tqdm in d:\\programmes\\anaconda\\lib\\site-packages (from nltk>=3.1->textblob) (4.50.2)\n",
      "Note: you may need to restart the kernel to use updated packages.\n"
     ]
    }
   ],
   "source": [
    "pip install textblob"
   ]
  },
  {
   "cell_type": "raw",
   "metadata": {},
   "source": [
    "We are doing a sentiment analysis by using the TextBlob AI library, that is trained on analyzing sentences.\n",
    "\n",
    "We can see that the sentiment analysis is not perfectly accurate (as seen in cell <= -0.2)\n",
    "These errors are due to the limit of the model which cannot understand perfectly the wording of every humain being.\n",
    "\n",
    "A few incoherences were spotted in the dataset.\n",
    "The reviews extracted from the dataset contain sometimes expressions or words that can be interpreted negatively by the AI\n",
    "-> #2376 \"Nasty catch here\" 4/5 rating (\"Nasty\" understood as a negative word)\n",
    "-> #1121 \"Stop Grievous!\" 5/5 rating (\"Stop\")\n",
    "\n",
    "Also most of the reviews written as \"Five Stars\" are not understood positively by the AI model which again is not trained enough for such exercise : the wording seems very neutral and interprets it to a sentiment value close to 0 and not the real sentiment of the customer (5/5 stars)\n",
    "\n",
    "The use of TextBlob AI is very experimental\n",
    "In the graph below the correlation between the sentiment analysis and the average review rating is very low at 20%"
   ]
  },
  {
   "cell_type": "code",
   "execution_count": 19,
   "metadata": {
    "scrolled": false
   },
   "outputs": [
    {
     "name": "stdout",
     "output_type": "stream",
     "text": [
      "count    9979.000000\n",
      "mean        0.347844\n",
      "std         0.194137\n",
      "min        -0.540625\n",
      "25%         0.221887\n",
      "50%         0.348056\n",
      "75%         0.471168\n",
      "max         1.000000\n",
      "Name: sentiment, dtype: float64\n"
     ]
    },
    {
     "data": {
      "text/html": [
       "<div>\n",
       "<style scoped>\n",
       "    .dataframe tbody tr th:only-of-type {\n",
       "        vertical-align: middle;\n",
       "    }\n",
       "\n",
       "    .dataframe tbody tr th {\n",
       "        vertical-align: top;\n",
       "    }\n",
       "\n",
       "    .dataframe thead th {\n",
       "        text-align: right;\n",
       "    }\n",
       "</style>\n",
       "<table border=\"1\" class=\"dataframe\">\n",
       "  <thead>\n",
       "    <tr style=\"text-align: right;\">\n",
       "      <th></th>\n",
       "      <th>sentiment</th>\n",
       "      <th>average_review_rating</th>\n",
       "    </tr>\n",
       "  </thead>\n",
       "  <tbody>\n",
       "    <tr>\n",
       "      <th>sentiment</th>\n",
       "      <td>1.00000</td>\n",
       "      <td>0.19875</td>\n",
       "    </tr>\n",
       "    <tr>\n",
       "      <th>average_review_rating</th>\n",
       "      <td>0.19875</td>\n",
       "      <td>1.00000</td>\n",
       "    </tr>\n",
       "  </tbody>\n",
       "</table>\n",
       "</div>"
      ],
      "text/plain": [
       "                       sentiment  average_review_rating\n",
       "sentiment                1.00000                0.19875\n",
       "average_review_rating    0.19875                1.00000"
      ]
     },
     "execution_count": 19,
     "metadata": {},
     "output_type": "execute_result"
    },
    {
     "data": {
      "image/png": "[encoded data removed]",
      "text/plain": [
       "<Figure size 432x288 with 1 Axes>"
      ]
     },
     "metadata": {
      "needs_background": "light"
     },
     "output_type": "display_data"
    }
   ],
   "source": [
    "from textblob import TextBlob\n",
    "\n",
    "df['sentiment'] = [sum([TextBlob(sentence).sentiment.polarity for sentence in df['customer_reviews'].loc[i].split(' // ')[::4]]) / len(df['customer_reviews'].loc[i].split(' // ')[::4]) if not pd.isnull(df['customer_reviews'].loc[i]) else np.nan for i in df.index]\n",
    "print(df['sentiment'].describe())\n",
    "df['sentiment'].plot()\n",
    "df[['sentiment','average_review_rating']].corr()"
   ]
  },
  {
   "cell_type": "markdown",
   "metadata": {},
   "source": [
    "### Sentiment analysis = 1 (max positive)"
   ]
  },
  {
   "cell_type": "code",
   "execution_count": 20,
   "metadata": {
    "scrolled": false
   },
   "outputs": [
    {
     "name": "stdout",
     "output_type": "stream",
     "text": [
      "Reviews with a sentiment analysis = 1 :  24\n",
      "\n",
      "\n",
      " ------------ \n",
      "\n",
      "\n",
      "Count of all reviews with sentiment analysis = 1 \n",
      " 704     Best advent calendar we've ever had // 5.0 // ...\n",
      "809     Awesome // 5.0 // 30 Jan. 2015 // By\\n    \\n  ...\n",
      "1231    Excellent // 5.0 // 16 Dec. 2014 // By\\n    \\n...\n",
      "1856    Great!!!! // 5.0 // 18 Nov. 2014 // By\\n    \\n...\n",
      "2106    Arrived on time Aston perfect model and stays ...\n",
      "2378    Perfect, came 2 day of between dates // 5.0 //...\n",
      "3045    Awesome quality! // 5.0 // 5 April 2016 // By\\...\n",
      "3462    Excellent model // 5.0 // 16 Feb. 2015 // By\\n...\n",
      "3465    wonderful // 5.0 // 3 Jan. 2016 // By\\n    \\n ...\n",
      "3655    Superb! // 5.0 // 22 Dec. 2015 // By\\n    \\n  ...\n",
      "3874    Excellent // 5.0 // 28 July 2014 // By\\n    \\n...\n",
      "4014    Very happy. // 5.0 // 20 Jan. 2016 // By\\n    ...\n",
      "5088    Perfect // 5.0 // 15 Jun. 2015 // By\\n    \\n  ...\n",
      "5615    Awesome // 5.0 // 20 Mar. 2016 // By\\n    \\n  ...\n",
      "5789    arrived in excellent wrapped condition // 5.0 ...\n",
      "5856    Excellent // 5.0 // 2 Jan. 2016 // By\\n    \\n ...\n",
      "6149    Excellent Toy, Grandson Loves Dinosaurs so I w...\n",
      "6962    Perfect // 5.0 // 30 Dec. 2014 // By\\n    \\n  ...\n",
      "7394    best puzzles // 5.0 // 5 Mar. 2015 // By\\n    ...\n",
      "7664    Excellent // 5.0 // 26 Oct. 2015 // By\\n    \\n...\n",
      "7986    Excellent // 5.0 // 13 Jan. 2016 // By\\n    \\n...\n",
      "8880    One very happy child is grateful // 5.0 // 2 D...\n",
      "9134    Perfect // 5.0 // 28 Oct. 2013 // By\\n    \\n  ...\n",
      "9647    perfect // 5.0 // 20 Oct. 2014 // By\\n    \\n  ...\n",
      "Name: customer_reviews, dtype: object\n",
      "\n",
      "\n",
      " ------------ \n",
      "\n",
      "\n",
      "Example, Review index 704 \n",
      " Best advent calendar we've ever had // 5.0 // 8 Feb. 2016 // By\n",
      "    \n",
      "    Miss Emma Thompson\n",
      "  \n",
      " on 8 Feb. 2016 // Best advent calendar we've ever had. Breathtaking! Every visitor to our home over Christmas commented on how fab it was.\n"
     ]
    }
   ],
   "source": [
    "print(\"Reviews with a sentiment analysis = 1 : \",df[df['sentiment'] == 1]['customer_reviews'].count())\n",
    "print(\"\\n\\n ------------ \\n\\n\")\n",
    "print(\"Count of all reviews with sentiment analysis = 1 \\n\",df[df['sentiment'] == 1]['customer_reviews'])\n",
    "print(\"\\n\\n ------------ \\n\\n\")\n",
    "print(\"Example, Review index 704 \\n\",df[df['sentiment'] == 1]['customer_reviews'].loc[704])"
   ]
  },
  {
   "cell_type": "markdown",
   "metadata": {},
   "source": [
    "### Sentiment analysis >= 0.5 (highly positive)"
   ]
  },
  {
   "cell_type": "code",
   "execution_count": 21,
   "metadata": {
    "scrolled": false
   },
   "outputs": [
    {
     "name": "stdout",
     "output_type": "stream",
     "text": [
      "Reviews with a sentiment analysis >= 0.5 :  2172\n",
      "\n",
      "\n",
      " ------------ \n",
      "\n",
      "\n",
      "Count of all reviews with sentiment analysis >= 0.5 \n",
      " 1       Four Stars // 4.0 // 18 Dec. 2015 // By\\n    \\...\n",
      "3       I love it // 5.0 // 22 July 2013 // By\\n    \\n...\n",
      "10      steaming good engine! // 5.0 // 11 Jan. 2016 /...\n",
      "13      Gods Wonderful Railway. // 5.0 // 29 Oct. 2014...\n",
      "20      An excellent HO scale diorama piece // 5.0 // ...\n",
      "                              ...                        \n",
      "9981    Perfect fit // 5.0 // 13 Jun. 2015 // By\\n    ...\n",
      "9983    This figure is great, Harley looks adorable //...\n",
      "9984    great mini clone! // 5.0 // 5 April 2013 // By...\n",
      "9992    brilliant sculpt // 5.0 // 13 Sept. 2010 // By...\n",
      "9997    Five Stars // 5.0 // 18 Dec. 2015 // By\\n    \\...\n",
      "Name: customer_reviews, Length: 2172, dtype: object\n",
      "\n",
      "\n",
      " ------------ \n",
      "\n",
      "\n",
      "Example, Review index 1 \n",
      " Four Stars // 4.0 // 18 Dec. 2015 // By\n",
      "    \n",
      "    kenneth bell\n",
      "  \n",
      " on 18 Dec. 2015 // Very happy with the communication with funkybuys | Five Stars // 5.0 // 14 Jan. 2016 // By\n",
      "    \n",
      "    moosixty\n",
      "  \n",
      " on 14 Jan. 2016 // Great buy.\n"
     ]
    }
   ],
   "source": [
    "print(\"Reviews with a sentiment analysis >= 0.5 : \",df[df['sentiment'] >= 0.5]['customer_reviews'].count())\n",
    "print(\"\\n\\n ------------ \\n\\n\")\n",
    "print(\"Count of all reviews with sentiment analysis >= 0.5 \\n\",df[df['sentiment'] >= 0.5]['customer_reviews'])\n",
    "print(\"\\n\\n ------------ \\n\\n\")\n",
    "print(\"Example, Review index 1 \\n\",df[df['sentiment'] >= 0.5]['customer_reviews'].loc[1])"
   ]
  },
  {
   "cell_type": "markdown",
   "metadata": {},
   "source": [
    "### Sentiment analysis <= -0.2 (highly negative)"
   ]
  },
  {
   "cell_type": "code",
   "execution_count": 22,
   "metadata": {
    "scrolled": false
   },
   "outputs": [
    {
     "name": "stdout",
     "output_type": "stream",
     "text": [
      "Reviews with a sentiment analysis <= -0.2 :  30\n",
      "\n",
      "\n",
      " ------------ \n",
      "\n",
      "\n",
      "Count of all reviews with sentiment analysis <= -0.2 \n",
      " 500     Five Stars // 5.0 // 4 April 2016 // By\\n    \\...\n",
      "573     but nothing so bad that it affects the rolls /...\n",
      "1105    my sad sad collection // 5.0 // 9 Nov. 2010 //...\n",
      "1121    \"Stop Grievous!\" // 5.0 // 3 Nov. 2007 // By\\n...\n",
      "1167    Poor value foe money // 5.0 // 17 Jan. 2015 //...\n",
      "1780    bestway lazy turtle // 5.0 // 1 Aug. 2010 // B...\n",
      "2114    Wrong size // 4.0 // 21 Feb. 2016 // By\\n    \\...\n",
      "2161    Drifts a bit too much // 4.0 // 29 Dec. 2015 /...\n",
      "2211    But idid not fit it not your fote the drone .....\n",
      "2217    Seen some pretty bad reviews about GemFan in t...\n",
      "2376    Nasty catch here // 4.0 // 7 Jan. 2016 // By\\n...\n",
      "2777    Crazy Bones England 2010 // 5.0 // 16 Nov. 201...\n",
      "4295    not as described // 5.0 // 6 Sept. 2015 // By\\...\n",
      "4639    Ugly fun.. // 5.0 // 11 Dec. 2014 // By\\n    \\...\n",
      "4886    Five Stars // 5.0 // 26 Oct. 2014 // By\\n    \\...\n",
      "5267    Packaging Issues // 4.0 // 17 Dec. 2013 // By\\...\n",
      "5340    Four Stars // 4.0 // 19 April 2015 // By\\n    ...\n",
      "5580    Five Stars // 5.0 // 30 Dec. 2015 // By\\n    \\...\n",
      "5679    Bookmark // 5.0 // 4 July 2013 // By\\n    \\n  ...\n",
      "5836    My son goes crazy for his Disney Cars collecti...\n",
      "5910    Four Stars // 4.0 // 14 April 2015 // By\\n    ...\n",
      "6501    Menacing! // 5.0 // 30 Jan. 2008 // By\\n    \\n...\n",
      "6694    Four Stars // 4.0 // 9 April 2015 // By\\n    \\...\n",
      "6800    crazy Tower // 4.0 // 11 Aug. 2012 // By\\n    ...\n",
      "7013    DISAPPOINTED IN CLIFF JUMPER // 4.0 // 24 Oct....\n",
      "7039    Beware the base! // 4.0 // 5 April 2015 // By\\...\n",
      "7619    Wicked little motor! // 5.0 // 22 Oct. 2014 //...\n",
      "8034    Wrong sex of doll delivered // 5.0 // 4 April ...\n",
      "8765    FALSE TEETH SET // 4.0 // 25 May 2014 // By\\n ...\n",
      "8795    Four Stars // 4.0 // 13 Oct. 2014 // By\\n    \\...\n",
      "Name: customer_reviews, dtype: object\n",
      "\n",
      "\n",
      " ------------ \n",
      "\n",
      "\n",
      "Example, Review index 19 \n",
      " Five Stars // 5.0 // 4 April 2016 // By\n",
      "    \n",
      "    S Howell\n",
      "  \n",
      " on 4 April 2016 // An expensive but nerdy necessity!\n"
     ]
    }
   ],
   "source": [
    "print(\"Reviews with a sentiment analysis <= -0.2 : \",df[df['sentiment'] <= -0.2]['customer_reviews'].count())\n",
    "print(\"\\n\\n ------------ \\n\\n\")\n",
    "print(\"Count of all reviews with sentiment analysis <= -0.2 \\n\",df[df['sentiment'] <= -0.2]['customer_reviews'])\n",
    "print(\"\\n\\n ------------ \\n\\n\")\n",
    "print(\"Example, Review index 19 \\n\",df[df['sentiment'] <= -0.2]['customer_reviews'].loc[500])"
   ]
  },
  {
   "cell_type": "markdown",
   "metadata": {},
   "source": [
    "\\\n",
    "\\\n",
    "\\\n",
    "\\\n",
    "\\\n",
    "\\\n",
    "\\\n",
    "\\\n",
    "\\\n",
    "\\\n",
    "\\\n",
    "\\\n",
    "## ----- MY DRAFTS -----\n",
    "This is a few functions I used to check information, type of data..\n",
    "They are not very important but I thought that it would be interesting to leave them here."
   ]
  },
  {
   "cell_type": "code",
   "execution_count": 40,
   "metadata": {},
   "outputs": [
    {
     "data": {
      "text/plain": [
       "<AxesSubplot:>"
      ]
     },
     "execution_count": 40,
     "metadata": {},
     "output_type": "execute_result"
    },
    {
     "data": {
      "image/png": "[encoded data removed]",
      "text/plain": [
       "<Figure size 432x288 with 1 Axes>"
      ]
     },
     "metadata": {
      "needs_background": "light"
     },
     "output_type": "display_data"
    }
   ],
   "source": [
    "df[['price','average_review_rating']].plot()"
   ]
  },
  {
   "cell_type": "code",
   "execution_count": 126,
   "metadata": {
    "scrolled": false
   },
   "outputs": [
    {
     "name": "stdout",
     "output_type": "stream",
     "text": [
      "Raw \n",
      "\n",
      " uniq_id                                                         4f705c302bdcf5d2b0c1df973d98f99f\n",
      "product_name                                                     DJI Phantom 2 with H3-3D Gimbal\n",
      "manufacturer                                                                                 DJI\n",
      "price                                                                                    £995.11\n",
      "number_available_in_stock                                                                 2 used\n",
      "number_of_reviews                                                                              4\n",
      "number_of_answered_questions                                                                  19\n",
      "average_review_rating                                                         5.0 out of 5 stars\n",
      "amazon_category_and_sub_category               Hobbies > Remote Controlled Devices > Helicopt...\n",
      "customers_who_bought_this_item_also_bought     http://www.amazon.co.uk/Propellers | http://ww...\n",
      "description                                    Product Description Including the H3-3D Gimbal...\n",
      "product_information                            Technical Details Item Weight2.5 Kg Product Di...\n",
      "product_description                            Product Description Including the H3-3D Gimbal...\n",
      "items_customers_buy_after_viewing_this_item                                                  NaN\n",
      "customer_questions_and_answers                 Does this come with the gimbal already install...\n",
      "customer_reviews                               Dji // 5.0 // 24 Aug. 2014 // By\\n    \\n    ol...\n",
      "sellers                                        {\"seller\"=>{\"Seller_name_1\"=>\"Amazon.co.uk\", \"...\n",
      "Name: 2228, dtype: object \n",
      " \n",
      " --------- \n",
      "\n",
      "Processed \n",
      "\n",
      " product_name                                          DJI Phantom 2 with H3-3D Gimbal\n",
      "manufacturer                                                                      DJI\n",
      "price                                                                          995.11\n",
      "number_of_reviews                                                                   4\n",
      "number_of_answered_questions                                                       19\n",
      "average_review_rating                                                               5\n",
      "amazon_category_and_sub_category    Hobbies > Remote Controlled Devices > Helicopt...\n",
      "description                         Product Description Including the H3-3D Gimbal...\n",
      "product_information                 Technical Details Item Weight2.5 Kg Product Di...\n",
      "product_description                 Product Description Including the H3-3D Gimbal...\n",
      "customer_questions_and_answers      Does this come with the gimbal already install...\n",
      "customer_reviews                    Dji // 5.0 // 24 Aug. 2014 // By\\n    \\n    ol...\n",
      "sellers                             {\"seller\"=>{\"Seller_name_1\"=>\"Amazon.co.uk\", \"...\n",
      "number_available_in_stock_num                                                       2\n",
      "number_available_in_stock_type                                                   used\n",
      "sentiment                                                                    0.370344\n",
      "Name: 2228, dtype: object\n"
     ]
    }
   ],
   "source": [
    "#Outlier tester\n",
    "n = 2228\n",
    "\n",
    "print(\"Raw \\n\\n\" , df_backup.loc[n], \"\\n \\n --------- \\n\")\n",
    "print(\"Processed \\n\\n\" , df.loc[n])"
   ]
  },
  {
   "cell_type": "code",
   "execution_count": 127,
   "metadata": {},
   "outputs": [
    {
     "name": "stdout",
     "output_type": "stream",
     "text": [
      "0       1.0\n",
      "1       1.0\n",
      "2       2.0\n",
      "3       2.0\n",
      "4       2.0\n",
      "       ... \n",
      "9995    3.0\n",
      "9996    3.0\n",
      "9997    3.0\n",
      "9998    3.0\n",
      "9999    3.0\n",
      "Name: number_of_answered_questions, Length: 10000, dtype: float64 \n",
      "\n",
      "count    9235.000000\n",
      "mean        1.834976\n",
      "std         2.517268\n",
      "min         1.000000\n",
      "25%         1.000000\n",
      "50%         1.000000\n",
      "75%         2.000000\n",
      "max        39.000000\n",
      "Name: number_of_answered_questions, dtype: float64\n"
     ]
    }
   ],
   "source": [
    "name = 'number_of_answered_questions'\n",
    "\n",
    "\n",
    "print(df[name], \"\\n\")\n",
    "print(df[name].describe())"
   ]
  },
  {
   "cell_type": "code",
   "execution_count": 128,
   "metadata": {},
   "outputs": [
    {
     "data": {
      "text/plain": [
       "['Worth Buying For The Pictures Alone (As Ever)',\n",
       " \"Part of the magic for me growing up as a boy was to buy (or be given) the new Hornby catalogue every year, even if it included 90% of the same products as the previous year.  I've still got my old ones dating back to the 70s and 80s somewhere.  These days the catalogue is especially informative in that it tells you the vintage of the rolling stock which is useful if you are dedicating your railway to one particular era and train company. | Amazing detail fabulous photography.\",\n",
       " \"Amazing detail, every credit to the photographer in this book, a worthy reference manual, as well as a sales brochure. even if you only have a passing interest in the hobby you will be transported to another time when we were all younger and in awe of the big trains. | 'Great Purchase'\",\n",
       " 'This was purchased on behalf of my Dad. He is always asking me to look up 00 gauge engines online, so this has been a good buy as he can look at it anytime. Would definitely buy the next one 2015!It arrived quickly and in perfect condition :-) | Great Catalogue',\n",
       " 'Everything I really needed to see what was on offer from Hornby in the way of trains.  Would not have minded it included an RRP as well though | I collect them all as the glossy pictures are great and it is nice that you can still get ...',\n",
       " 'I collect them all as the glossy pictures are great and it is nice that you can still get catalogs to collect. | Great catalogue',\n",
       " 'What a great book.  Extremely useful insight to all future christmas presents. | Useful',\n",
       " 'Useful info for someonelike me starting back into the hobby after many years | hornbys latest catalogue.',\n",
       " 'A well produced very good quality catalogue.Super quality pictures.']"
      ]
     },
     "execution_count": 128,
     "metadata": {},
     "output_type": "execute_result"
    }
   ],
   "source": [
    "df['customer_reviews'].loc[0].split(' // ')[::4]"
   ]
  }
 ],
 "metadata": {
  "kernelspec": {
   "display_name": "Python 3",
   "language": "python",
   "name": "python3"
  },
  "language_info": {
   "codemirror_mode": {
    "name": "ipython",
    "version": 3
   },
   "file_extension": ".py",
   "mimetype": "text/x-python",
   "name": "python",
   "nbconvert_exporter": "python",
   "pygments_lexer": "ipython3",
   "version": "3.8.5"
  }
 },
 "nbformat": 4,
 "nbformat_minor": 4
}
